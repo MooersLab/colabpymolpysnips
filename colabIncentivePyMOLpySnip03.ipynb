{
  "nbformat": 4,
  "nbformat_minor": 0,
  "metadata": {
    "colab": {
      "name": "colabIncentivePyMOLpySnip03.ipynb",
      "provenance": [],
      "collapsed_sections": [],
      "toc_visible": true
    },
    "kernelspec": {
      "name": "python3",
      "display_name": "Python 3"
    }
  },
  "cells": [
    {
      "cell_type": "markdown",
      "metadata": {
        "id": "8VnuJhH3xKMm"
      },
      "source": [
       "##installPyMOL",
       "\n",
       "**Colab PyMOL snippets library, 7 December 2021**",
       "\n",
       "Source: https://github.com/MooersLab/colabpymolpysnips",
       "\n",
       "The PyMOL code snippets are embedded in this notebook and are accessed via <> in the left margin. ",
       "First, install this notebook in your Google Drive account and then open the notebook from Colab. ",
       "You may be prompted by Google for permission to do so. ",
       "\n",
       "The URL of the noteobook will include the path to the notebook on Google Drive. ",
       "Enter this addess in `Tools/settings/site` pulldown menu ",
       "on the shaded line labeled `Custom snippet notebook url`. The URL will appear below. ",
       "The snippets will always be availabe when you log into Colab until you remove them from Google Drive. ",
       "\n",
       "The snippet called `installPyMOL` copies your PyMOL license from your Google",
       "Drive into the correct position, installs Anaconda, and then installs PyMOL. ",
       "If you lack a PyMOL license, comment out the last three lines of the code",
       "cell or use the variant of this notebook that installs Open Source PyMOL. ",
       "See the README.md file for the link to the repository for the Open Source variant. ",
       "Clicking on the triangular button in the upper left will execute these steps.",
       "\n",
       "Click the arrow in the upper left to see the code in the code block. ",
       "Click the arrow in the lower left to run the code in the code block. ",
       "The code will run with the code block either hidden or revealed. If the code block is revealed,",
       "a small green arrow in the left margin will point to the current line of code that,",
       "is being executed. In addition, a progress bar will show the install progress. ",
       "The install time can vary from 3 to 10 minutes. ",
       "\n",
       "Google will ask to access your Google Drive unless you comment out the code that loads",
       "the PyMOL license from Google Drive. The message that the session crashed may appear,",
       "but all may still be well.",
       "\n",
       "Run the test code in the testPyMOL snippet. You may get a message that",
       "`PyMOL is not running and has entered the library mode`.",
       "PyMOL is actually running and all will be well.",
       "\n",
       "The installed code can be archived in a tar file, and the tar file can be stored on your Google Drive account.",
       "You can then loaded the tar file in `/content` and untar it. This may be faster and may be immune to changes in",
       "PyMOL or anaconda code.",
       "\n"
      ]
    },
    {
      "cell_type": "code",
      "execution_count": 1,
      "metadata": {
        "colab": {
          "base_uri": "https://localhost:8080/",
          "height": 49,
          "referenced_widgets": [
            "96f079335e774ebbaa4477261ec171e1",
            "41dfdb5dd33a46d98563338c338a31e2",
            "e409c388b8364c2da9d468ad07718c14",
            "46aa272ad47749df9e53af783e647a20",
            "320c3d5b13a24e3a98e430da88782a8c",
            "d43b986a761e4b589b3b2071e2fa01fe",
            "accd6d4cdebc4d49bdf173e4d11f0523",
            "00280f5d8bdf4bc8b5a50bffe4fe43e4",
            "bb2456e95c2e46e2b83a10360f8e52b3",
            "91b6f48439614ddb88dd204f38e02de0",
            "6c4c8d9a37c54ac3b6c7b2ad2d207d24"
          ]
        },
        "id": "e7-vhOUGsquT",
        "outputId": "6b981647-f348-4e71-bb5e-3fb55814ef26"
      },
      "outputs": [
        {
          "output_type": "display_data",
          "data": {
            "application/vnd.jupyter.widget-view+json": {
              "model_id": "96f079335e774ebbaa4477261ec171e1",
              "version_minor": 0,
              "version_major": 2
            },
            "text/plain": [
              "  0%|          | 0/100 [00:00<?, ?it/s]"
            ]
          },
          "metadata": {}
        }
      ],
      "source": [
        "from IPython.utils import io\n",
        "import tqdm.notebook\n",
        "import os",
        "\n",
        "\"\"\"",
        "The PyMOL installation is done inside two nested context managers. This approach\n",
        "was inspired by Dr. Christopher Schlicksup's (of the Phenix group at\n",
        "Lawrence Berkeley National Laboratory) method for installing cctbx\n",
        "in a Colab Notebook. He presented his work on September 1, 2021 at the IUCr\n",
        "Crystallographic Computing School. I adapted Chris's approach here. It replaces my first approach\n",
        "that requires seven steps. My approach was presentated at the SciPy2021 conference\n",
        "in July 2021 and published in the\n",
        "[proceedings](http://conference.scipy.org/proceedings/scipy2021/blaine_mooers.html).\n",
        "The new approach is easier for beginners to use. The old approach is easier to debug\n",
        "and could be used as a back-up approach.\n",
        "\n",
        "\"\"\"",
        "\n",
        "total = 100",
        "\n",
        "with tqdm.notebook.tqdm(total=total) as pbar:\n",
        "    with io.capture_output() as captured:\n",
        "\n",
        "        !pip install -q condacolab\n",
        "        import condacolab\n",
        "        condacolab.install()\n",
        "        pbar.update(10)\n",
        "\n",
        "        import sys\n",
        "        sys.path.append('/usr/local/lib/python3.7/site-packages/')\n",
        "        pbar.update(20)\n",
        "\n",
        "        # Install PyMOL\n",
        "        %shell mamba install -c schrodinger pymol-bundle --yes\n",
        "\n",
        "        pbar.update(90)\n",
        "\n",
        "        # Mount Google Drive and upload your PyMOL license\n",
        "        from google.colab import drive\n",
        "        drive.mount(\"/content/drive\")\n",
        "        %shell cp ./drive/MyDrive/Colab\\ Notebooks/license.lic .\n",
        "        pbar.update(100)\n"
      ]
    },
    {
      "cell_type": "markdown",
      "metadata": {
        "id": "UkPZB5N3x2cm"
      },
      "source": [
        "##testPyMOL",
        "\n",
        "**Test run of PyMOL**",
        "The code below will run a test case of fetching T4 Lysozyme, reorienting it in PyMOL\n",
        "making a png file of it, and loading the png file into the notebook.\n",
        "The png file will be the `/content` folder, which is the default working directory.\n",
        "\n",
        "If you need to rerun this code block, restart the kernel by selecting from the\n",
        "pulldown menu `Runtime/restart runtime` because the prior objects will need to be deleted.\n",
        "\n",
        "If you need to rerun this code block, restart the kernel by selecting from the\n",
        "pulldown menu `Runtime/restart runtime` because the prior objects will need to be deleted.\n"
      ]
    },
    {
      "cell_type": "code",
      "metadata": {
        "id": "Cd0pGk_zx09a"
      },
      "source": [
        "from pymol import cmd\n",
        "from IPython.display import Image\n",
        "cmd.fetch(\"1lw9\")\n",
        "cmd.orient(\"1lw9\")\n",
        "cmd.rotate(\"z\",\"270\")\n",
        "cmd.png(\"test.png\")\n",
        "Image(filename = \"test.png\", unconfined=True)\n"
          ]
    },
    {
    "cell_type": "markdown",
    "metadata": {
      "id": "22d1a38c8ba0"
      },
      "source": [
        "##ao\n",
        "\n",
        "Apply the ambient occlussion effect to get the photorealistic effect.\n",
        "\n",
        "*PyMOL*"
      ]
    },
    {
    "cell_type": "code",
    "metadata": {
      "id": "f6d306655dae"
      },
      "source": [
        "cmd.do(\"set_color oxygen, [1.0,0.4,0.4];\")\n",
        "cmd.do(\"set_color nitrogen, [0.5,0.5,1.0];\")\n",
        "cmd.do(\"remove solvent;\")\n",
        "cmd.do(\"as spheres;\")\n",
        "cmd.do(\"# the 'as' command is a shortcut for show_as\")\n",
        "cmd.do(\"util.cbaw;\")\n",
        "cmd.do(\"# 'cba' represents 'color by atom'. \")\n",
        "cmd.do(\"# The last letter represents the colore of the carbon atom.\")\n",
        "cmd.do(\"bg white;\")\n",
        "cmd.do(\"# bg is an alias for bg_color or background color.\")\n",
        "cmd.do(\"set light_count,10;\")\n",
        "cmd.do(\"# light_count is the number of light sources. \")\n",
        "cmd.do(\"# The max is 10. The defualt is 10.\")\n",
        "cmd.do(\"set spec_count,1;\")\n",
        "cmd.do(\"# Not documented on Wiki.\")\n",
        "cmd.do(\"set shininess, 10;\")\n",
        "cmd.do(\"# sets the shininess of the object.\")\n",
        "cmd.do(\"set specular,0.25;\")\n",
        "cmd.do(\"# Controls the amount of directly reflected light and not the shininess of the reflection.\")\n",
        "cmd.do(\"set ambient,0;\")\n",
        "cmd.do(\"# Controls the amount of ambient light. Default is 0. Ranges from -1 to 1.\")\n",
        "cmd.do(\"set direct,0;  \")\n",
        "cmd.do(\"# Not documented on Wiki.\")\n",
        "cmd.do(\"set reflect,1.5;\")\n",
        "cmd.do(\"# Controls the amount of light reflection and the effect that directional light has on shadows \")\n",
        "cmd.do(\"# and the general lighting of the scene. Default value is 0.5.\")\n",
        "cmd.do(\"set ray_shadow_decay_factor, 0.1;\")\n",
        "cmd.do(\"set ray_shadow_decay_range, 2;\")\n",
        "cmd.do(\"set depth_cue, 0;\")\n",
        "cmd.do(\"ray;\")"
      ]
    },
    {
    "cell_type": "markdown",
    "metadata": {
      "id": "f932bb2ae6fd"
      },
      "source": [
        "##sas\n",
        "\n",
        "Show the solvent excluded surface.\n",
        "\n",
        "*PyMOL*"
      ]
    },
    {
    "cell_type": "code",
    "metadata": {
      "id": "d7b0241a2fb5"
      },
      "source": [
        "cmd.do(\"set surface_solvent, on\")"
      ]
    },
    {
    "cell_type": "markdown",
    "metadata": {
      "id": "15c5a1c8e20f"
      },
      "source": [
        "##ellipcol\n",
        "\n",
        "Set color of thernal ellipsoids. The PDB must have anisotopic temperature factors. See https://pymolwiki.org/index.php/Color_Values for the PyMOL colors.\n",
        "\n",
        "*PyMOL*"
      ]
    },
    {
    "cell_type": "code",
    "metadata": {
      "id": "cc1cf9f0e9d"
      },
      "source": [
        "cmd.do(\"set ellipsoid_color, red;\")"
      ]
    },
    {
    "cell_type": "markdown",
    "metadata": {
      "id": "f993ea2c6a6f"
      },
      "source": [
        "##sigdist\n",
        "\n",
        "Set distance labels to display 2 decimals.\n",
        "\n",
        "*PyMOL*"
      ]
    },
    {
    "cell_type": "code",
    "metadata": {
      "id": "3cc83cca8f54"
      },
      "source": [
        "cmd.do(\"set label_distance_digits, 2;\")"
      ]
    },
    {
    "cell_type": "markdown",
    "metadata": {
      "id": "1904c2b25711"
      },
      "source": [
        "##sigang\n",
        "\n",
        "Set angle labels to display 2 decimals places.\n",
        "\n",
        "*PyMOL*"
      ]
    },
    {
    "cell_type": "code",
    "metadata": {
      "id": "419c7bf3cf6e"
      },
      "source": [
        "cmd.do(\"set label_angle_digits, 2;\")"
      ]
    },
    {
    "cell_type": "markdown",
    "metadata": {
      "id": "2ca44167cba1"
      },
      "source": [
        "##bs\n",
        "\n",
        "Ball and stick representation.\n",
        "\n",
        "*PyMOL*"
      ]
    },
    {
    "cell_type": "code",
    "metadata": {
      "id": "961fa9d12892"
      },
      "source": [
        "cmd.do(\"show sticks;\")\n",
        "cmd.do(\"set stick_radius, 0.12;\")\n",
        "cmd.do(\"set stick_ball, on;\")\n",
        "cmd.do(\"set stick_ball_ratio, 1.9;\")\n",
        "cmd.do(\"show nb_spheres;\")\n",
        "cmd.do(\"set nb_spheres_size=0.33;\")"
      ]
    },
    {
    "cell_type": "markdown",
    "metadata": {
      "id": "f791554cc7cf"
      },
      "source": [
        "##stack\n",
        "\n",
        "Base-stacking figure.\n",
        "\n",
        "*PyMOL*"
      ]
    },
    {
    "cell_type": "code",
    "metadata": {
      "id": "cac38bfce649"
      },
      "source": [
        "cmd.do(\"delete all;\")\n",
        "cmd.do(\"fetch 4PCO, type=pdb,async=0;\")\n",
        "cmd.do(\"select G2G3, ( ((resi 2 or resi 3) and chain A) or ((resi 8 or resi 9) and chain B) );\")\n",
        "cmd.do(\"hide everything, element h; \")\n",
        "cmd.do(\"remove not G2G3;\")\n",
        "cmd.do(\"bg_color white;\")\n",
        "cmd.do(\"show sticks;\")\n",
        "cmd.do(\"set stick_radius=0.14;\")\n",
        "cmd.do(\"set stick_ball, on; \")\n",
        "cmd.do(\"set stick_ball_ratio,1.9;\")\n",
        "cmd.do(\"set_view (-0.75,0.09,0.66,-0.2,0.92,-0.35,-0.64,-0.39,-0.67,-0.0,-0.0,-43.7,7. 24,9.55,11.78,29.46,57.91,-20.0);\")\n",
        "cmd.do(\"hide everything, element H;\")\n",
        "cmd.do(\"select carbon1, element C and (resi 3 or resi 8); \")\n",
        "cmd.do(\"# select lower base pair;\")\n",
        "cmd.do(\"select carbon2, element C and (resi 2 or resi 9);\")\n",
        "cmd.do(\"#select upper base pair;\")\n",
        "cmd.do(\"color gray70,carbon1;\")\n",
        "cmd.do(\"color gray10,carbon2;\")\n",
        "cmd.do(\"space cmyk;\")\n",
        "cmd.do(\"distance hbond1,/4PCO//B/U`9/N3,/4PCO//A/G`2/O6;\")\n",
        "cmd.do(\"distance hbond2,/4PCO//B/U`9/O2,/4PCO//A/G`2/N1;\")\n",
        "cmd.do(\"distance hbond3,/4PCO//A/U`3/N3,/4PCO//B/G`8/O6;\")\n",
        "cmd.do(\"distance hbond4,/4PCO//A/U`3/O2,/4PCO//B/G`8/N1;\")\n",
        "cmd.do(\"color black, hbond1;\")\n",
        "cmd.do(\"color black, hbond2;\")\n",
        "cmd.do(\"color gray70, hbond3;\")\n",
        "cmd.do(\"color gray70, hbond4;\")\n",
        "cmd.do(\"show nb_spheres;\")\n",
        "cmd.do(\"set nb_spheres_size, 0.35;\")\n",
        "cmd.do(\"hide labels;\")\n",
        "cmd.do(\"ray 1600,1000;\")\n",
        "cmd.do(\"png 4PCO.png\")"
      ]
    },
    {
    "cell_type": "markdown",
    "metadata": {
      "id": "d7aa5b569d0"
      },
      "source": [
        "##bu\n",
        "\n",
        "Generate the biological unit using the quat.py script. Edit the path to the file quat.py. You may have to download it from the PyMOL Wiki page.\n",
        "\n",
        "*PyMOL*"
      ]
    },
    {
    "cell_type": "code",
    "metadata": {
      "id": "7fae37791508"
      },
      "source": [
        "cmd.do(\"run ~/Scripts/PyMOLScripts/quat.py;\")\n",
        "cmd.do(\"quat;\")"
      ]
    },
    {
    "cell_type": "markdown",
    "metadata": {
      "id": "6cf8f881b327"
      },
      "source": [
        "##doubleBond\n",
        "\n",
        "Valence bond.\n",
        "\n",
        "*PyMOL*"
      ]
    },
    {
    "cell_type": "code",
    "metadata": {
      "id": "c23fa68ec940"
      },
      "source": [
        "cmd.do(\"set valence, 1; \")\n",
        "cmd.do(\"set valence_mode, 1;\")"
      ]
    },
    {
    "cell_type": "markdown",
    "metadata": {
      "id": "53d528f0169a"
      },
      "source": [
        "##cblind\n",
        "\n",
        "Apply color blind friendly to ribbon diagrams. Edit the path to the Pymol-script-repo in your computer account. See PyMOL wiki for more information about the Pymol-script-reo.\n",
        "\n",
        "*PyMOL*"
      ]
    },
    {
    "cell_type": "code",
    "metadata": {
      "id": "a73fa2678e57"
      },
      "source": [
        "cmd.do(\"run ~/Pymol-script-repo/colorblindfriendly.py;\")\n",
        "cmd.do(\"as cartoon;\")\n",
        "cmd.do(\"color cb_red, ss H;\")\n",
        "cmd.do(\"color cb_yellow,ss S;\")\n",
        "cmd.do(\"color cb_green, ss L+;\")"
      ]
    },
    {
    "cell_type": "markdown",
    "metadata": {
      "id": "5cf0468ab20f"
      },
      "source": [
        "##centerpi\n",
        "\n",
        "Center pi. Edit the atoms selected for positioning the pseudoatom.\n",
        "\n",
        "*PyMOL*"
      ]
    },
    {
    "cell_type": "code",
    "metadata": {
      "id": "3ca35c0167c6"
      },
      "source": [
        "cmd.do(\"pseudoatom pi_cent,/3nd3/A/U`15/cg+cz;\")\n",
        "cmd.do(\"dist pi_cent////ps1, b/U`15/aaa;\")"
      ]
    },
    {
    "cell_type": "markdown",
    "metadata": {
      "id": "9683b1668a20"
      },
      "source": [
        "##cribbon\n",
        "\n",
        "Color ribbon H red, strand yellow, loop green.\n",
        "\n",
        "*PyMOL*"
      ]
    },
    {
    "cell_type": "code",
    "metadata": {
      "id": "b11f02c59ac4"
      },
      "source": [
        "cmd.do(\"as cartoon;\")\n",
        "cmd.do(\"color red, ss H;\")\n",
        "cmd.do(\"color yellow,ss S;\")\n",
        "cmd.do(\"color green, ss L+;\")"
      ]
    },
    {
    "cell_type": "markdown",
    "metadata": {
      "id": "12172a2f3609"
      },
      "source": [
        "##cspheres\n",
        "\n",
        "Colored spheres.\n",
        "\n",
        "*PyMOL*"
      ]
    },
    {
    "cell_type": "code",
    "metadata": {
      "id": "4a4a562eb0a8"
      },
      "source": [
        "cmd.do(\"as spheres;\")\n",
        "cmd.do(\"color gray30, chain A;\")\n",
        "cmd.do(\"color white, chain B;\")\n",
        "cmd.do(\"color green, name CL;\")\n",
        "cmd.do(\"color brown, resn NAG;\")\n",
        "cmd.do(\"color red, resi 381;\")\n",
        "cmd.do(\"remove solvent;\")\n",
        "cmd.do(\"set specular, 0;\")\n",
        "cmd.do(\"set ray_trace_gain, 0;\")\n",
        "cmd.do(\"set ray_trace_mode, 3;\")\n",
        "cmd.do(\"bg_color white;\")\n",
        "cmd.do(\"set ray_trace_color, black;\")\n",
        "cmd.do(\"set depth_cue,0;\")"
      ]
    },
    {
    "cell_type": "markdown",
    "metadata": {
      "id": "c2a0d8aaa555"
      },
      "source": [
        "##coordinate\n",
        "\n",
        "Coordinate covalent bonds to metals and H-bonds from RNA.\n",
        "\n",
        "*PyMOL*"
      ]
    },
    {
    "cell_type": "code",
    "metadata": {
      "id": "a213ade5909c"
      },
      "source": [
        "cmd.do(\"viewport 900,600;\")\n",
        "cmd.do(\"fetch 3nd4, type=pdb, async=0;\")\n",
        "cmd.do(\"run ~/Scripts/PyMOLScripts/quat.py;\")\n",
        "cmd.do(\"quat 3nd4;\")\n",
        "cmd.do(\"show sticks;\")\n",
        "cmd.do(\"set stick_radius=0.125;\")\n",
        "cmd.do(\"hide everything, name H*;\")\n",
        "cmd.do(\"bg_color white;\")\n",
        "cmd.do(\"create coorCov, (3nd4_1 and (resi 19 or resi 119 or resi 219 or resi 319 or resi 419 or resi 519 or (resi 3 and name N7)));\")\n",
        "cmd.do(\"bond (coorCov//A/NA`19/NA),(coorCov//A/A`3/N7);\")\n",
        "cmd.do(\"bond (coorCov//A/NA`19/NA),(coorCov//A/HOH`119/O);\")\n",
        "cmd.do(\"bond (coorCov//A/NA`19/NA),(coorCov//A/HOH`219/O);\")\n",
        "cmd.do(\"bond (coorCov//A/NA`19/NA),(coorCov//A/HOH`319/O);\")\n",
        "cmd.do(\"bond (coorCov//A/NA`19/NA),(coorCov//A/HOH`519/O);\")\n",
        "cmd.do(\"distance (3nd4_1 and chain Aand resi 19 and name NA), (3nd4_1 and chain A and resi 519);\")\n",
        "cmd.do(\"distance (3nd4_1 and chain A and resi 19 and name NA), (3nd4_1 and chain A and resi 419);\")\n",
        "cmd.do(\"distance (3nd4_1 and chain A and resi 19 and name NA), (3nd4_1 and chain A and resi 319);\")\n",
        "cmd.do(\"distance (3nd4_1 and chain A and resi 19 and name NA), (3nd4_1 and chain A and resi 219);\")\n",
        "cmd.do(\"show nb_spheres; \")\n",
        "cmd.do(\"set nb_spheres_size, .35;\")\n",
        "cmd.do(\"distance hbond1,/3nd4_1/1/A/HOH`119/O, /3nd4_1/1/A/A`3/OP2;\")\n",
        "cmd.do(\"distance hbond2,/3nd4_1/1/A/HOH`319/O, /3nd4_1/1/A/A`3/OP2;\")\n",
        "cmd.do(\"distance hbond3,/3nd4_1/1/A/HOH`91/O,/3nd4_1/1/A/HOH`119/O;\")\n",
        "cmd.do(\"distance hbond4,/3nd4_1/1/A/G`4/N7,/3nd4_1/1/A/HOH`91/O;\")\n",
        "cmd.do(\"distance hbond5,/3nd4_1/1/A/G`4/O6, /3nd4_1/1/A/HOH`419/O;\")\n",
        "cmd.do(\"distance hbond6,/3nd4_1/1/A/HOH`91/O,/3nd4_1/1/A/G`4/OP2;\")\n",
        "cmd.do(\"distance hbond7,/3nd4_1/1/A/HOH`319/O,/3nd4_1/1/A/G`2/OP2;\")\n",
        "cmd.do(\"distance  hbond9,/3nd4_1/1/A/HOH`419/O,/3nd4_2/2/A/HOH`74/O;\")\n",
        "cmd.do(\"distance hbond10,/3nd4_2/2/A/C`15/O2,/3nd4_1/1/A/G`2/N2;\")\n",
        "cmd.do(\"distance hbond11, /3nd4_2/2/A/C`15/N3,/3nd4_1/1/A/G`2/N1;\")\n",
        "cmd.do(\"distance hbond12,/3nd4_2/2/A/C`15/N4,/3nd4_1/1/A/G`2/O6;\")\n",
        "cmd.do(\"distance hbond13, /3nd4_2/2/A/U`14/N3,/3nd4_1/1/A/A`3/N1;\")\n",
        "cmd.do(\"distance hbond14,3nd4_2/2/A/U`14/O4,/3nd4_1/1/A/A`3/N6;\")\n",
        "cmd.do(\"distance hbond15, /3nd4_2/2/A/C`13/N4,/3nd4_1/1/A/G`4/O6;\")\n",
        "cmd.do(\" distance hbond16,/3nd4_2/2/A/C`13/N3, /3nd4_1/1/A/G`4/N1;\")\n",
        "cmd.do(\"distance hbond17, /3nd4_1/1/A/G`4/N2,/3nd4_2/2/A/C`13/O2;\")\n",
        "cmd.do(\"distance hbond18,/3nd4_1/1/A/G`2/N2,/3nd4_2/2/A/C`15/O2;\")\n",
        "cmd.do(\"distance hbond19,/3nd4_1/1/A/HOH`91/O,/3nd4_1/1/A/G`4/OP2;    \")\n",
        "cmd.do(\"set depth_cue=0;\")\n",
        "cmd.do(\"set ray_trace_fog=0;\")\n",
        "cmd.do(\"set dash_color, black;\")\n",
        "cmd.do(\"set label_font_id, 5;\")\n",
        "cmd.do(\"set label_size, 36;\")\n",
        "cmd.do(\"set label_position, (0.5, 1.0, 2.0);\")\n",
        "cmd.do(\"set label_color, black;\")\n",
        "cmd.do(\"set dash_gap, 0.2;\")\n",
        "cmd.do(\"set dash_width, 2.0;\")\n",
        "cmd.do(\"set dash_length, 0.2;\")\n",
        "cmd.do(\"set label_color, black;\")\n",
        "cmd.do(\"set dash_gap, 0.2;\")\n",
        "cmd.do(\"set dash_width, 2.0;\")\n",
        "cmd.do(\"set dash_length, 0.2;\")\n",
        "cmd.do(\"select carbon, element C;\")\n",
        "cmd.do(\"color yellow, carbon;\")\n",
        "cmd.do(\"disable carbon;\")\n",
        "cmd.do(\"set_view(-0.9,0.34,-0.26,0.33,0.18,-0.93,-0.27,-0.92,-0.28,-0.07,-0.23,-27.83,8.63,19.85,13.2,16.0,31.63,-20.0)\")"
      ]
    },
    {
    "cell_type": "markdown",
    "metadata": {
      "id": "55d867c1aac4"
      },
      "source": [
        "##distance\n",
        "\n",
        "H-bond distance between a H-bond donor and acceptor. Edit the name for the ditance, the selection criteria for atom 1, and the selection criteria for atom 2.\n",
        "\n",
        "*PyMOL*"
      ]
    },
    {
    "cell_type": "code",
    "metadata": {
      "id": "39180ca7ec89"
      },
      "source": [
        "cmd.do(\"# Edit the name for the ditance, the selection criteria for atom 1, and the selection criteria for atom 2.;\")\n",
        "cmd.do(\"distance dist3, /rcsb074137//B/IOD`605/I`B, /rcsb074137//B/IOD`605/I`A;\")"
      ]
    },
    {
    "cell_type": "markdown",
    "metadata": {
      "id": "c60cb4077334"
      },
      "source": [
        "##drawHbonds\n",
        "\n",
        "Display H-bonds as dashes colored black.\n",
        "\n",
        "*PyMOL*"
      ]
    },
    {
    "cell_type": "code",
    "metadata": {
      "id": "cc71e28b4b20"
      },
      "source": [
        "cmd.do(\"hide everything, hydrogens;\")\n",
        "cmd.do(\"hide labels;\")\n",
        "cmd.do(\"# set the color of the dashed lines representing the H-bond.;\")\n",
        "cmd.do(\"set dash_color, black;\")\n",
        "cmd.do(\"set dash_gap, 0.4;\")\n",
        "cmd.do(\"set dash_radius, 0.08;\")"
      ]
    },
    {
    "cell_type": "markdown",
    "metadata": {
      "id": "1fba63d49df5"
      },
      "source": [
        "##carvedIsomesh\n",
        "\n",
        "Carved isomesh representation of electron density.\n",
        "\n",
        "*PyMOL*"
      ]
    },
    {
    "cell_type": "code",
    "metadata": {
      "id": "bd337bfbbdf6"
      },
      "source": [
        "cmd.do(\"delete all;\")\n",
        "cmd.do(\"# Fetch the coordinates. Need internet connection.\")\n",
        "cmd.do(\"fetch 4dgr, async=0;\")\n",
        "cmd.do(\"# Fetch the electron density map.\")\n",
        "cmd.do(\"fetch 4dgr, type=2fofc,async=0;\")\n",
        "cmd.do(\"# create a selection out of the glycan\")\n",
        "cmd.do(\"select LongGlycan, resi 469:477;\")\n",
        "cmd.do(\"orient LongGlycan;\")\n",
        "cmd.do(\"remove not LongGlycan;\")\n",
        "cmd.do(\"remove name H*;\")\n",
        "cmd.do(\"isomesh 2fofcmap, 4dgr_2fofc, 1, LongGlycan, carve = 1.8;\")\n",
        "cmd.do(\"color density, 2fofcmap; \")\n",
        "cmd.do(\"show sticks;\")\n",
        "cmd.do(\"show spheres;\")\n",
        "cmd.do(\"set stick_radius, .07;\")\n",
        "cmd.do(\"set sphere_scale, .19;\")\n",
        "cmd.do(\"set sphere_scale, .13, elem H;\")\n",
        "cmd.do(\"set bg_rgb=[1, 1, 1];\")\n",
        "cmd.do(\"set stick_quality, 50;\")\n",
        "cmd.do(\"set sphere_quality, 4;\")\n",
        "cmd.do(\"color gray85, elem C;\")\n",
        "cmd.do(\"color red, elem O;\")\n",
        "cmd.do(\"color slate, elem N;\")\n",
        "cmd.do(\"color gray98, elem H;\")\n",
        "cmd.do(\"set stick_color, gray50;\")\n",
        "cmd.do(\"set ray_trace_mode, 1;\")\n",
        "cmd.do(\"set ray_texture, 2;\")\n",
        "cmd.do(\"set antialias, 3;\")\n",
        "cmd.do(\"set ambient, 0.5;\")\n",
        "cmd.do(\"set spec_count, 5;\")\n",
        "cmd.do(\"set shininess, 50;\")\n",
        "cmd.do(\"set specular, 1;\")\n",
        "cmd.do(\"set reflect, .1;\")\n",
        "cmd.do(\"set dash_gap, 0;\")\n",
        "cmd.do(\"set dash_color, black;\")\n",
        "cmd.do(\"set dash_gap, .15;\")\n",
        "cmd.do(\"set dash_length, .05;\")\n",
        "cmd.do(\"set dash_round_ends, 0;\")\n",
        "cmd.do(\"set dash_radius, .05;\")\n",
        "cmd.do(\"set_view (0.34,-0.72,0.61,0.8,0.56,0.22,-0.51,0.4,0.77,0.0,0.0,-81.31,44.64,-9.02,58.62,65.34,97.28,-20.0);\")\n",
        "cmd.do(\"preset.ball_and_stick('all',mode=1);\")\n",
        "cmd.do(\"draw;\")"
      ]
    },
    {
    "cell_type": "markdown",
    "metadata": {
      "id": "2eab7d15744d"
      },
      "source": [
        "##fetch2FoFcIsomesh\n",
        "\n",
        "Fetch 2FoFc map as an isomesh.\n",
        "\n",
        "*PyMOL*"
      ]
    },
    {
    "cell_type": "code",
    "metadata": {
      "id": "d67cd0bd3693"
      },
      "source": [
        "cmd.do(\"fetch 3nd4, 3nd4_2fofc, type=2fofc, async=0;\")\n",
        "cmd.do(\"isomesh 2fofcmap, 3nd4_2fofc, 1, 3nd4, carve = 1.8;\")"
      ]
    },
    {
    "cell_type": "markdown",
    "metadata": {
      "id": "3a2216d61283"
      },
      "source": [
        "##fetchCIF\n",
        "\n",
        "Fetch the atomic coordinates as a cif file from the PDB.\n",
        "\n",
        "*PyMOL*"
      ]
    },
    {
    "cell_type": "code",
    "metadata": {
      "id": "b2fda89ac0f5"
      },
      "source": [
        "cmd.do(\"fetch 3nd4, type=cif, async=0;\")"
      ]
    },
    {
    "cell_type": "markdown",
    "metadata": {
      "id": "9622cfcc1557"
      },
      "source": [
        "##fetchFoFc\n",
        "\n",
        "Fetch fofc map from the PDB.\n",
        "\n",
        "*PyMOL*"
      ]
    },
    {
    "cell_type": "code",
    "metadata": {
      "id": "e8527c4790a3"
      },
      "source": [
        "cmd.do(\"fetch 3nd4,  3nd4_fofc, type=fofc, async=0;\")"
      ]
    },
    {
    "cell_type": "markdown",
    "metadata": {
      "id": "495e95fa0dbc"
      },
      "source": [
        "##filledRing\n",
        "\n",
        "Filled rings in nucleic acids.\n",
        "\n",
        "*PyMOL*"
      ]
    },
    {
    "cell_type": "code",
    "metadata": {
      "id": "4b2d0193de33"
      },
      "source": [
        "cmd.do(\"show sticks;set cartoon_ring_mode, 3;\")\n",
        "cmd.do(\"set cartoon_ring_finder, 1;\")\n",
        "cmd.do(\"set cartoon_ladder_mode, 1;\")\n",
        "cmd.do(\"set cartoon_nucleic_acid_mode, 4;\")\n",
        "cmd.do(\"set cartoon_ring_transparency, 0.5;\")\n",
        "cmd.do(\"as cartoon;\")"
      ]
    },
    {
    "cell_type": "markdown",
    "metadata": {
      "id": "2017f7243bc2"
      },
      "source": [
        "##getCoordinates\n",
        "\n",
        "Get coordinates.\n",
        "\n",
        "*PyMOL*"
      ]
    },
    {
    "cell_type": "code",
    "metadata": {
      "id": "a0a88f34e113"
      },
      "source": [
        "cmd.do(\"print cmd.get_atom_coords(\\'/4PCO//B/G`8/OP2\\');\")"
      ]
    },
    {
    "cell_type": "markdown",
    "metadata": {
      "id": "8b147a9897a1"
      },
      "source": [
        "##hbonddash\n",
        "\n",
        "Set up H-bond dashes.\n",
        "\n",
        "*PyMOL*"
      ]
    },
    {
    "cell_type": "code",
    "metadata": {
      "id": "f918fb6147c1"
      },
      "source": [
        "cmd.do(\"hide everything, hydrogens;\")\n",
        "cmd.do(\"hide labels;\")\n",
        "cmd.do(\"set dash_color, black; \")\n",
        "cmd.do(\"set dash_gap, 0.4;\")\n",
        "cmd.do(\"set dash_radius, 0.08;\")"
      ]
    },
    {
    "cell_type": "markdown",
    "metadata": {
      "id": "cdcf03eb7abc"
      },
      "source": [
        "##hidealtloc\n",
        "\n",
        "Hide the partially occupied atoms with the part b alternate locator.\n",
        "\n",
        "*PyMOL*"
      ]
    },
    {
    "cell_type": "code",
    "metadata": {
      "id": "11cca425e18c"
      },
      "source": [
        "cmd.do(\"select altconf, alt b  # select B alternative locators;\")\n",
        "cmd.do(\"hide everything, altconf  # hide alt B locators;\")"
      ]
    },
    {
    "cell_type": "markdown",
    "metadata": {
      "id": "f927511c3543"
      },
      "source": [
        "##labelResnResi\n",
        "\n",
        "Label CA atom with single-letter residue name and residue number.\n",
        "\n",
        "*PyMOL*"
      ]
    },
    {
    "cell_type": "code",
    "metadata": {
      "id": "5cf6c8f9aaea"
      },
      "source": [
        "cmd.do(\"label name ca, '%s%s' %(one_letter[resn],resi);\")"
      ]
    },
    {
    "cell_type": "markdown",
    "metadata": {
      "id": "91cef8da3ea2"
      },
      "source": [
        "##labelSS\n",
        "\n",
        "Label SS.\n",
        "\n",
        "*PyMOL*"
      ]
    },
    {
    "cell_type": "code",
    "metadata": {
      "id": "ba1fd61530b8"
      },
      "source": [
        "cmd.do(\"alter chain A, ss='helix';\")\n",
        "cmd.do(\"label (%2),'%3';\")"
      ]
    },
    {
    "cell_type": "markdown",
    "metadata": {
      "id": "f2e037eb4366"
      },
      "source": [
        "##loadPDBbs\n",
        "\n",
        "Load PDB ball-and-stick.\n",
        "\n",
        "*PyMOL*"
      ]
    },
    {
    "cell_type": "code",
    "metadata": {
      "id": "193a077c60ae"
      },
      "source": [
        "cmd.do(\"fetch 3nd3,name=3nd3, type=pdb, async=0;\")\n",
        "cmd.do(\"hide (name H*);\")\n",
        "cmd.do(\"hide lines;\")\n",
        "cmd.do(\"show sticks;\")\n",
        "cmd.do(\"set stick_radius, 1.2;\")\n",
        "cmd.do(\"set nb_sphere_radius, 0.35;\")\n",
        "cmd.do(\"orient;\")"
      ]
    },
    {
    "cell_type": "markdown",
    "metadata": {
      "id": "9170a4e62521"
      },
      "source": [
        "##loadPDBnb\n",
        "\n",
        "Load PDB nb spheres.\n",
        "\n",
        "*PyMOL*"
      ]
    },
    {
    "cell_type": "code",
    "metadata": {
      "id": "5a4870293f42"
      },
      "source": [
        "cmd.do(\"fetch 3nd3, name=3nd3, type=pdb, async=0;\")\n",
        "cmd.do(\"orient;\")\n",
        "cmd.do(\"set stick_radius, 1.2;\")\n",
        "cmd.do(\"hide (name H*);\")\n",
        "cmd.do(\"set nb_sphere_size, 0.35;\")\n",
        "cmd.do(\"set nb_spheres_quality, 1;\")\n",
        "cmd.do(\"show nb_spheres;\")"
      ]
    },
    {
    "cell_type": "markdown",
    "metadata": {
      "id": "51666486143"
      },
      "source": [
        "##ms\n",
        "\n",
        "Measure surface area of the selection with the msms_pymol.py script.\n",
        "\n",
        "*PyMOL*"
      ]
    },
    {
    "cell_type": "code",
    "metadata": {
      "id": "a4f60b7cb6c7"
      },
      "source": [
        "cmd.do(\"fetch 3nd3, name=3nd3, type=pdb, async=0;\")\n",
        "cmd.do(\"select temp, 3nd3 and chain A;\")\n",
        "cmd.do(\"run /Users/blaine-mooers/Scripts/PyMOLScripts/msms_pymol.py;\")\n",
        "cmd.do(\"calc_msms_area temp;\")"
      ]
    },
    {
    "cell_type": "markdown",
    "metadata": {
      "id": "c5ec910b0dd9"
      },
      "source": [
        "##molscriptRibbon\n",
        "\n",
        "Show cartoon in the style of Molscript ribbons.\n",
        "\n",
        "*PyMOL*"
      ]
    },
    {
    "cell_type": "code",
    "metadata": {
      "id": "815291e22120"
      },
      "source": [
        "cmd.do(\"set cartoon_highlight_color, grey;\")\n",
        "cmd.do(\"show cartoon;\")\n",
        "cmd.do(\"set cartoon_flat_sheets, 0;\")\n",
        "cmd.do(\"set cartoon_smooth_loops, 0;\")\n",
        "cmd.do(\"set cartoon_fancy_helices, 1;\")"
      ]
    },
    {
    "cell_type": "markdown",
    "metadata": {
      "id": "48db257f9192"
      },
      "source": [
        "##oneLetter\n",
        "\n",
        "Switch from three letter code to one-letter code for amino acids.\n",
        "\n",
        "*PyMOL*"
      ]
    },
    {
    "cell_type": "code",
    "metadata": {
      "id": "2de1da2807fa"
      },
      "source": [
        "cmd.do(\"one_leVer%={'VAL':'V',%'ILE':'I',%'LEU':'L',%'GLU':'E',%'GLN':'Q','ASP':'D',%'ASN':'N',%'HIS':'H',%'TRP':'W',%'PHE':'F',%'TYR':'Y',%'ARG':'R',%'LYS':'K',%'SER':'S',%'THR':'T',%'MET':'M',%'ALA':'A',%'GLY':'G',%'PRO':'P',%'CYS':'C'%\")"
      ]
    },
    {
    "cell_type": "markdown",
    "metadata": {
      "id": "660c538e5782"
      },
      "source": [
        "##fasta\n",
        "\n",
        "Print Fasta from PDB file.\n",
        "\n",
        "*PyMOL*"
      ]
    },
    {
    "cell_type": "code",
    "metadata": {
      "id": "f7d492efece3"
      },
      "source": [
        "cmd.do(\"print cmd.get_fastastr('all')\")"
      ]
    },
    {
    "cell_type": "markdown",
    "metadata": {
      "id": "f39c62e33c97"
      },
      "source": [
        "##pseudolabel\n",
        "\n",
        "Position label with pseudoatom.\n",
        "\n",
        "*PyMOL*"
      ]
    },
    {
    "cell_type": "code",
    "metadata": {
      "id": "c3a567e4eea1"
      },
      "source": [
        "cmd.do(\"pseudoatom forLabel;\")\n",
        "cmd.do(\"label forLabel, '%0';\")\n",
        "cmd.do(\"set label_color, red;\")"
      ]
    },
    {
    "cell_type": "markdown",
    "metadata": {
      "id": "95d1597ddc62"
      },
      "source": [
        "##rotate\n",
        "\n",
        "Rotate a selection about and axis by a given angle.\n",
        "\n",
        "*PyMOL*"
      ]
    },
    {
    "cell_type": "code",
    "metadata": {
      "id": "e4c92c1264ee"
      },
      "source": [
        "cmd.do(\"rotate x, 45, pept;\")"
      ]
    },
    {
    "cell_type": "markdown",
    "metadata": {
      "id": "b9d09c2e1d81"
      },
      "source": [
        "##stereoDraw\n",
        "\n",
        "Stereo draw.\n",
        "\n",
        "*PyMOL*"
      ]
    },
    {
    "cell_type": "code",
    "metadata": {
      "id": "eefba6835aaa"
      },
      "source": [
        "cmd.do(\"stereo walleye; \")\n",
        "cmd.do(\"set ray_shadow, off; \")\n",
        "cmd.do(\"#draw 3200,2000;\")\n",
        "cmd.do(\"draw 1600,1000; \")\n",
        "cmd.do(\"png aaa.png;\")"
      ]
    },
    {
    "cell_type": "markdown",
    "metadata": {
      "id": "b1caf3e9273e"
      },
      "source": [
        "##stereoRay\n",
        "\n",
        "Stereo ray.\n",
        "\n",
        "*PyMOL*"
      ]
    },
    {
    "cell_type": "code",
    "metadata": {
      "id": "99da57d97a25"
      },
      "source": [
        "cmd.do(\"stereo; \")\n",
        "cmd.do(\"set ray_shadow, off;\")\n",
        "cmd.do(\"ray 2400,1200;\")\n",
        "cmd.do(\"png aaa.png;\")"
      ]
    },
    {
    "cell_type": "markdown",
    "metadata": {
      "id": "7e51f2f91b75"
      },
      "source": [
        "##loadThreeMaps\n",
        "\n",
        "Three electron density as Isomesh.\n",
        "\n",
        "*PyMOL*"
      ]
    },
    {
    "cell_type": "code",
    "metadata": {
      "id": "e9500cf4407f"
      },
      "source": [
        "cmd.do(\"load 4dgr.pdb;\")\n",
        "cmd.do(\"# Make sure to rename map file so that;\")\n",
        "cmd.do(\"# the root filename differs from pdb root filename;\")\n",
        "cmd.do(\"load 4dgr_2fofc.ccp4, 2fofc;\")\n",
        "cmd.do(\"load 4dgr_fofc.ccp4, fofc;\")\n",
        "cmd.do(\"select  glycan, resid 200 or (resid 469:477);\")\n",
        "cmd.do(\"isomesh mesh1, 2fofc, 1.0, glycan;\")\n",
        "cmd.do(\"color density, mesh1;\")\n",
        "cmd.do(\"isomesh mesh2, fofc, 3.0, glycan;\")\n",
        "cmd.do(\"color green, mesh2;\")\n",
        "cmd.do(\"isomesh mesh3, fofc, -3.0, glycan;\")\n",
        "cmd.do(\"color red, mesh3;\")"
      ]
    },
    {
    "cell_type": "markdown",
    "metadata": {
      "id": "2b6e75aa2869"
      },
      "source": [
        "##turnAboutAxis\n",
        "\n",
        "Turn about axis.\n",
        "\n",
        "*PyMOL*"
      ]
    },
    {
    "cell_type": "code",
    "metadata": {
      "id": "15f9c24a406"
      },
      "source": [
        "cmd.do(\"turn x,90;\")"
      ]
    },
    {
    "cell_type": "markdown",
    "metadata": {
      "id": "af9dfc7ab99a"
      },
      "source": [
        "##volumeRamp\n",
        "\n",
        "Volume ramp.\n",
        "\n",
        "*PyMOL*"
      ]
    },
    {
    "cell_type": "code",
    "metadata": {
      "id": "2cab17258727"
      },
      "source": [
      "cmd.volume_ramp_new('ramp_magenta', [0.01, 1.00, 0.00, 1.00, 0.00, 4.01, 1.00, 0.00, 1.00, 0.10, 4.99, 1.00, 0.00, 1.00, 0.50,])"
      ]
    },
    {
    "cell_type": "markdown",
    "metadata": {
      "id": "23b13a301e3e"
      },
      "source": [
        "##solventRadius\n",
        "\n",
        "Set radius of ball used to make solvent accessible surface.\n",
        "\n",
        "*PyMOL*"
      ]
    },
    {
    "cell_type": "code",
    "metadata": {
      "id": "ec7b4b4cbcf"
      },
      "source": [
        "cmd.do(\"set solvent_radius, 1.55;\")"
      ]
    },
    {
    "cell_type": "markdown",
    "metadata": {
      "id": "6a2e4a934b69"
      },
      "source": [
        "##scaleRadiusColor\n",
        "\n",
        "Scale the radius and color of atoms as spheres by property in the B-value column.\n",
        "\n",
        "*PyMOL*"
      ]
    },
    {
    "cell_type": "code",
    "metadata": {
      "id": "4767c4a0df0d"
      },
      "source": [
        "cmd.do(\"bg_color white;\")\n",
        "cmd.do(\"hide everything;\")\n",
        "cmd.do(\"show spheres;\")\n",
        "cmd.do(\"set  stick_radius = 0.1;\")\n",
        "cmd.do(\"hide everything, HET;\")\n",
        "cmd.do(\"show spheres, HET;\")\n",
        "cmd.do(\"set sphere_quality=3;\")\n",
        "cmd.do(\"show sticks, resi 1102;\")\n",
        "cmd.do(\"from pymol import stored;\")\n",
        "cmd.do(\"# set the stored array equal to the b−values or use your own values; \")\n",
        "cmd.do(\"stored.bb = [ ];\")\n",
        "cmd.do(\"iterate all, stored.bb.append(b);\")\n",
        "cmd.do(\"# execute a python−block;\")\n",
        "cmd.do(\"python;\")\n",
        "cmd.do(\"# scale the b−values;\")\n",
        "cmd.do(\"M = max(stored.bb);\")\n",
        "cmd.do(\"scaledBB = map(lambda x: float (x/M), stored.bb);\")\n",
        "cmd.do(\"count = 0;\")\n",
        "cmd.do(\"# set the sphere radii independently;\")\n",
        "cmd.do(\"#[(cmd.set('sphere_scale', x ,'ID %s'%count); count = count + 1) for x in scaledBB];\")\n",
        "cmd.do(\"for x in scaledBB:\")\n",
        "cmd.do(\"  cmd.set('sphere_scale', x ,'ID %s'%count)\")\n",
        "cmd.do(\"  count = count + 1\")\n",
        "cmd.do(\"python end;\")\n",
        "cmd.do(\"spectrum b, selection=4gdx;\")\n",
        "cmd.do(\"space cmyk;\")\n",
        "cmd.do(\"set specular_intensity , 0.25;\")"
      ]
    },
    {
    "cell_type": "markdown",
    "metadata": {
      "id": "8f3553c8c07d"
      },
      "source": [
        "##rv\n",
        "\n",
        "Return settings in rounded format.\n",
        "\n",
        "*PyMOL*"
      ]
    },
    {
    "cell_type": "code",
    "metadata": {
      "id": "6e742c35cd0c"
      },
      "source": [
        "cmd.do(\"run roundview.py;\")"
      ]
    },
    {
    "cell_type": "markdown",
    "metadata": {
      "id": "a6160fcfabda"
      },
      "source": [
        "##spng\n",
        "\n",
        "Save png flle with timestamp.\n",
        "\n",
        "*PyMOL*"
      ]
    },
    {
    "cell_type": "code",
    "metadata": {
      "id": "68d011113ba2"
      },
      "source": [
        "cmd.do(\"python;\")\n",
        "cmd.do(\"import datetime;\")\n",
        "cmd.do(\"from pymol import cmd; \")\n",
        "cmd.do(\"DT =datetime.datetime.now().strftime('yr%Ymo%mday%dhr%Hmin%M');\")\n",
        "cmd.do(\"s = str(DT); \")\n",
        "cmd.do(\"cmd.save(stemName+s+'.png'); \")\n",
        "cmd.do(\"python end;\")"
      ]
    },
    {
    "cell_type": "markdown",
    "metadata": {
      "id": "66f2867b47d4"
      },
      "source": [
        "##spse\n",
        "\n",
        "Save pse flle with timestamp\n",
        "\n",
        "*PyMOL*"
      ]
    },
    {
    "cell_type": "code",
    "metadata": {
      "id": "a1c6119ac3a0"
      },
      "source": [
        "cmd.do(\"python;\")\n",
        "cmd.do(\"import datetime;\")\n",
        "cmd.do(\"from pymol import cmd; \")\n",
        "cmd.do(\"DT =datetime.datetime.now().strftime('yr%Ymo%mday%dhr%Hmin%M');\")\n",
        "cmd.do(\"s = str(DT); \")\n",
        "cmd.do(\"cmd.save(stemName+s+'.pse'); \")\n",
        "cmd.do(\"python end;\")"
      ]
    },
    {
    "cell_type": "markdown",
    "metadata": {
      "id": "b5dc266f767"
      },
      "source": [
        "##sc222\n",
        "\n",
        "Run supercell script to generate three cells in all directions. This script was written by Thomas Holder.\n",
        "\n",
        "*PyMOL*"
      ]
    },
    {
    "cell_type": "code",
    "metadata": {
      "id": "68f243e666f7"
      },
      "source": [
        "cmd.do(\"run $HOME/Scripts/PyMOLscripts/supercell.py;\")\n",
        "cmd.do(\"supercell 2, 2, 2, , orange,  supercell1, 1;\")"
      ]
    },
    {
    "cell_type": "markdown",
    "metadata": {
      "id": "a762febda1c2"
      },
      "source": [
        "##pearl\n",
        "\n",
        "The pearl effect is made with two spheres with the outer sphere being transparent.\n",
        "\n",
        "*PyMOL*"
      ]
    },
    {
    "cell_type": "code",
    "metadata": {
      "id": "31485b784291"
      },
      "source": [
        "cmd.do(\"create sodium2, sodium1;\")\n",
        "cmd.do(\"set sphere_transparency, 0.4, sodium2;\")\n",
        "cmd.do(\"set sphere_scale, 1.05, sodium2;\")\n",
        "cmd.do(\"ray;\")"
      ]
    },
    {
    "cell_type": "markdown",
    "metadata": {
      "id": "1c48265fd3e8"
      },
      "source": [
        "##fog\n",
        "\n",
        "Blur the background atoms.\n",
        "\n",
        "*PyMOL*"
      ]
    },
    {
    "cell_type": "code",
    "metadata": {
      "id": "fd63d503526"
      },
      "source": [
        "cmd.do(\"set fog, 0;\")"
      ]
    },
    {
    "cell_type": "markdown",
    "metadata": {
      "id": "38f158a134ff"
      },
      "source": [
        "##rmwater\n",
        "\n",
        "Remove waters from molecular object.\n",
        "\n",
        "*PyMOL*"
      ]
    },
    {
    "cell_type": "code",
    "metadata": {
      "id": "82b489a31f48"
      },
      "source": [
        "cmd.do(\"remove resn HOH;\")"
      ]
    },
    {
    "cell_type": "markdown",
    "metadata": {
      "id": "8aa894fc8a0e"
      },
      "source": [
        "##setcolor\n",
        "\n",
        "Set color name to a RGB code.\n",
        "\n",
        "*PyMOL*"
      ]
    },
    {
    "cell_type": "code",
    "metadata": {
      "id": "faefb86c5f04"
      },
      "source": [
        "cmd.do(\"set_color bark, [0.1, 0.1, 0.1];\")\n",
        "cmd.do(\"color bark, protein;\")"
      ]
    },
    {
    "cell_type": "markdown",
    "metadata": {
      "id": "245ccb5d7673"
      },
      "source": [
        "##duplicateObject\n",
        "\n",
        "Duplicate object. Create an object with the first argument using the selection, which is the second argument.\n",
        "\n",
        "*PyMOL*"
      ]
    },
    {
    "cell_type": "code",
    "metadata": {
      "id": "f5d3f451bbf9"
      },
      "source": [
        "cmd.do(\"create t4l, 1lw9;\")"
      ]
    },
    {
    "cell_type": "markdown",
    "metadata": {
      "id": "80a7f7052743"
      },
      "source": [
        "##selectChain\n",
        "\n",
        "Select a chain.\n",
        "\n",
        "*PyMOL*"
      ]
    },
    {
    "cell_type": "code",
    "metadata": {
      "id": "9b4a7f13fed3"
      },
      "source": [
        "cmd.do(\"select rna, chain B;\")"
      ]
    },
    {
    "cell_type": "markdown",
    "metadata": {
      "id": "af32db374d88"
      },
      "source": [
        "##selectResidues\n",
        "\n",
        "Select residues by name.\n",
        "\n",
        "*PyMOL*"
      ]
    },
    {
    "cell_type": "code",
    "metadata": {
      "id": "78a647779d15"
      },
      "source": [
        "cmd.do(\"select aromatic, resn phe+tyr+trp;\")"
      ]
    },
    {
    "cell_type": "markdown",
    "metadata": {
      "id": "6b6bf224d673"
      },
      "source": [
        "##selectResi\n",
        "\n",
        "Select residues by a range of numbers.\n",
        "\n",
        "*PyMOL*"
      ]
    },
    {
    "cell_type": "code",
    "metadata": {
      "id": "bf959fc6688c"
      },
      "source": [
        "cmd.do(\"select ${!:se; resi  1:100;\")"
      ]
    },
    {
    "cell_type": "markdown",
    "metadata": {
      "id": "42cea32a4d84"
      },
      "source": [
        "##selectElement\n",
        "\n",
        "Select atoms by element.\n",
        "\n",
        "*PyMOL*"
      ]
    },
    {
    "cell_type": "code",
    "metadata": {
      "id": "8d67ecc8663e"
      },
      "source": [
        "cmd.do(\"select oxygen, elem O;\")"
      ]
    },
    {
    "cell_type": "markdown",
    "metadata": {
      "id": "7e6b7995b49a"
      },
      "source": [
        "##selectName\n",
        "\n",
        "Select atoms by name.\n",
        "\n",
        "*PyMOL*"
      ]
    },
    {
    "cell_type": "code",
    "metadata": {
      "id": "785ded9a001a"
      },
      "source": [
        "cmd.do(\"select oxygen2, name O2;\")"
      ]
    },
    {
    "cell_type": "markdown",
    "metadata": {
      "id": "888cbbafd0ff"
      },
      "source": [
        "##selectHelices\n",
        "\n",
        "Select atoms by alpha helices.\n",
        "\n",
        "*PyMOL*"
      ]
    },
    {
    "cell_type": "code",
    "metadata": {
      "id": "2e2ec42370aa"
      },
      "source": [
        "cmd.do(\"select helices, ss h; \")"
      ]
    },
    {
    "cell_type": "markdown",
    "metadata": {
      "id": "99febb1b57bf"
      },
      "source": [
        "##selectStrands\n",
        "\n",
        "Select atoms by beta strands.\n",
        "\n",
        "*PyMOL*"
      ]
    },
    {
    "cell_type": "code",
    "metadata": {
      "id": "df27d57c6f57"
      },
      "source": [
        "cmd.do(\"select strands, ss s; \")"
      ]
    },
    {
    "cell_type": "markdown",
    "metadata": {
      "id": "2746661a2a66"
      },
      "source": [
        "##selectLoops\n",
        "\n",
        "Select atoms by beta loops.\n",
        "\n",
        "*PyMOL*"
      ]
    },
    {
    "cell_type": "code",
    "metadata": {
      "id": "8cad370a88a3"
      },
      "source": [
        "cmd.do(\"select loops, ss l;\")"
      ]
    },
    {
    "cell_type": "markdown",
    "metadata": {
      "id": "33270edab313"
      },
      "source": [
        "##selectAllBut\n",
        "\n",
        "Select all nitrogen atom in a selelction except from lysine.\n",
        "\n",
        "*PyMOL*"
      ]
    },
    {
    "cell_type": "code",
    "metadata": {
      "id": "719fdc28fb4a"
      },
      "source": [
        "cmd.do(\"select select1, elem N and chain A and not resn LYS;\")"
      ]
    },
    {
    "cell_type": "markdown",
    "metadata": {
      "id": "f6d6d0ccc9c1"
      },
      "source": [
        "##selectAtomsAround\n",
        "\n",
        "Select atoms within a radius around a ligand.\n",
        "\n",
        "*PyMOL*"
      ]
    },
    {
    "cell_type": "code",
    "metadata": {
      "id": "266385066465"
      },
      "source": [
        "cmd.do(\"select nearby, resn drug around 5;\")"
      ]
    },
    {
    "cell_type": "markdown",
    "metadata": {
      "id": "804bedcd90d1"
      },
      "source": [
        "##selectResiduesAround\n",
        "\n",
        "Select residues within a radius around a ligand.\n",
        "\n",
        "*PyMOL*"
      ]
    },
    {
    "cell_type": "code",
    "metadata": {
      "id": "fbad1b7400f9"
      },
      "source": [
        "cmd.do(\"select nearby, br. resn drug around 5;\")"
      ]
    },
    {
    "cell_type": "markdown",
    "metadata": {
      "id": "28508e19d4d1"
      },
      "source": [
        "##undoSelection\n",
        "\n",
        "Undo a selection.\n",
        "\n",
        "*PyMOL*"
      ]
    },
    {
    "cell_type": "code",
    "metadata": {
      "id": "5ef05ef3bb21"
      },
      "source": [
        "cmd.do(\"disable sele; \")"
      ]
    },
    {
    "cell_type": "markdown",
    "metadata": {
      "id": "9cb2fb955da3"
      },
      "source": [
        "##loadPDBfile\n",
        "\n",
        "Load a pdb file in the current directory.\n",
        "\n",
        "*PyMOL*"
      ]
    },
    {
    "cell_type": "code",
    "metadata": {
      "id": "15010dcf8732"
      },
      "source": [
        "cmd.do(\"load my.pdb;\")"
      ]
    },
    {
    "cell_type": "markdown",
    "metadata": {
      "id": "5dbb1dbe922c"
      },
      "source": [
        "##savePNG\n",
        "\n",
        "Save a png file of current scene to the current directory. PyMOL writes out only png files. This file may need to be converted to a tiff file. See the png2tiff snippet for a bash script that converts all png files in a folder into tiff files. 1: png filename. 2: x-dimension in pixels. 3: y-dimension in pixels, 1600 x 1000 approximates the golden ratio. Usually want a square for multipanel figures..4: dots per inch. 5: ray tracing off, 0; ray tracing on, 1 should also consider image without ray tracing shadows. \n",
        "\n",
        "*PyMOL*"
      ]
    },
    {
    "cell_type": "code",
    "metadata": {
      "id": "21de433a8922"
      },
      "source": [
        "cmd.do(\"png saveMe.png, 1920, 1920, 600, 1;\")"
      ]
    },
    {
    "cell_type": "markdown",
    "metadata": {
      "id": "bc04ac23e891"
      },
      "source": [
        "##ringMode\n",
        "\n",
        "Set the ring mode to a value between 0  and 6 in cartoons of nucleic acids.\n",
        "\n",
        "*PyMOL*"
      ]
    },
    {
    "cell_type": "code",
    "metadata": {
      "id": "4ba104ff5075"
      },
      "source": [
        "cmd.do(\"show cartoon, rna; set cartoon_ring_mode, 3;\")"
      ]
    },
    {
    "cell_type": "markdown",
    "metadata": {
      "id": "8fe99e95fa0a"
      },
      "source": [
        "##sidehChainHelper\n",
        "\n",
        "In cartoons, hide the backbone atoms of selected residues when showing then as sticks.\n",
        "\n",
        "*PyMOL*"
      ]
    },
    {
    "cell_type": "code",
    "metadata": {
      "id": "44b7401f464f"
      },
      "source": [
        "cmd.do(\"set cartoon_side_chain_helper, on;\")"
      ]
    },
    {
    "cell_type": "markdown",
    "metadata": {
      "id": "4e1b84130e15"
      },
      "source": [
        "##extractPartObj\n",
        "\n",
        "Create a new object from part of an existing object.\n",
        "\n",
        "*PyMOL*"
      ]
    },
    {
    "cell_type": "code",
    "metadata": {
      "id": "5d48b17aadb"
      },
      "source": [
        "cmd.do(\"extract new_obj, chain A;\")"
      ]
    },
    {
    "cell_type": "markdown",
    "metadata": {
      "id": "d4d0fdda1083"
      },
      "source": [
        "##puttyCartoon\n",
        "\n",
        "Create a putty cartoon. The command may be needed if the above setting does not work. This can happen if using the presets. The command below may be needed if the above setting does not work.This can happen if using the presets. The command below may be needed if the above setting does not work. This can happen if using the presets.\n",
        "\n",
        "*PyMOL*"
      ]
    },
    {
    "cell_type": "code",
    "metadata": {
      "id": "e838896b29e9"
      },
      "source": [
        "cmd.do(\"show cartoon;\")\n",
        "cmd.do(\"cartoon putty;\")\n",
        "cmd.do(\"set cartoon_smooth_loops, 0;\")\n",
        "cmd.do(\"set cartoon_flat_sheets, 0;\")\n",
        "cmd.do(\"set cartoon_smooth_loops,0;\")\n",
        "cmd.do(\"## unset cartoon_smooth_loops;\")"
      ]
    },
    {
    "cell_type": "markdown",
    "metadata": {
      "id": "2b76de365298"
      },
      "source": [
        "##hideSelection\n",
        "\n",
        "Turn off magenta squares on current selection.\n",
        "\n",
        "*PyMOL*"
      ]
    },
    {
    "cell_type": "code",
    "metadata": {
      "id": "2c7e85ab7fe5"
      },
      "source": [
        "cmd.do(\"indicate none\")"
      ]
    },
    {
    "cell_type": "markdown",
    "metadata": {
      "id": "9b329b5e630c"
      },
      "source": [
        "##discreteCartoonColoring\n",
        "\n",
        "Turn on discrete colors between secondary structure elements.\n",
        "\n",
        "*PyMOL*"
      ]
    },
    {
    "cell_type": "code",
    "metadata": {
      "id": "468692023718"
      },
      "source": [
        "cmd.do(\"set cartoon_discrete_colors, on;\")"
      ]
    },
    {
    "cell_type": "markdown",
    "metadata": {
      "id": "e6fb21884460"
      },
      "source": [
        "##sc111\n",
        "\n",
        "Display all symmetry mates in one unit cell. Uses supercell.py in $HOME/Scripts/PyMOLscripts/. Change to your path to supercell.py.\n",
        "\n",
        "*PyMOL*"
      ]
    },
    {
    "cell_type": "code",
    "metadata": {
      "id": "393a4c5aadcc"
      },
      "source": [
        "cmd.do(\"run $HOME/Scripts/PyMOLscripts/supercell.py;\")\n",
        "cmd.do(\"supercell 1, 1, 1, , orange,  supercell1, 1;\")"
      ]
    },
    {
    "cell_type": "markdown",
    "metadata": {
      "id": "8fbc6844fb3a"
      },
      "source": [
        "##saxsEnvelope\n",
        "\n",
        "Display SAXS envelope. Edit to enter the name of the bead model object.\n",
        "\n",
        "*PyMOL*"
      ]
    },
    {
    "cell_type": "code",
    "metadata": {
      "id": "1ebb647b905e"
      },
      "source": [
        "cmd.do(\"alter refine_A_Ave_SM_015_0_370-374-0r, vdw=3.0;\")\n",
        "cmd.do(\"set solvent_radius = 3.0;\")"
      ]
    },
    {
    "cell_type": "markdown",
    "metadata": {
      "id": "9d55b23c8ee9"
      },
      "source": [
        "##setpath\n",
        "\n",
        "Set additional path for PyMOL to search on startup.\n",
        "\n",
        "*PyMOL*"
      ]
    },
    {
    "cell_type": "code",
    "metadata": {
      "id": "d5c1194e8c2a"
      },
      "source": [
      "os.environ['PATH'] += os.pathsep + '~/ATSAS-3.0.3-1/bin';"
      ]
    },
    {
    "cell_type": "markdown",
    "metadata": {
      "id": "af61908b85aa"
      },
      "source": [
        "##fetchPath\n",
        "\n",
        "Set path for location to save fetched pdb files.\n",
        "\n",
        "*PyMOL*"
      ]
    },
    {
    "cell_type": "code",
    "metadata": {
      "id": "79fceb7fb3fa"
      },
      "source": [
        "cmd.do(\"set fetch_path, /Users/blaine/pdbFiles;\")"
      ]
    },
    {
    "cell_type": "markdown",
    "metadata": {
      "id": "5d1e87460590"
      },
      "source": [
        "##antialias\n",
        "\n",
        "Set antialias to on to get smoother edges.\n",
        "\n",
        "*PyMOL*"
      ]
    },
    {
    "cell_type": "code",
    "metadata": {
      "id": "e4958a5d8ebe"
      },
      "source": [
        "cmd.do(\"set antialias, 1;\")"
      ]
    },
    {
    "cell_type": "markdown",
    "metadata": {
      "id": "da76e5811350"
      },
      "source": [
        "##lspymolrc\n",
        "\n",
        "Print list of active pymolrc files.\n",
        "\n",
        "*PyMOL*"
      ]
    },
    {
    "cell_type": "code",
    "metadata": {
      "id": "718869a48d9a"
      },
      "source": [
        "cmd.do(\"print invocation.options.deferred;\")"
      ]
    },
    {
    "cell_type": "markdown",
    "metadata": {
      "id": "658b1e044441"
      },
      "source": [
        "##sigDigits\n",
        "\n",
        "Set number of decimals places to show in distance labels.\n",
        "\n",
        "*PyMOL*"
      ]
    },
    {
    "cell_type": "code",
    "metadata": {
      "id": "d254bb3814da"
      },
      "source": [
        "cmd.do(\"set label_distance_digits, 2;\")\n",
        "cmd.do(\"set label_angle_digits, 2;\")"
      ]
    },
    {
    "cell_type": "markdown",
    "metadata": {
      "id": "1974044a206e"
      },
      "source": [
        "##labelCAs\n",
        "\n",
        "Label the CA atoms with the Ala333 style format.\n",
        "\n",
        "*PyMOL*"
      ]
    },
    {
    "cell_type": "code",
    "metadata": {
      "id": "97f57819988b"
      },
      "source": [
        "cmd.do(\"label name CA,'%s%s' % (resn,resi);\")"
      ]
    },
    {
    "cell_type": "markdown",
    "metadata": {
      "id": "15c43feb15d0"
      },
      "source": [
        "##labelWatersHOH\n",
        "\n",
        "Label waters with HOH and their residue number.\n",
        "\n",
        "*PyMOL*"
      ]
    },
    {
    "cell_type": "code",
    "metadata": {
      "id": "f0f6534e394b"
      },
      "source": [
        "cmd.do(\"label resn HOH ,'%s%s' % (resn,resi);\")"
      ]
    },
    {
    "cell_type": "markdown",
    "metadata": {
      "id": "a97c4ed101e"
      },
      "source": [
        "##labelWatersW\n",
        "\n",
        "Label waters with W and their reisude number.\n",
        "\n",
        "*PyMOL*"
      ]
    },
    {
    "cell_type": "code",
    "metadata": {
      "id": "f3918efd968b"
      },
      "source": [
        "cmd.do(\"label resn HOH ,'W%s' % (resi);\")"
      ]
    },
    {
    "cell_type": "markdown",
    "metadata": {
      "id": "9422f2a6b161"
      },
      "source": [
        "##findHbonds\n",
        "\n",
        "Find H-bonds around a residue.\n",
        "\n",
        "*PyMOL*"
      ]
    },
    {
    "cell_type": "code",
    "metadata": {
      "id": "31b4927592fe"
      },
      "source": [
        "cmd.do(\"remove element h; distance hbonds, all, all, 3.2, mode=2;\")"
      ]
    },
    {
    "cell_type": "markdown",
    "metadata": {
      "id": "feeb5c191117"
      },
      "source": [
        "##printBs\n",
        "\n",
        "Print the B-factors of a residue.\n",
        "\n",
        "*PyMOL*"
      ]
    },
    {
    "cell_type": "code",
    "metadata": {
      "id": "37df7e7d8021"
      },
      "source": [
        "cmd.do(\"remove element h; iterate resi  1:13, print(resi, name,b);\")"
      ]
    },
    {
    "cell_type": "markdown",
    "metadata": {
      "id": "130c4c8d5061"
      },
      "source": [
        "##labelMainChain\n",
        "\n",
        "Label the main chain atoms with the following: resn,resi,atom name.\n",
        "\n",
        "*PyMOL*"
      ]
    },
    {
    "cell_type": "code",
    "metadata": {
      "id": "c73b981bad5e"
      },
      "source": [
        "cmd.do(\"label name n+c+o+ca,'%s%s%s' % (resn,resi,name);\")"
      ]
    },
    {
    "cell_type": "markdown",
    "metadata": {
      "id": "8da46b529ecf"
      },
      "source": [
        "##printBspartB\n",
        "\n",
        "Print B factors of part B of a residue.\n",
        "\n",
        "*PyMOL*"
      ]
    },
    {
    "cell_type": "code",
    "metadata": {
      "id": "397808b2a99e"
      },
      "source": [
        "cmd.do(\"iterate resi 38 and altloc B, print resi, name, alt, b;\")"
      ]
    },
    {
    "cell_type": "markdown",
    "metadata": {
      "id": "90c0fafab035"
      },
      "source": [
        "##printBs2digits\n",
        "\n",
        "Print B--factors for a residue with the B-factors rounded off to two decimal places.\n",
        "\n",
        "*PyMOL*"
      ]
    },
    {
    "cell_type": "code",
    "metadata": {
      "id": "f7e7497f02e4"
      },
      "source": [
        "cmd.do(\"iterate (resi 133), print(name + ' %.2f' % b);\")"
      ]
    },
    {
    "cell_type": "markdown",
    "metadata": {
      "id": "b607971e598c"
      },
      "source": [
        "##writeCommandReference2HTML\n",
        "\n",
        "Write the command reference to html file in the present working directory. \n",
        "\n",
        "*PyMOL*"
      ]
    },
    {
    "cell_type": "code",
    "metadata": {
      "id": "f58ee5f14b97"
      },
      "source": [
      "cmd.write_html_ref('pymol-command-ref.html');"
      ]
    },
    {
    "cell_type": "markdown",
    "metadata": {
      "id": "8f0172faae5c"
      },
      "source": [
        "##averageB\n",
        "\n",
        "Average the B-factors by using a regular list as opposed to a stored list in PyMOL. Edit the selection as needed. \n",
        "\n",
        "*PyMOL*"
      ]
    },
    {
    "cell_type": "code",
    "metadata": {
      "id": "f1f46a4e57f6"
      },
      "source": [
        "cmd.do(\"Bfactors = []; \")\n",
        "cmd.do(\"#  >>> edit the selection below, which is a range of residue numbers here.;\")\n",
        "cmd.do(\"iterate (resi 133), Bfactors.append(b);\")\n",
        "cmd.do(\"print('Sum = ', '%.2f' % (sum(Bfactors)));\")\n",
        "cmd.do(\"print('Number of atoms = ', len(Bfactors));\")\n",
        "cmd.do(\"print( 'Average B =' , '%.2f' % ( sum(Bfactors)/float(len(Bfactors))));\")"
      ]
    },
    {
    "cell_type": "markdown",
    "metadata": {
      "id": "664b261721ed"
      },
      "source": [
        "##aveB4resiX\n",
        "\n",
        "Prints the residue number and the average bfactor. Uses reduce and lambda, builtin Python functional porgramming functions. Note that you need to convert the length of the list of Bfactors from an integer to a float before division into the sum.\n",
        "\n",
        "*PyMOL*"
      ]
    },
    {
    "cell_type": "code",
    "metadata": {
      "id": "9f6dda2e02e2"
      },
      "source": [
        "cmd.do(\"Bfactors = [];\")\n",
        "cmd.do(\"iterate (resi 133), Bfactors.append(b);\")\n",
        "cmd.do(\"print( 'Average B-factor of residue ', %{1:133 , '   = ', '%.2f' %(reduce(lambda x, y: x + y, Bfactors) / float(len(Bfactors))) );\")"
      ]
    },
    {
    "cell_type": "markdown",
    "metadata": {
      "id": "c1645c345db1"
      },
      "source": [
        "##printNameB4ResiX\n",
        "\n",
        "Print name and b-factor for a residue.\n",
        "\n",
        "*PyMOL*"
      ]
    },
    {
    "cell_type": "code",
    "metadata": {
      "id": "974b3ab1e11f"
      },
      "source": [
      "Bfac_dict = { 'Bfactors3' : [] ;\n",
      "cmd.iterate('(resi 133)','Bfactors3.append((name, b))', space=Bfac_dict); \n",
      "[print('%s %.2f' % (i,j)) for i,j in Bfac_dict['Bfactors3'];"
      ]
    },
    {
    "cell_type": "markdown",
    "metadata": {
      "id": "5696e7d556b8"
      },
      "source": [
        "##printResiResnNameB4ResiX\n",
        "\n",
        "Print resn, resi, atom name, and b-factor. \n",
        "\n",
        "*PyMOL*"
      ]
    },
    {
    "cell_type": "code",
    "metadata": {
      "id": "9c9b3130c085"
      },
      "source": [
      "Bfac_dict = { 'Bfactors3' : [] ;\n",
      "cmd.iterate('(resi 133)','Bfactors3.append((resn,resi,name, b))', space=Bfac_dict);\n",
      "[print('%s %s %s %.2f' % (i,j,k,l)) for i,j,k,l in Bfac_dict['Bfactors3']]"
      ]
    },
    {
    "cell_type": "markdown",
    "metadata": {
      "id": "107708d5f5b"
      },
      "source": [
        "##printResiResnNameB4ResiXNoH\n",
        "\n",
        "Print name and b-factor for a residue or residue range (e.g. 81:120). The noH variant.\n",
        "\n",
        "*PyMOL*"
      ]
    },
    {
    "cell_type": "code",
    "metadata": {
      "id": "94e143cc566"
      },
      "source": [
      "Bfac_dict = { 'Bfactors3' : [] ;\n",
      "cmd.iterate('(resi 133 and not elem H)','Bfactors3.append((resn,resi,name, b))', space=Bfac_dict); \n",
      "[print('%s %s %s %.2f' % (i,j,k,l))for i,j,k,l in Bfac_dict['Bfactors3']];"
      ]
    },
    {
    "cell_type": "markdown",
    "metadata": {
      "id": "eeccbd888aff"
      },
      "source": [
        "##internalGUImode2\n",
        "\n",
        "Make the background of the internal gui transparent to expand viewport.\n",
        "\n",
        "*PyMOL*"
      ]
    },
    {
    "cell_type": "code",
    "metadata": {
      "id": "a7b521830d4c"
      },
      "source": [
        "cmd.do(\"internal_gui_mode=2;\")"
      ]
    },
    {
    "cell_type": "markdown",
    "metadata": {
      "id": "e6d673d04dbb"
      },
      "source": [
        "##internalGUIwidth\n",
        "\n",
        "Set the width of the internal gui. Set to 0 to make the internal gui vanish.\n",
        "\n",
        "*PyMOL*"
      ]
    },
    {
    "cell_type": "code",
    "metadata": {
      "id": "954fade3df39"
      },
      "source": [
        "cmd.do(\"set internal_gui_width=0;\")"
      ]
    },
    {
    "cell_type": "markdown",
    "metadata": {
      "id": "b910c32321dd"
      },
      "source": [
        "##printDoc\n",
        "\n",
        "Print document string of a function.\n",
        "\n",
        "*PyMOL*"
      ]
    },
    {
    "cell_type": "code",
    "metadata": {
      "id": "a74e21f68689"
      },
      "source": [
      "print(my_func.__doc__);"
      ]
    },
    {
    "cell_type": "markdown",
    "metadata": {
      "id": "b569ecd05f33"
      },
      "source": [
        "##lsSnips\n",
        "\n",
        "List all snips by tab trigger and description.\n",
        "\n",
        "*PyMOL*"
      ]
    },
    {
    "cell_type": "code",
    "metadata": {
      "id": "45d0a5f890d6"
      },
      "source": [
        "cmd.do(\"'''Name                                      Description                                                                                                                   ,\")\n",
        "cmd.do(\"------------------------------------------------------------------------------------------------------------------------------------------------------------------------,\")\n",
        "cmd.do(\"AO                                        Run the AO function from the pymolshortcuts.py file to generate the photorealistic effect.\")\n",
        "cmd.do(\"AOBW                                      Run the AOBW function from the pymolshortcuts.py file to generate photorealistic effect in grayscale.\")\n",
        "cmd.do(\"AOD                                       Run the AOD function from the pymolshortcuts.py file to generate photorealistic effect with carbons colored black.\")\n",
        "cmd.do(\"AODBW                                     Run the AODBW function from the pymolshortcuts.py file to generate photorealistic effect with carbons colored black and all other atoms colored in grayscale.\")\n",
        "cmd.do(\"PE125                                     Run the PE125 function from the pymolshortcuts.py file to show the pearl effect with the inner sphere scaled by 0.125 of the van der Waals surface.\")\n",
        "cmd.do(\"PE25                                      Run the PE25 function from the pymolshortcuts.py file to show the pearl effect with the inner sphere scaled by 0.25 of the van der Waals surface.\")\n",
        "cmd.do(\"PE33                                      Run the PE33 function from the pymolshortcuts.py file to show the pearl effect with the inner sphere scaled by 0.33 of the van der Waals surface.\")\n",
        "cmd.do(\"PE50                                      Run the PE50 function from the pymolshortcuts.py file to show the pearl effect with the inner sphere scaled by 0.50 of the van der Waals surface.\")\n",
        "cmd.do(\"PE66                                      Run the PE66 function from the pymolshortcuts.py file to show the pearl effect with the inner sphere scaled by 0.66 of the van der Waals surface.\")\n",
        "cmd.do(\"PE75                                      Run the PE75 function from the pymolshortcuts.py file to show the pearl effect with the inner sphere scaled by 0.75 of the van der Waals surface.\")\n",
        "cmd.do(\"PE85                                      Run the PE85 function from the pymolshortcuts.py file to show the pearl effect with the inner sphere scaled by 0.85 of the van der Waals surface.\")\n",
        "cmd.do(\"addAxis                                   Adds the function draw_axis(). Used to draw a symmetry axis, a ncs axis, or scale bar to a scene.\")\n",
        "cmd.do(\"addAxispy                                 Adds the function draw_axis(). Could be useful for the adding a symmery axis, a ncs axis, or scale bar to a scene.\")\n",
        "cmd.do(\"allPairs                                  This is a two-fold nested list comprehension for any all-parwise operation on the currently loaded objects. Replace optAlginRNA with object from any other function that operations on a pair of structrures.\")\n",
        "cmd.do(\"antialias                                 Set antialias to on to get smoother edges.\")\n",
        "cmd.do(\"ao                                        Apply the ambient occlussion effect to get the photorealistic effect.\")\n",
        "cmd.do(\"ao                                        Apply the ambient occlussion effect to get the photorealistic effect.\")\n",
        "cmd.do(\"aobw                                      Ambient occlussion in grayscale.\")\n",
        "cmd.do(\"aod                                       Ambient occlussion with carbon atoms colored black.\")\n",
        "cmd.do(\"aodbw                                     Ambient occlussion in grayscale with carbon atoms colored black. Note: requires the gscale() function from pymolshortcuts.py. Download this script from http://GitHub.com/MooersLab/pymolshortcuts. Load the functions from this script with the following command:  cmd.do(\"run pymolshortcuts.py\").\")\n",
        "cmd.do(\"aveB4resiX                                Prints the residue number and the average bfactor. Uses reduce and lambda, builtin Python functional porgramming functions. Note that you need to convert the length of the list of Bfactors from an integer to a float before division into the sum.\")\n",
        "cmd.do(\"aveB4resiXpy                              AveBResiX, prints the residue number and the average bfactor. Uses reduce and lambda, builtin Python functional porgramming functions. Note that you need to convert the length of the list of Bfactors from an integer.\")\n",
        "cmd.do(\"averageB                                  Average the B-factors by using a regular list as opposed to a stored list in PyMOL. Edit the selection as needed. \")\n",
        "cmd.do(\"basePairStacking                          This code make as standard base stacking diagram with ball and stick representation.\")\n",
        "cmd.do(\"brokenNucleicBackbone                     Create bonds between phosphorous and O3* atoms in a low-resolution DNA structure that is 80 base pairs long. Edit the selections below, which are ranges of residue numbers and edit the molecular object name (5fur).\")\n",
        "cmd.do(\"bs                                        Ball and stick representation.\")\n",
        "cmd.do(\"bsfr                                      Ball-and-stick plus filled ring representation for ligands.\")\n",
        "cmd.do(\"bu                                        Generate the biological unit using the quat.py script. Edit the path to the file quat.py. You may have to download it from the PyMOL Wiki page.\")\n",
        "cmd.do(\"carvedIsomesh                             Carved isomesh representation of electron density.\")\n",
        "cmd.do(\"carvedIsosurface                          Carved isosurface representation of electron density.\")\n",
        "cmd.do(\"carvedVolume                              Carved volume representation of electron density.\")\n",
        "cmd.do(\"cav                                       Run the cav function from the pymolshortcuts.py file to show buried cavities and pockets as molecular surfaces.\")\n",
        "cmd.do(\"cblind                                    Apply color blind friendly to ribbon diagrams. Edit the path to the Pymol-script-repo in your computer account. See PyMOL wiki for more information about the Pymol-script-reo.\")\n",
        "cmd.do(\"cblindCartoon                             Color cartoon with colorblind friendly colors. Requires that the pymolshortcuts.py file is loaded. This has been applied to PDB-ID 7JU6. The protein is human RET kinase, and the drug is selpercatinib, a FDA approved drug for treating several cancers.\")\n",
        "cmd.do(\"centerpi                                  Center pi. Edit the atoms selected for positioning the pseudoatom.\")\n",
        "cmd.do(\"cmddocs                                   Print in the command history window the docstrings of all of the functions in the cmd module.\")\n",
        "cmd.do(\"cntccp4emaps                              Count number of *.ccp4 (electron density map) files in current directory.\")\n",
        "cmd.do(\"cntfiles                                  Count number of files in current directory.\")\n",
        "cmd.do(\"cntlogs                                   Count number of *.log files in current directory.\")\n",
        "cmd.do(\"cntmtzs                                   Count number of *.mtz files in current directory.\")\n",
        "cmd.do(\"cntpdbs                                   Count number of *.pdb files in current directory.\")\n",
        "cmd.do(\"cntpmls                                   Count number of *.pml files in current directory.\")\n",
        "cmd.do(\"cntpngs                                   Count number of *.png files in current directory.\")\n",
        "cmd.do(\"cntpses                                   Count number of *.pse files in current directory.\")\n",
        "cmd.do(\"colorh1                                   Run the colorh1 function from the pymolshortcuts.py file to color protein molecules according to the Eisenberg hydrophobicity scale, scheme 1.\")\n",
        "cmd.do(\"colorh2                                   Run the colorh2 function from the pymolshortcuts.py file to color protein molecules according to the Eisenberg hydrophobicity scale, scheme 2.\")\n",
        "cmd.do(\"coordinate                                Coordinate covalent bonds to metals and H-bonds from RNA.\")\n",
        "cmd.do(\"cribbon                                   Color ribbon H red, strand yellow, loop green.\")\n",
        "cmd.do(\"cring                                     Colored ring.\")\n",
        "cmd.do(\"cspheres                                  Colored spheres.\")\n",
        "cmd.do(\"discreteCartoonColoring                   Turn on discrete colors between secondary structure elements.\")\n",
        "cmd.do(\"displayFonts                              Print to the screen as labels the 21 font ids in their corresponding fonts in a grid. Each label is an object and appears in the internal gui. You can turn on and off the display of specific fonts.\")\n",
        "cmd.do(\"displayFontspy                            Print to the screen as labels the 21 font ids in their corresponding fonts in a grid. Each label is an object and appears in the internal gui. You can turn on and off the display of specific fonts.\")\n",
        "cmd.do(\"distance                                  H-bond distance between a H-bond donor and acceptor. Edit the name for the ditance, the selection criteria for atom 1, and the selection criteria for atom 2.\")\n",
        "cmd.do(\"doubleBond                                Valence bond.\")\n",
        "cmd.do(\"drawHbonds                                Display H-bonds as dashes colored black.\")\n",
        "cmd.do(\"drawLinks                                 Connect the alpha carbons of residue 1 with 10, 6 with 16, 7  with 17 and 8 with 18. Note that this example requires the draw_links.py [http://pldserver1.biochem.queensu.ca/~rlc/work/pymol/draw_links.py] by Robert Campbell.\")\n",
        "cmd.do(\"dssrBlock1                                Combining DSSR block representation with regular PyMOL cartoons after loading the dssr_block.py script by Thomas Holder.\")\n",
        "cmd.do(\"dssrBlock2                                DSSR block representation with fused blocks after loading the dssr_block.py script by Thomas Holder. The x3dna-dssr executable needs to be in the PATH.\")\n",
        "cmd.do(\"dssrBlock3                                DSSR block representation for a multi-state example after loading the dssr_block.py script by Thomas Holder. The x3dna-dssr executable needs to be in the PATH. Edit the path to Thomas Holder\"s block script.\")\n",
        "cmd.do(\"dssrBlock4                                DSSR block representation with custom coloring after loading the dssr_block.py script by Thomas Holder. The x3dna-dssr executable needs to be in the PATH.\")\n",
        "cmd.do(\"duplicateObject                           Duplicate object. Create an object with the first argument using the selection, which is the second argument.\")\n",
        "cmd.do(\"ellipcol                                  Set color of thernal ellipsoids. The PDB must have anisotopic temperature factors. See https://pymolwiki.org/index.php/Color_Values for the PyMOL colors.\")\n",
        "cmd.do(\"emacsjupyterSourceBlock                   Source block template in org-mode with emacs-jupyter package.\")\n",
        "cmd.do(\"extractPartObj                            Create a new object from part of an existing object.\")\n",
        "cmd.do(\"fasta                                     Print Fasta from PDB file.\")\n",
        "cmd.do(\"fastapy                                   Python version of the command to print the sequence from a PDB file in the fasta format.\")\n",
        "cmd.do(\"fetch2FoFcIsomesh                         Fetch 2FoFc map as an isomesh.\")\n",
        "cmd.do(\"fetch2FoFcIsosurface                      Fetch 2FoFc map as an isosurface. Edit the PDB-ID code. Use lowercase letter for the fifth character to select a single chain. Render and display a contour of this map as a chicken wire representation.\")\n",
        "cmd.do(\"fetch2FoFcVolume                          Fetch 2FoFc map as a volume.\")\n",
        "cmd.do(\"fetchCIF                                  Fetch the atomic coordinates as a cif file from the PDB.\")\n",
        "cmd.do(\"fetchFoFc                                 Fetch fofc map from the PDB.\")\n",
        "cmd.do(\"fetchPath                                 Set path for location to save fetched pdb files.\")\n",
        "cmd.do(\"fetchThreeMaps                            Display three electron density maps as isomesh.\")\n",
        "cmd.do(\"filledRing                                Filled rings in nucleic acids.\")\n",
        "cmd.do(\"findHbonds                                Find H-bonds around a residue.\")\n",
        "cmd.do(\"fog                                       Blur the background atoms.\")\n",
        "cmd.do(\"getCoordinates                            Get coordinates.\")\n",
        "cmd.do(\"getCoordinatespy                          Python version of getCoordinates snippets. Note that the python2 print statement stills works  in pml scripts.\")\n",
        "cmd.do(\"github                                    Print url of README.md file of the pymolsnips repository.\")\n",
        "cmd.do(\"grayscale                                 Apply grayscale coloring using a grayscale version of the PyMOL colors for the elements. This is a Python function. It is invoked in a script file via grayscale(). There is a corresponding gscale shortcut in pymolshortcuts.py that is invoked in a pml script by entering gsale if the functions in pymolshortcuts.py have been loaded with the run pymolshortcuts.py command.\")\n",
        "cmd.do(\"grayscalepy                               Apply grayscale coloring using a grayscale version of the PyMOL colors for the elements. This is a Python function. It is invoked in a script file via gscale(). There is a corresponding gscale shortcut in pymolshortcuts.py that is invoked in a pml script by entering gsale if the functions in pymolshortcuts.py have been loaded with the run pymolshortcuts.py command.\")\n",
        "cmd.do(\"hb                                        Creates an object of all H-bonds found by PyMOL.\")\n",
        "cmd.do(\"hbonddash                                 Set up H-bond dashes.\")\n",
        "cmd.do(\"helpDocs                                  Return the docstring for the help submodule. This command is more concise:  help help.\")\n",
        "cmd.do(\"hideSelection                             Turn off magenta squares on current selection.\")\n",
        "cmd.do(\"hidealtloc                                Hide the partially occupied atoms with the part b alternate locator.\")\n",
        "cmd.do(\"his31asp70                                Display the famous Asp70-His31 salt-bridge from T4 lysozyme that contributes3-5 kcal/mol to protein stability. \")\n",
        "cmd.do(\"importIPythonDisplay                      Imports for using IPython to display images loaded from disk in notebook cells.\")\n",
        "cmd.do(\"importPyMOLandShortcuts                   Imports needed for most users of PyMOL in Jupyter. Combination of importPyMOL and importPythonDisplay.\")\n",
        "cmd.do(\"importPyMOLcmd                            Import the cmd class from the pymol api.\")\n",
        "cmd.do(\"importShortcuts                           Import for loading the functions in the pymolshortcuts.py file. These functions can be run inside cmd.do() without the trailing (). For example, cmd.do(\"rv\").\")\n",
        "cmd.do(\"imports4PyMOLjupyter                      Imports needed for most uses of pymol in Jupyter. Combination of importPyMOL and importPythonDisplay.\")\n",
        "cmd.do(\"internalGUImode2                          Make the background of the internal gui transparent to expand viewport.\")\n",
        "cmd.do(\"internalGUIwidth                          Set the width of the internal gui. Set to 0 to make the internal gui vanish.\")\n",
        "cmd.do(\"ipymolProtein                             Demo of the use of the RPC server with a protein via ipymol. Create a kernel for python interpreter from PyMOL inside Jupyter. See the kernel snippet for an example. See the README.md file on pymolsnips GItHub website or more details https://github.com/MooersLab/pymilsnips. Start pymol in terminal with pymol -R. Select pymol.python as kernel in Juptyer. The double parentheses are required when set_view is run this way.;\")\n",
        "cmd.do(\"ipymolStart                               Code to start the RPC server with ipymol. Start pymol in terminal with pymol -R; select pymol.python as the kernel in juptyer. You may have to create this kernel for the Python interpreter that is inside PyMOL.\")\n",
        "cmd.do(\"kernel                                    A kernel.json file for runnig PyMOL python interpreter in the Jupyter notebook. This code should reside in a folder named pymol.python in the ~/Library/Jupyter/kernels.\")\n",
        "cmd.do(\"labelCAs                                  Label the CA atoms with the Ala333 style format.\")\n",
        "cmd.do(\"labelMainChain                            Label the main chain atoms with the following: resn,resi,atom name.\")\n",
        "cmd.do(\"labelResnResi                             Label CA atom with single-letter residue name and residue number.\")\n",
        "cmd.do(\"labelSS                                   Label SS.\")\n",
        "cmd.do(\"labelWatersHOH                            Label waters with HOH and their residue number.\")\n",
        "cmd.do(\"labelWatersW                              Label waters with W and their reisude number.\")\n",
        "cmd.do(\"ligandSelect                              Make selection of ligand atoms.\")\n",
        "cmd.do(\"listLigandProteinDistances                Print a list of protein--ligand distances. Code by Dan Kulp. Updated for Python3.\")\n",
        "cmd.do(\"listObjects                               Create a list of objects in the internal gui and print this list to the screen.\")\n",
        "cmd.do(\"listSettings                              Print to the screen the settings and their current parameter values. This is the more compact version.\")\n",
        "cmd.do(\"listSettings2                             Print to the screen the settings and their current parameter values.\")\n",
        "cmd.do(\"loadAmberTrajs                            The amber trajectories have to be loaded into the same object.\")\n",
        "cmd.do(\"loadAndAlignManyFiles1                    These are the instructions for loading and aligning multiple files. To save multiple models in a file to separate pdb files.\")\n",
        "cmd.do(\"loadAndAlignManyFiles2                    To align all of the loaded RNA structures in all possible combinations by their C1\" carbon atoms. Yes, this construct is a list comprehension inside a list comprehension!\")\n",
        "cmd.do(\"loadAndAlignManyFiles3                    These are the instructions for loading and aligning multiple files.\")\n",
        "cmd.do(\"loadImage                                 Load image.\")\n",
        "cmd.do(\"loadManyFiles                             Load into PyMOL multiple files with a common file stem. The is a script by Robert Campbell that has been updated for Python3.\")\n",
        "cmd.do(\"loadPDBbs                                 Load PDB ball-and-stick.\")\n",
        "cmd.do(\"loadPDBfile                               Load a pdb file in the current directory.\")\n",
        "cmd.do(\"loadPDBnb                                 Load PDB nb spheres.\")\n",
        "cmd.do(\"loadThreeMaps                             Three electron density as Isomesh.\")\n",
        "cmd.do(\"lsSnips                                   List all snips by tab trigger and description.\")\n",
        "cmd.do(\"lsSnipsPy                                 List all snips by tab trigger and description.\")\n",
        "cmd.do(\"lspymolrc                                 Print list of active pymolrc files.\")\n",
        "cmd.do(\"lspymolrcpy                               Print list of active pymolrc files.\")\n",
        "cmd.do(\"molscriptRibbon                           Show cartoon in the style of Molscript ribbons.\")\n",
        "cmd.do(\"ms                                        Measure surface area of the selection with the msms_pymol.py script.\")\n",
        "cmd.do(\"nmr                                       Show all models in a nmr structure.\")\n",
        "cmd.do(\"nmroff                                    Hide all but first model in a nmr structure.\")\n",
        "cmd.do(\"nmroffpy                                  Hide all but the first model in a nmr structure.\")\n",
        "cmd.do(\"nmrpy                                     Show all models in a nmr structure.\")\n",
        "cmd.do(\"nucleicAcidBackboneTubesSticks            This code shows the cartoon backbone tube as 65% transparent. It hides the rungs of the cartoon. It shows all of the non-H atoms are sticks. The motivation is to have the cartoon highlight the backbone without dominanting the scene.\")\n",
        "cmd.do(\"nucleicAcidCartoon                        Settings for nucliec acid cartoon. The dark blue used for electron density maps is called `density`. The cartoon_ladder_radius should be renamed the cartoon_rung_radius. The dimensions are in Angstroms.\")\n",
        "cmd.do(\"nucleicAcidCartoon2Strands                Coloring two strand differently of a double helix makes it easier to for the viewer to distinguish the two strands. The set command has the syntax of setting_name [, setting_value [, selection [,state ]]] . In this case, the selection has to be global, object, object-state, or per-atom settings. It cannot be a named selection. This is a weak spot in PyMOL. Coloring two strand differently of a double helix makes it easier to for the viewer to distinguish the two strands. Many double-stranded helices have one strand in the asymmetric unit. The second strand is in the biological unit. The coordinates for the second strand are in the pdb1 file type at the PDB. The second strand is in the second state, which is equivalent to the second model in the pdb file. The strands are labeled chain A and B (via the cartoon_nucliec_acid_color setting). The bases are colored differently too (via the cartoon_ladder_color setting).\")\n",
        "cmd.do(\"nucleicAcidCartoonFilledRings             The code provides a cartoon of the loaded nucleic acid that has the ladder rungs replaced by filled rings that are colored by atom type. The code can be applied to any nucleic acid. It is derived from the FR shortuct in pymolshortcuts.py.\")\n",
        "cmd.do(\"nucleicAcidColorbySequence                This code colors the nucleotides by base seqence. It can be applied to any nucleic acid.\")\n",
        "cmd.do(\"nucleicAcidDumbellCartoonColorbySequence  This code colors by the nucleotides by base seqence. The backcone is shown as a flatten ribbon with rolled edges that give the dumbell effect. The code can be applied to any nucleic acid. The code is dervied from the CR and DU shortcuts.\")\n",
        "cmd.do(\"nucleicAcidFlatRibbonColorbySequence      This code colors the nucleotides by base seqence. It can be applied to any nucleic acid. It is dervied from the CR shortcut. The backcone is shown as a flatten ribbon.\")\n",
        "cmd.do(\"numResiNucleic                            Print the number of residues in a nulceic acid (all chains).\")\n",
        "cmd.do(\"numResiNucleicChainA                      Print the number of residues in a nulceic acid chain.\")\n",
        "cmd.do(\"numResiProtein                            Print the number of residues in a protein.\")\n",
        "cmd.do(\"numResiProteinChainA                      Print the number of residues in chain A of a protein.\")\n",
        "cmd.do(\"obipythonSourceBlock                      Source block template in org-mode with the ob-ipython package.\")\n",
        "cmd.do(\"oneBondThicknessColor                     To change stick color and radius for the bond between atom 2 and 3, use the set_bond command.\")\n",
        "cmd.do(\"oneLetter                                 Switch from three letter code to one-letter code for amino acids.\")\n",
        "cmd.do(\"optAlignRNA                               OptiAlign.py by Jason Vertree modified for aligning multiple RNA structures.\")\n",
        "cmd.do(\"pearl                                     The pearl effect is made with two spheres with the outer sphere being transparent.\")\n",
        "cmd.do(\"presetDocs                                Return the docstring for the preset submodule. The command help preset fails to return anything. The command help(pymol.preset) has the same effect as help(preset).\")\n",
        "cmd.do(\"printAtomNames                            Print the atom names of a residue.\")\n",
        "cmd.do(\"printAtomNumbers                          Print the atom name and number of a residue.\")\n",
        "cmd.do(\"printBfactors                             Print the bfactors of a residue.\")\n",
        "cmd.do(\"printBs                                   Print the B-factors of a residue.\")\n",
        "cmd.do(\"printBs2digits                            Print B--factors for a residue with the B-factors rounded off to two decimal places.\")\n",
        "cmd.do(\"printBspartB                              Print B factors of part B of a residue.\")\n",
        "cmd.do(\"printColorByAtomCodes                     Print the codes for color-by-atom (util.cba*) alternates.\")\n",
        "cmd.do(\"printCoordinates                          Print the coordinates of the atoms in a residue.\")\n",
        "cmd.do(\"printDoc                                  Print document string of a function.\")\n",
        "cmd.do(\"printDocpy                                Print document string of a function.\")\n",
        "cmd.do(\"printNameB4ResiX                          Print name and b-factor for a residue.\")\n",
        "cmd.do(\"printNamesCoordinates                     Print the atom names and coordinates of the atoms in a residue.\")\n",
        "cmd.do(\"printNamesCoordinates                     Print the atom names as tuples and coordinates of the atoms in a residue as a list.\")\n",
        "cmd.do(\"printPath                                 Print the path to the currently used PyMOL binary.\")\n",
        "cmd.do(\"printPathpy                               Print the path to the currently used PyMOL binary.\")\n",
        "cmd.do(\"printResiResnNameB4ResiX                  Print resn, resi, atom name, and b-factor. \")\n",
        "cmd.do(\"printResiResnNameB4ResiXNoH               Print name and b-factor for a residue or residue range (e.g. 81:120). The noH variant.\")\n",
        "cmd.do(\"printVDWradii                             Print the van der Waals radii of the atoms in of a residue.\")\n",
        "cmd.do(\"pseudolabel                               Position label with pseudoatom.\")\n",
        "cmd.do(\"puttyCartoon                              Create a putty cartoon. The command may be needed if the above setting does not work. This can happen if using the presets. The command below may be needed if the above setting does not work.This can happen if using the presets. The command below may be needed if the above setting does not work. This can happen if using the presets.\")\n",
        "cmd.do(\"pymoldocs                                 Return to the command history window the docstrings for all of the functions in a module.\")\n",
        "cmd.do(\"pymoldocspy                               Return to the command history window the docstrings for all of the functions in a module.\")\n",
        "cmd.do(\"rdkrpcChem                                Demo of the use of the RPC server with a drug compound via the rdkit python module.\")\n",
        "cmd.do(\"rdkrpcProtein                             Demo of the use of the RPC server with a protein via rdkit.\")\n",
        "cmd.do(\"renameChain                               Rename a chain. \")\n",
        "cmd.do(\"renumAtoms                                Add or substract a atom number offset.\")\n",
        "cmd.do(\"renumResi                                 Add or substract a residue number offset.\")\n",
        "cmd.do(\"ringMode                                  Set the ring mode to a value between 0  and 6 in cartoons of nucleic acids.\")\n",
        "cmd.do(\"rmd                                       Remove all measurement objects in the interal GUI.\")\n",
        "cmd.do(\"rmhb                                      Delete all H-bonds in the selection, which is all by default.\")\n",
        "cmd.do(\"rmwater                                   Remove waters from molecular object.\")\n",
        "cmd.do(\"rotate                                    Rotate a selection about and axis by a given angle.\")\n",
        "cmd.do(\"rv                                        Return settings in rounded format.\")\n",
        "cmd.do(\"rvi                                       Return settings in rounded format while running PyMOL via the RCP server ipymol in a jupyter notebook. This is a modified version of the roundview.py script.\")\n",
        "cmd.do(\"rvr                                       Return settings in rounded format while running PyMOL via the RCP server rdkit in a jupyter notebook. This is a modified version of the roundview.py script.\")\n",
        "cmd.do(\"saln                                      Save an aln flle with a timestamp.\")\n",
        "cmd.do(\"salnpy                                    Save an aln flle with a timestamp. Python version.\")\n",
        "cmd.do(\"sas                                       Show the solvent excluded surface.\")\n",
        "cmd.do(\"savePNG                                   Save a png file of current scene to the current directory. PyMOL writes out only png files. This file may need to be converted to a tiff file. See the png2tiff snippet for a bash script that converts all png files in a folder into tiff files. 1: png filename. 2: x-dimension in pixels. 3: y-dimension in pixels, 1600 x 1000 approximates the golden ratio. Usually want a square for multipanel figures..4: dots per inch. 5: ray tracing off, 0; ray tracing on, 1 should also consider image without ray tracing shadows. \")\n",
        "cmd.do(\"saveSeppy                                 Saves multiple objects into multiple files using an optional prefix name.\")\n",
        "cmd.do(\"saxsEnvelope                              Display SAXS envelope. Edit to enter the name of the bead model object.\")\n",
        "cmd.do(\"sc111                                     Display all symmetry mates in one unit cell. Uses supercell.py in $HOME/Scripts/PyMOLscripts/. Change to your path to supercell.py.\")\n",
        "cmd.do(\"sc112                                     Display all symmetry mates in two unit cells along the c axis. Uses supercell.py in $HOME/Scripts/PyMOLscripts/.\")\n",
        "cmd.do(\"sc113                                     Display all symmetry mates in three unit cels along c. Uses supercell.py in $HOME/Scripts/PyMOLscripts/.\")\n",
        "cmd.do(\"sc114                                     Display all symmetry mates in four unit cells stacked long c-axis. Uses supercell.py in $HOME/Scripts/PyMOLscripts/.\")\n",
        "cmd.do(\"sc121                                     Display all symmetry mates in two unit cells along the b axis. Uses supercell.py in $HOME/Scripts/PyMOLscripts/.\")\n",
        "cmd.do(\"sc122                                     Display all symmetry mates in a 1 x 2 x 2 array of unit cells. Uses supercell.py in $HOME/Scripts/PyMOLscripts/.\")\n",
        "cmd.do(\"sc131                                     Display all symmetry mates in three unit cells along b. Uses supercell.py in $HOME/Scripts/PyMOLscripts/.\")\n",
        "cmd.do(\"sc133                                     Display all symmetry mates in 1 x 3 x 3 array of unit cell. Uses supercell.py in $HOME/Scripts/PyMOLscripts/.\")\n",
        "cmd.do(\"sc141                                     Display all symmetry mates in four unit cells stacked long b-axis. Uses supercell.py in $HOME/Scripts/PyMOLscripts/.\")\n",
        "cmd.do(\"sc144                                     Display all symmetry mates in in a 1 x 4 x 4 array. Uses supercell.py in $HOME/Scripts/PyMOLscripts/.\")\n",
        "cmd.do(\"sc211                                     Display all symmetry mates in two unit cell along a. Uses supercell.py in $HOME/Scripts/PyMOLscripts/.\")\n",
        "cmd.do(\"sc212                                     Display all symmetry mates in a 2 x 1 x 2 arrays of unit cells. Uses supercell.py in $HOME/Scripts/PyMOLscripts/.\")\n",
        "cmd.do(\"sc221                                     Display all symmetry mates in 2 x 2 x 1 array of unit cells. Uses supercell.py in $HOME/Scripts/PyMOLscripts/.\")\n",
        "cmd.do(\"sc222                                     Run supercell script to generate three cells in all directions. This script was written by Thomas Holder.\")\n",
        "cmd.do(\"sc233                                     Display all symmetry mates in a 2 x 3 x 3 array of unit cells. Uses supercell.py in $HOME/Scripts/PyMOLscripts/.\")\n",
        "cmd.do(\"sc311                                     Display all symmetry mates three three unit cells along a. Uses supercell.py in $HOME/Scripts/PyMOLscripts/.\")\n",
        "cmd.do(\"sc313                                     Display all symmetry mates in a 3 x 1 x 3 array of unit cells. Uses supercell.py in $HOME/Scripts/PyMOLscripts/.\")\n",
        "cmd.do(\"sc323                                     Display all symmetry mates in a 3 x 2 x 3 array of unit cells. Uses supercell.py in $HOME/Scripts/PyMOLscripts/.\")\n",
        "cmd.do(\"sc331                                     Display all symmetry mates in 3 x 3 x 1 array of unit cells. Uses supercell.py in $HOME/Scripts/PyMOLscripts/.\")\n",
        "cmd.do(\"sc332                                     Display all symmetry mates in 3 x 3 x 2 array of unit cells. Uses supercell.py in $HOME/Scripts/PyMOLscripts/.\")\n",
        "cmd.do(\"sc333                                     Display all symmetry mates in 3 x 3 x 3 array of unit cells. Uses supercell.py in $HOME/Scripts/PyMOLscripts/.\")\n",
        "cmd.do(\"sc411                                     Display all symmetry mates in four unit cells stacked long a-axis. Uses supercell.py in $HOME/Scripts/PyMOLscripts/.\")\n",
        "cmd.do(\"sc414                                     Display all symmetry mates in a 4 x 1 x 4 array. Uses supercell.py in $HOME/Scripts/PyMOLscripts/.\")\n",
        "cmd.do(\"sc441                                     Display all symmetry mates in four unit cells stacked long a-axis. Uses supercell.py in $HOME/Scripts/PyMOLscripts/.\")\n",
        "cmd.do(\"sc444                                     Display all symmetry mates in a 4 x 4 x4 array of unit cells. Uses supercell.py in $HOME/Scripts/PyMOLscripts/.\")\n",
        "cmd.do(\"sc444                                     Display all symmetry mates in a 4 x 4 x4 array of unit cells. Uses supercell.py in $HOME/Scripts/PyMOLscripts/.\")\n",
        "cmd.do(\"scaleRadiusColor                          Scale the radius and color of atoms as spheres by property in the B-value column.\")\n",
        "cmd.do(\"scaleRadiusColorPythonInsertpy            Python block insert for scaleRadiusColorpy.\")\n",
        "cmd.do(\"scaleRadiusColorpy                        Scale the radius and color of atoms as spheres by property in the B-value column.\")\n",
        "cmd.do(\"sccp4                                     Save electron density map flle with timestamp.\")\n",
        "cmd.do(\"sccp4py                                   Save electron density map flle with timestamp.\")\n",
        "cmd.do(\"sdae                                      Save dae flle with timestamp.\")\n",
        "cmd.do(\"sdaepy                                    Save dae flle with timestamp.\")\n",
        "cmd.do(\"selectAllBut                              Select all nitrogen atom in a selelction except from lysine.\")\n",
        "cmd.do(\"selectAtomsAround                         Select atoms within a radius around a ligand.\")\n",
        "cmd.do(\"selectChain                               Select a chain.\")\n",
        "cmd.do(\"selectElement                             Select atoms by element.\")\n",
        "cmd.do(\"selectHelices                             Select atoms by alpha helices.\")\n",
        "cmd.do(\"selectLoops                               Select atoms by beta loops.\")\n",
        "cmd.do(\"selectName                                Select atoms by name.\")\n",
        "cmd.do(\"selectResi                                Select residues by a range of numbers.\")\n",
        "cmd.do(\"selectResidues                            Select residues by name.\")\n",
        "cmd.do(\"selectResiduesAround                      Select residues within a radius around a ligand.\")\n",
        "cmd.do(\"selectStrands                             Select atoms by beta strands.\")\n",
        "cmd.do(\"setLigandValenceOn                        Display the bond valence of ligands only.\")\n",
        "cmd.do(\"setcolor                                  Set color name to a RGB code.\")\n",
        "cmd.do(\"setpath                                   Set additional path for PyMOL to search on startup.\")\n",
        "cmd.do(\"sidehChainHelper                          In cartoons, hide the backbone atoms of selected residues when showing then as sticks.\")\n",
        "cmd.do(\"sigDigits                                 Set number of decimals places to show in distance labels.\")\n",
        "cmd.do(\"sigang                                    Set angle labels to display 2 decimals places.\")\n",
        "cmd.do(\"sigdihedral                               Set dihedral labels to display 2 decimals places to the right of the decimal point.\")\n",
        "cmd.do(\"sigdist                                   Set distance labels to display 2 decimals.\")\n",
        "cmd.do(\"solventRadius                             Set radius of ball used to make solvent accessible surface.\")\n",
        "cmd.do(\"spng                                      Save png flle with timestamp.\")\n",
        "cmd.do(\"spngpy                                    Save png flle with timestamp.\")\n",
        "cmd.do(\"spse                                      Save pse flle with timestamp\")\n",
        "cmd.do(\"stack                                     Base-stacking figure.\")\n",
        "cmd.do(\"stateOne                                  Select state 1 from a model with multiple states.\")\n",
        "cmd.do(\"stereoDraw                                Stereo draw.\")\n",
        "cmd.do(\"stereoRay                                 Stereo ray.\")\n",
        "cmd.do(\"stereokb                                  Set keyboard shortcut by mapping F1 to stereo.\")\n",
        "cmd.do(\"symexp                                    The code expands the asymmetric unit. It like the generate symmetry mates command but it provides more control over the prefix name of the symmetry mates and the addition of unique segment identifiers for each symmetry mate. The usage: symexp prefix, object, (selection), cutoff, segidFlag. The cutoff is in Angstroms. The segidFlag set to 1 will add unique segids. For related functions, see SC***.\")\n",
        "cmd.do(\"synch                                     Wait until all current commands have been executed. A timeout ensures that that command ecentually returns.\")\n",
        "cmd.do(\"threeMapsIsosurface                       Display three electron density maps as isosurfaces.\")\n",
        "cmd.do(\"threeMapsVolume                           Three electron density as volumes. Make sure to rename map file so that the root filename differs from pdb root filename.\")\n",
        "cmd.do(\"timcolor                                  Run the timcolor function from the pymolshortcuts.py file to color atoms accordings to Tim Mather\"s biophysical coloring scheme for proteins.\")\n",
        "cmd.do(\"turnAboutAxis                             Turn about axis.\")\n",
        "cmd.do(\"undoSelection                             Undo a selection.\")\n",
        "cmd.do(\"unitCellEdgesColorBlack                   Color unit cell edges black. The settings for controlling the unit cell color are hard to find.\")\n",
        "cmd.do(\"volumeRamp                                Volume ramp.\")\n",
        "cmd.do(\"wallart                                   Reset hash_max from 100 to 2000 to enable the saving of 28 inches by 28 inches.\")\n",
        "cmd.do(\"wallartpy                                 Reset hash_max from 100 to 2000 to enable the saving of 28 inches by 28 inches.\")\n",
        "cmd.do(\"waterTriple                               Examples of a triple water pentagon. Zoom in on the selection. Edit by changing the residue number.\")\n",
        "cmd.do(\"writeCommandReference2HTML                Write the command reference to html file in the present working directory. \")\n",
        "cmd.do(\"yrb                                       Run the yrb function from the pymolshortcuts.py file. \")\n",
        "cmd.do(\"------------------------------------------------------------------------------------------------------------------------------------------------------------------------'''\")"
      ]
    },
    {
    "cell_type": "markdown",
    "metadata": {
      "id": "279069f44861"
      },
      "source": [
        "##his31asp70\n",
        "\n",
        "Display the famous Asp70-His31 salt-bridge from T4 lysozyme that contributes3-5 kcal/mol to protein stability. \n",
        "\n",
        "*PyMOL*"
      ]
    },
    {
    "cell_type": "code",
    "metadata": {
      "id": "6058d74a3522"
      },
      "source": [
        "cmd.do(\"fetch 1lw9, async=0; \")\n",
        "cmd.do(\"zoom (resi 31 or resi 70); \")\n",
        "cmd.do(\"preset.technical(selection='all'); \")\n",
        "cmd.do(\"bg_color gray70; \")\n",
        "cmd.do(\"clip slab, 7,(resi 31 or resi 70);\")\n",
        "cmd.do(\"rock;\")"
      ]
    },
    {
    "cell_type": "markdown",
    "metadata": {
      "id": "7fea9285ae5a"
      },
      "source": [
        "##waterTriple\n",
        "\n",
        "Examples of a triple water pentagon. Zoom in on the selection. Edit by changing the residue number.\n",
        "\n",
        "*PyMOL*"
      ]
    },
    {
    "cell_type": "code",
    "metadata": {
      "id": "20ae32bd8545"
      },
      "source": [
        "cmd.do(\"fetch lw9, async=0; \")\n",
        "cmd.do(\"zoom resi 313; \")\n",
        "cmd.do(\"preset.technical(selection='all', mode=1);\")"
      ]
    },
    {
    "cell_type": "markdown",
    "metadata": {
      "id": "20cd9e9a6c1"
      },
      "source": [
        "##ligandSelect\n",
        "\n",
        "Make selection of ligand atoms.\n",
        "\n",
        "*PyMOL*"
      ]
    },
    {
    "cell_type": "code",
    "metadata": {
      "id": "5d36bf8701ff"
      },
      "source": [
        "cmd.do(\"select ligand, organic;\")"
      ]
    },
    {
    "cell_type": "markdown",
    "metadata": {
      "id": "c561efe122b"
      },
      "source": [
        "##github\n",
        "\n",
        "Print url of README.md file of the pymolsnips repository.\n",
        "\n",
        "*PyMOL*"
      ]
    },
    {
    "cell_type": "code",
    "metadata": {
      "id": "d8998212fef7"
      },
      "source": [
        "cmd.do(\"https://github.com/MooersLab/pymolsnips/blob/master/README.md\")"
      ]
    },
    {
    "cell_type": "markdown",
    "metadata": {
      "id": "e84548c1c55b"
      },
      "source": [
        "##sigdihedral\n",
        "\n",
        "Set dihedral labels to display 2 decimals places to the right of the decimal point.\n",
        "\n",
        "*PyMOL*"
      ]
    },
    {
    "cell_type": "code",
    "metadata": {
      "id": "ea45ffccfbc0"
      },
      "source": [
        "cmd.do(\"set label_dihedral_digits, 2;\")"
      ]
    },
    {
    "cell_type": "markdown",
    "metadata": {
      "id": "48896cd54cf8"
      },
      "source": [
        "##stateOne\n",
        "\n",
        "Select state 1 from a model with multiple states.\n",
        "\n",
        "*PyMOL*"
      ]
    },
    {
    "cell_type": "code",
    "metadata": {
      "id": "588a9a29dac2"
      },
      "source": [
      "cmd.create('newobject', 'oldobject', '1', '1');"
      ]
    },
    {
    "cell_type": "markdown",
    "metadata": {
      "id": "6a250ade1b49"
      },
      "source": [
        "##sc112\n",
        "\n",
        "Display all symmetry mates in two unit cells along the c axis. Uses supercell.py in $HOME/Scripts/PyMOLscripts/.\n",
        "\n",
        "*PyMOL*"
      ]
    },
    {
    "cell_type": "code",
    "metadata": {
      "id": "2eaddc0c442e"
      },
      "source": [
        "cmd.do(\"run $HOME/Scripts/PyMOLscripts/supercell.py;\")\n",
        "cmd.do(\"supercell 1, 1, 2, ,  orange,  supercell1, 1;\")"
      ]
    },
    {
    "cell_type": "markdown",
    "metadata": {
      "id": "ea1db256b739"
      },
      "source": [
        "##sc113\n",
        "\n",
        "Display all symmetry mates in three unit cels along c. Uses supercell.py in $HOME/Scripts/PyMOLscripts/.\n",
        "\n",
        "*PyMOL*"
      ]
    },
    {
    "cell_type": "code",
    "metadata": {
      "id": "f40171888ae6"
      },
      "source": [
        "cmd.do(\"run $HOME/Scripts/PyMOLscripts/supercell.py;\")\n",
        "cmd.do(\"supercell 1, 1, 3, ,  orange,  supercell1, 1;\")"
      ]
    },
    {
    "cell_type": "markdown",
    "metadata": {
      "id": "5d25c0745561"
      },
      "source": [
        "##sc311\n",
        "\n",
        "Display all symmetry mates three three unit cells along a. Uses supercell.py in $HOME/Scripts/PyMOLscripts/.\n",
        "\n",
        "*PyMOL*"
      ]
    },
    {
    "cell_type": "code",
    "metadata": {
      "id": "445219ee3ad8"
      },
      "source": [
        "cmd.do(\"run $HOME/Scripts/PyMOLscripts/supercell.py;\")\n",
        "cmd.do(\"supercell 3, 1, 1, ,  orange,  supercell1, 1;\")"
      ]
    },
    {
    "cell_type": "markdown",
    "metadata": {
      "id": "4e0407d897d1"
      },
      "source": [
        "##sc131\n",
        "\n",
        "Display all symmetry mates in three unit cells along b. Uses supercell.py in $HOME/Scripts/PyMOLscripts/.\n",
        "\n",
        "*PyMOL*"
      ]
    },
    {
    "cell_type": "code",
    "metadata": {
      "id": "cfdaa42c5e00"
      },
      "source": [
        "cmd.do(\"run $HOME/Scripts/PyMOLscripts/supercell.py;\")\n",
        "cmd.do(\"supercell 1, 3, 1, , orange,  supercell1, 1;\")"
      ]
    },
    {
    "cell_type": "markdown",
    "metadata": {
      "id": "27ad9c71a1a3"
      },
      "source": [
        "##sc211\n",
        "\n",
        "Display all symmetry mates in two unit cell along a. Uses supercell.py in $HOME/Scripts/PyMOLscripts/.\n",
        "\n",
        "*PyMOL*"
      ]
    },
    {
    "cell_type": "code",
    "metadata": {
      "id": "fabbcdf2af85"
      },
      "source": [
        "cmd.do(\"run $HOME/Scripts/PyMOLscripts/supercell.py;\")\n",
        "cmd.do(\"supercell 2, 1, 1, , orange,  supercell1, 1;\")"
      ]
    },
    {
    "cell_type": "markdown",
    "metadata": {
      "id": "909aaeee1445"
      },
      "source": [
        "##sc121\n",
        "\n",
        "Display all symmetry mates in two unit cells along the b axis. Uses supercell.py in $HOME/Scripts/PyMOLscripts/.\n",
        "\n",
        "*PyMOL*"
      ]
    },
    {
    "cell_type": "code",
    "metadata": {
      "id": "4f7615d3445b"
      },
      "source": [
        "cmd.do(\"run $HOME/Scripts/PyMOLscripts/supercell.py;\")\n",
        "cmd.do(\"supercell 1, 2, 1, ,  orange,  supercell1, 1;\")"
      ]
    },
    {
    "cell_type": "markdown",
    "metadata": {
      "id": "5ddd960f5f3"
      },
      "source": [
        "##sc122\n",
        "\n",
        "Display all symmetry mates in a 1 x 2 x 2 array of unit cells. Uses supercell.py in $HOME/Scripts/PyMOLscripts/.\n",
        "\n",
        "*PyMOL*"
      ]
    },
    {
    "cell_type": "code",
    "metadata": {
      "id": "b82da986ae5d"
      },
      "source": [
        "cmd.do(\"run $HOME/Scripts/PyMOLscripts/supercell.py;\")\n",
        "cmd.do(\"supercell 1, 2, 2, , orange,  supercell1, 1;\")"
      ]
    },
    {
    "cell_type": "markdown",
    "metadata": {
      "id": "b897b0c231e7"
      },
      "source": [
        "##sc221\n",
        "\n",
        "Display all symmetry mates in 2 x 2 x 1 array of unit cells. Uses supercell.py in $HOME/Scripts/PyMOLscripts/.\n",
        "\n",
        "*PyMOL*"
      ]
    },
    {
    "cell_type": "code",
    "metadata": {
      "id": "ef6206f403b4"
      },
      "source": [
        "cmd.do(\"run $HOME/Scripts/PyMOLscripts/supercell.py;\")\n",
        "cmd.do(\"supercell 2, 2, 1, ,  orange,  supercell1, 1;\")"
      ]
    },
    {
    "cell_type": "markdown",
    "metadata": {
      "id": "e9ecfb42ac09"
      },
      "source": [
        "##sc212\n",
        "\n",
        "Display all symmetry mates in a 2 x 1 x 2 arrays of unit cells. Uses supercell.py in $HOME/Scripts/PyMOLscripts/.\n",
        "\n",
        "*PyMOL*"
      ]
    },
    {
    "cell_type": "code",
    "metadata": {
      "id": "c66e231cbbb9"
      },
      "source": [
        "cmd.do(\"run $HOME/Scripts/PyMOLscripts/supercell.py;\")\n",
        "cmd.do(\"supercell 2, 1, 2, , orange,  supercell1, 1;\")"
      ]
    },
    {
    "cell_type": "markdown",
    "metadata": {
      "id": "19b566e31bd7"
      },
      "source": [
        "##sc133\n",
        "\n",
        "Display all symmetry mates in 1 x 3 x 3 array of unit cell. Uses supercell.py in $HOME/Scripts/PyMOLscripts/.\n",
        "\n",
        "*PyMOL*"
      ]
    },
    {
    "cell_type": "code",
    "metadata": {
      "id": "dd134a14e901"
      },
      "source": [
        "cmd.do(\"run $HOME/Scripts/PyMOLscripts/supercell.py;\")\n",
        "cmd.do(\"supercell 1, 3, 3, , orange,  supercell1, 1;\")"
      ]
    },
    {
    "cell_type": "markdown",
    "metadata": {
      "id": "6582f3c05e13"
      },
      "source": [
        "##sc313\n",
        "\n",
        "Display all symmetry mates in a 3 x 1 x 3 array of unit cells. Uses supercell.py in $HOME/Scripts/PyMOLscripts/.\n",
        "\n",
        "*PyMOL*"
      ]
    },
    {
    "cell_type": "code",
    "metadata": {
      "id": "86777ddad86"
      },
      "source": [
        "cmd.do(\"run $HOME/Scripts/PyMOLscripts/supercell.py;\")\n",
        "cmd.do(\"supercell 3, 1, 3, , orange,  supercell1, 1;\")"
      ]
    },
    {
    "cell_type": "markdown",
    "metadata": {
      "id": "897a8a94855e"
      },
      "source": [
        "##sc331\n",
        "\n",
        "Display all symmetry mates in 3 x 3 x 1 array of unit cells. Uses supercell.py in $HOME/Scripts/PyMOLscripts/.\n",
        "\n",
        "*PyMOL*"
      ]
    },
    {
    "cell_type": "code",
    "metadata": {
      "id": "5a7b1ae7224a"
      },
      "source": [
        "cmd.do(\"run $HOME/Scripts/PyMOLscripts/supercell.py;\")\n",
        "cmd.do(\"supercell 3, 3, 1, ,  orange,  supercell1, 1;\")"
      ]
    },
    {
    "cell_type": "markdown",
    "metadata": {
      "id": "6e1f804ed57f"
      },
      "source": [
        "##sc233\n",
        "\n",
        "Display all symmetry mates in a 2 x 3 x 3 array of unit cells. Uses supercell.py in $HOME/Scripts/PyMOLscripts/.\n",
        "\n",
        "*PyMOL*"
      ]
    },
    {
    "cell_type": "code",
    "metadata": {
      "id": "8113c16e9256"
      },
      "source": [
        "cmd.do(\"run $HOME/Scripts/PyMOLscripts/supercell.py;\")\n",
        "cmd.do(\"supercell 2, 3, 3, ,  orange,  supercell1, 1;\")"
      ]
    },
    {
    "cell_type": "markdown",
    "metadata": {
      "id": "ccc22d600596"
      },
      "source": [
        "##sc323\n",
        "\n",
        "Display all symmetry mates in a 3 x 2 x 3 array of unit cells. Uses supercell.py in $HOME/Scripts/PyMOLscripts/.\n",
        "\n",
        "*PyMOL*"
      ]
    },
    {
    "cell_type": "code",
    "metadata": {
      "id": "c40c3efbe9a4"
      },
      "source": [
        "cmd.do(\"run $HOME/Scripts/PyMOLscripts/supercell.py;\")\n",
        "cmd.do(\"supercell 1, 1, 1, , orange,  supercell1, 1;\")"
      ]
    },
    {
    "cell_type": "markdown",
    "metadata": {
      "id": "1f387509ebdf"
      },
      "source": [
        "##sc332\n",
        "\n",
        "Display all symmetry mates in 3 x 3 x 2 array of unit cells. Uses supercell.py in $HOME/Scripts/PyMOLscripts/.\n",
        "\n",
        "*PyMOL*"
      ]
    },
    {
    "cell_type": "code",
    "metadata": {
      "id": "1693b35500de"
      },
      "source": [
        "cmd.do(\"run $HOME/Scripts/PyMOLscripts/supercell.py;\")\n",
        "cmd.do(\"supercell 3, 3, 2, ,  orange,  supercell1, 1;\")"
      ]
    },
    {
    "cell_type": "markdown",
    "metadata": {
      "id": "639539dc3bda"
      },
      "source": [
        "##sc333\n",
        "\n",
        "Display all symmetry mates in 3 x 3 x 3 array of unit cells. Uses supercell.py in $HOME/Scripts/PyMOLscripts/.\n",
        "\n",
        "*PyMOL*"
      ]
    },
    {
    "cell_type": "code",
    "metadata": {
      "id": "295a5c1c0462"
      },
      "source": [
        "cmd.do(\"run $HOME/Scripts/PyMOLscripts/supercell.py;\")\n",
        "cmd.do(\"supercell 3, 3, 3, , orange,  supercell1, 1;\")"
      ]
    },
    {
    "cell_type": "markdown",
    "metadata": {
      "id": "9f05a509a7a3"
      },
      "source": [
        "##sc114\n",
        "\n",
        "Display all symmetry mates in four unit cells stacked long c-axis. Uses supercell.py in $HOME/Scripts/PyMOLscripts/.\n",
        "\n",
        "*PyMOL*"
      ]
    },
    {
    "cell_type": "code",
    "metadata": {
      "id": "25efb8a77adf"
      },
      "source": [
        "cmd.do(\"run $HOME/Scripts/PyMOLscripts/supercell.py;\")\n",
        "cmd.do(\"supercell 1, 1, 4, ,  orange,  supercell1, 1;\")"
      ]
    },
    {
    "cell_type": "markdown",
    "metadata": {
      "id": "7dba4b43d32f"
      },
      "source": [
        "##sc141\n",
        "\n",
        "Display all symmetry mates in four unit cells stacked long b-axis. Uses supercell.py in $HOME/Scripts/PyMOLscripts/.\n",
        "\n",
        "*PyMOL*"
      ]
    },
    {
    "cell_type": "code",
    "metadata": {
      "id": "2a14dc78de75"
      },
      "source": [
        "cmd.do(\"run $HOME/Scripts/PyMOLscripts/supercell.py;\")\n",
        "cmd.do(\"supercell 1, 4, 1, ,  orange,  supercell1, 1;\")"
      ]
    },
    {
    "cell_type": "markdown",
    "metadata": {
      "id": "6f58dd4004f5"
      },
      "source": [
        "##sc411\n",
        "\n",
        "Display all symmetry mates in four unit cells stacked long a-axis. Uses supercell.py in $HOME/Scripts/PyMOLscripts/.\n",
        "\n",
        "*PyMOL*"
      ]
    },
    {
    "cell_type": "code",
    "metadata": {
      "id": "e314f2fb9920"
      },
      "source": [
        "cmd.do(\"run $HOME/Scripts/PyMOLscripts/supercell.py;\")\n",
        "cmd.do(\"supercell 4, 1, 1, ,  orange,  supercell1, 1;\")"
      ]
    },
    {
    "cell_type": "markdown",
    "metadata": {
      "id": "c84f44e64693"
      },
      "source": [
        "##saln\n",
        "\n",
        "Save an aln flle with a timestamp.\n",
        "\n",
        "*PyMOL*"
      ]
    },
    {
    "cell_type": "code",
    "metadata": {
      "id": "f303cf6a92e9"
      },
      "source": [
        "cmd.do(\"python;\")\n",
        "cmd.do(\"import datetime;\")\n",
        "cmd.do(\"from pymol import cmd;\")\n",
        "cmd.do(\"DT =datetime.datetime.now().strftime('yr%Ymo%mday%dhr%Hmin%M');\")\n",
        "cmd.do(\"s = str(DT);\")\n",
        "cmd.do(\"cmd.save(stemName+s+'.aln');\")\n",
        "cmd.do(\"python end;\")"
      ]
    },
    {
    "cell_type": "markdown",
    "metadata": {
      "id": "dbb5e3329ed3"
      },
      "source": [
        "##sccp4\n",
        "\n",
        "Save electron density map flle with timestamp.\n",
        "\n",
        "*PyMOL*"
      ]
    },
    {
    "cell_type": "code",
    "metadata": {
      "id": "c8392d57a32d"
      },
      "source": [
        "cmd.do(\"python;\")\n",
        "cmd.do(\"import datetime;\")\n",
        "cmd.do(\"from pymol import cmd; \")\n",
        "cmd.do(\"DT =datetime.datetime.now().strftime('yr%Ymo%mday%dhr%Hmin%M');\")\n",
        "cmd.do(\"s = str(DT); \")\n",
        "cmd.do(\"cmd.save(stemName+s+'.ccp4'); \")\n",
        "cmd.do(\"python end;\")"
      ]
    },
    {
    "cell_type": "markdown",
    "metadata": {
      "id": "9234654d57f7"
      },
      "source": [
        "##sdae\n",
        "\n",
        "Save dae flle with timestamp.\n",
        "\n",
        "*PyMOL*"
      ]
    },
    {
    "cell_type": "code",
    "metadata": {
      "id": "f0028f2444ec"
      },
      "source": [
      "import datetime;\n",
      "DT =datetime.datetime.now().strftime('yr%Ymo%mday%dhr%Hmin%M');\n",
      "s = str(DT); \n",
      "cmd.save(stemName+s+'.dae');"
      ]
    },
    {
    "cell_type": "markdown",
    "metadata": {
      "id": "39fb05d51357"
      },
      "source": [
        "##carvedIsosurface\n",
        "\n",
        "Carved isosurface representation of electron density.\n",
        "\n",
        "*PyMOL*"
      ]
    },
    {
    "cell_type": "code",
    "metadata": {
      "id": "937aaf898934"
      },
      "source": [
        "cmd.do(\"delete all;\")\n",
        "cmd.do(\"# Fetch the coordinates. Need internet connection.;\")\n",
        "cmd.do(\"fetch 4dgr, async=0;\")\n",
        "cmd.do(\"# Fetch the electron density map.;\")\n",
        "cmd.do(\"fetch 4dgr, type=2fofc,async=0;\")\n",
        "cmd.do(\"# create a selection out of the glycan;\")\n",
        "cmd.do(\"select LongGlycan, resi 469:477;\")\n",
        "cmd.do(\"orient LongGlycan;\")\n",
        "cmd.do(\"remove not LongGlycan;\")\n",
        "cmd.do(\"remove name H*;\")\n",
        "cmd.do(\"isosurface 2fofcmap, 4dgr_2fofc, 1, LongGlycan, carve = 1.8;\")\n",
        "cmd.do(\"color density, 2fofcmap; \")\n",
        "cmd.do(\"show sticks;\")\n",
        "cmd.do(\"show spheres;\")\n",
        "cmd.do(\"set stick_radius, .07;\")\n",
        "cmd.do(\"set sphere_scale, .19;\")\n",
        "cmd.do(\"set sphere_scale, .13, elem H;\")\n",
        "cmd.do(\"set bg_rgb=[1, 1, 1];\")\n",
        "cmd.do(\"set stick_quality, 50;\")\n",
        "cmd.do(\"set sphere_quality, 4;\")\n",
        "cmd.do(\"color gray85, elem C;\")\n",
        "cmd.do(\"color red, elem O;\")\n",
        "cmd.do(\"color slate, elem N;\")\n",
        "cmd.do(\"color gray98, elem H;\")\n",
        "cmd.do(\"set stick_color, gray50;\")\n",
        "cmd.do(\"set ray_trace_mode, 1;\")\n",
        "cmd.do(\"set ray_texture, 2;\")\n",
        "cmd.do(\"set antialias, 3;\")\n",
        "cmd.do(\"set ambient, 0.5;\")\n",
        "cmd.do(\"set spec_count, 5;\")\n",
        "cmd.do(\"set shininess, 50;\")\n",
        "cmd.do(\"set specular, 1;\")\n",
        "cmd.do(\"set reflect, .1;\")\n",
        "cmd.do(\"set dash_gap, 0;\")\n",
        "cmd.do(\"set dash_color, black;\")\n",
        "cmd.do(\"set dash_gap, .15;\")\n",
        "cmd.do(\"set dash_length, .05;\")\n",
        "cmd.do(\"set dash_round_ends, 0;\")\n",
        "cmd.do(\"set dash_radius, .05;\")\n",
        "cmd.do(\"set_view (0.34,-0.72,0.61,0.8,0.56,0.22,-0.51,0.4,0.77,0.0,0.0,-81.31,44.64,-9.02,58.62,65.34,97.28,-20.0);\")\n",
        "cmd.do(\"preset.ball_and_stick('all',mode=1);\")\n",
        "cmd.do(\"draw;\")"
      ]
    },
    {
    "cell_type": "markdown",
    "metadata": {
      "id": "8aadad3642ce"
      },
      "source": [
        "##fetch2FoFcIsosurface\n",
        "\n",
        "Fetch 2FoFc map as an isosurface. Edit the PDB-ID code. Use lowercase letter for the fifth character to select a single chain. Render and display a contour of this map as a chicken wire representation.\n",
        "\n",
        "*PyMOL*"
      ]
    },
    {
    "cell_type": "code",
    "metadata": {
      "id": "26ea95cc047f"
      },
      "source": [
        "cmd.do(\"fetch 3nd4, 3nd4_2fofc, type=2fofc, async=0;\")\n",
        "cmd.do(\"isosurface 2fofcmap, 3nd4_2fofc, 1, 3nd4, carve = 1.8;\")"
      ]
    },
    {
    "cell_type": "markdown",
    "metadata": {
      "id": "3df45f523eae"
      },
      "source": [
        "##threeMapsIsosurface\n",
        "\n",
        "Display three electron density maps as isosurfaces.\n",
        "\n",
        "*PyMOL*"
      ]
    },
    {
    "cell_type": "code",
    "metadata": {
      "id": "369859e23365"
      },
      "source": [
        "cmd.do(\"load 4dgr.pdb;\")\n",
        "cmd.do(\"# Make sure to rename map file so that ;\")\n",
        "cmd.do(\"# the root filename differs from pdb root filename;\")\n",
        "cmd.do(\"load 4dgr_2fofc.ccp4, 2fofc;\")\n",
        "cmd.do(\"load 4dgr_fofc.ccp4, fofc;\")\n",
        "cmd.do(\"select  glycan, resid 200 or (resid 469:477);\")\n",
        "cmd.do(\"isosurface mesh1, 2fofc, 1.0, glycan;\")\n",
        "cmd.do(\"color density, mesh1;\")\n",
        "cmd.do(\"isosurface  mesh2, fofc, 3.0, glycan;\")\n",
        "cmd.do(\"color green, mesh2;\")\n",
        "cmd.do(\"isosurface  mesh3, fofc, -3.0, glycan;\")\n",
        "cmd.do(\"color red, mesh3;\")"
      ]
    },
    {
    "cell_type": "markdown",
    "metadata": {
      "id": "55e1b8991d99"
      },
      "source": [
        "##carvedVolume\n",
        "\n",
        "Carved volume representation of electron density.\n",
        "\n",
        "*PyMOL*"
      ]
    },
    {
    "cell_type": "code",
    "metadata": {
      "id": "44bebc4d7e5b"
      },
      "source": [
        "cmd.do(\"delete all;\")\n",
        "cmd.do(\"# Fetch the coordinates. Need internet connection.;\")\n",
        "cmd.do(\"fetch 4dgr, async=0;\")\n",
        "cmd.do(\"# Fetch the electron density map.;\")\n",
        "cmd.do(\"fetch 4dgr, type=2fofc,async=0;\")\n",
        "cmd.do(\"# create a selection out of the glycan;\")\n",
        "cmd.do(\"select LongGlycan, resi 469:477;\")\n",
        "cmd.do(\"# oreint the long axes of the object along the x-axis;\")\n",
        "cmd.do(\"orient LongGlycan;\")\n",
        "cmd.do(\"# remove everything except the glycan;\")\n",
        "cmd.do(\"remove not LongGlycan;\")\n",
        "cmd.do(\"# remove the remaining hydrogen atoms;\")\n",
        "cmd.do(\"remove name H*;\")\n",
        "cmd.do(\"# show the electron density map as a surface.\")\n",
        "cmd.do(\"surface 2fofcmap, 4dgr_2fofc, 1, LongGlycan, carve = 1.8;\")\n",
        "cmd.do(\"color density, 2fofcmap; \")\n",
        "cmd.do(\"show sticks;\")\n",
        "cmd.do(\"show spheres;\")\n",
        "cmd.do(\"set stick_radius, .07;\")\n",
        "cmd.do(\"set sphere_scale, .19;\")\n",
        "cmd.do(\"set sphere_scale, .13, elem H;\")\n",
        "cmd.do(\"set bg_rgb=[1, 1, 1];\")\n",
        "cmd.do(\"set stick_quality, 50;\")\n",
        "cmd.do(\"# make the spheres smooth with larger settings.;\")\n",
        "cmd.do(\"set sphere_quality, 4;\")\n",
        "cmd.do(\"# gray85 is off-white, gray0 is black;\")\n",
        "cmd.do(\"color gray85, elem C;\")\n",
        "cmd.do(\"color red, elem O;\")\n",
        "cmd.do(\"color slate, elem N;\")\n",
        "cmd.do(\"color gray98, elem H;\")\n",
        "cmd.do(\"set stick_color, gray50;\")\n",
        "cmd.do(\"set ray_trace_mode, 1;\")\n",
        "cmd.do(\"set ray_texture, 2;\")\n",
        "cmd.do(\"set antialias, 3;\")\n",
        "cmd.do(\"set ambient, 0.5;\")\n",
        "cmd.do(\"set spec_count, 5;\")\n",
        "cmd.do(\"set shininess, 50;\")\n",
        "cmd.do(\"set specular, 1;\")\n",
        "cmd.do(\"set reflect, .1;\")\n",
        "cmd.do(\"set dash_gap, 0;\")\n",
        "cmd.do(\"set dash_color, black;\")\n",
        "cmd.do(\"set dash_gap, .15;\")\n",
        "cmd.do(\"set dash_length, .05;\")\n",
        "cmd.do(\"set dash_round_ends, 0;\")\n",
        "cmd.do(\"set dash_radius, .05;\")\n",
        "cmd.do(\"set_view (0.34,-0.72,0.61,0.8,0.56,0.22,-0.51,0.4,0.77,0.0,0.0,-81.31,44.64,-9.02,58.62,65.34,97.28,-20.0);\")\n",
        "cmd.do(\"preset.ball_and_stick('all',mode=1);\")\n",
        "cmd.do(\"draw;\")"
      ]
    },
    {
    "cell_type": "markdown",
    "metadata": {
      "id": "61ff4394d022"
      },
      "source": [
        "##fetch2FoFcVolume\n",
        "\n",
        "Fetch 2FoFc map as a volume.\n",
        "\n",
        "*PyMOL*"
      ]
    },
    {
    "cell_type": "code",
    "metadata": {
      "id": "f8dd2b025d09"
      },
      "source": [
        "cmd.do(\"fetch 3nd4, type=cif, async=0;\")\n",
        "cmd.do(\"fetch 3nd4, {1:3nd4_2fofc, type=2fofc, async=0;\")\n",
        "cmd.do(\"# Render and display a contour of this map as a volume around a selection called LongGlycan.;\")\n",
        "cmd.do(\"volume 2fofcmap, 3nd4_2fofc, 1, LongGlycan, carve = 1.8;\")"
      ]
    },
    {
    "cell_type": "markdown",
    "metadata": {
      "id": "71dc74ec53e9"
      },
      "source": [
        "##threeMapsVolume\n",
        "\n",
        "Three electron density as volumes. Make sure to rename map file so that the root filename differs from pdb root filename.\n",
        "\n",
        "*PyMOL*"
      ]
    },
    {
    "cell_type": "code",
    "metadata": {
      "id": "cd6655c5c824"
      },
      "source": [
        "cmd.do(\"load 4dgr.pdb;\")\n",
        "cmd.do(\"load 4dgr_2fofc.ccp4, 2fofc;\")\n",
        "cmd.do(\"load 4dgr_fofc.ccp4, fofc;\")\n",
        "cmd.do(\"select  glycan, resid 200 or (resid 469:477);\")\n",
        "cmd.do(\"volume mesh1, 2fofc, 1.0, glycan;\")\n",
        "cmd.do(\"color density, mesh1;\")\n",
        "cmd.do(\"volume mesh2, fofc, 3.0, glycan;\")\n",
        "cmd.do(\"color green, mesh2;\")\n",
        "cmd.do(\"volume mesh3, fofc, -3.0, glycan;\")\n",
        "cmd.do(\"color red, mesh3;\")"
      ]
    },
    {
    "cell_type": "markdown",
    "metadata": {
      "id": "5b599457e01e"
      },
      "source": [
        "##rvi\n",
        "\n",
        "Return settings in rounded format while running PyMOL via the RCP server ipymol in a jupyter notebook. This is a modified version of the roundview.py script.\n",
        "\n",
        "*PyMOL*"
      ]
    },
    {
    "cell_type": "code",
    "metadata": {
      "id": "8568b0e03a08"
      },
      "source": [
      "def rvj(StoredView=0, decimal_places=2, outname='roundedview.txt'):\n",
      "    '''\n",
      "    rvj() is a modification of the the rv() function (aka the roundview.py) \n",
      "    so that it can run in Jupyter notebooks with the ipymol.viewer. \n",
      "    A set_view string is printed to the noteobook in a format that is ready \n",
      "    for reuse. \n",
      "    \n",
      "    The ipymol module was developed by Carlos Hernandez:\n",
      "    \n",
      "    https://github.com/cxhernandez/ipymol\n",
      "    \n",
      "    The pre-requisites for installing ipymol are as follows:\n",
      "    \n",
      "    1. Make a jupyter notebook kernel for Python interpreter inside of \n",
      "       the Schrodinger PyMOL. See the PyMOL Snippets GitHub Page for \n",
      "       a description of how to make one.\n",
      "    2. Install the following build of ipymol at the PyMOL prompt.\n",
      "       You need to log into your GitHub account first.\n",
      "    \n",
      "    pip install git+pip install git+https://github.com/cxhernandez/ipymol.git@2a30d6ec1588434e6f0f72a1d572444f89ff535b\n",
      "    \n",
      "    3. Make a bash alias to this PyMOL app file.\n",
      "    \n",
      "    4. Launch the jupyter notebook and select the pymol.python kernel.\n",
      "    \n",
      "    5. Open a terminal instance from the File pulldown in jupyter notebook.\n",
      "    \n",
      "    6. Enter `pymol -Rq` to launch an interactive instance of PyMOL.\n",
      "    \n",
      "    7. Enter the following code to load ipymol and conmect to PyMOL\n",
      "    \n",
      "    from ipymol import viewer as ipv\n",
      "    ipv.start()   # Start PyMOL RPC server\n",
      "    \n",
      "    Now you can change the scene manually and send the display as static \n",
      "    image to a cell in the jupyter notebook.\n",
      "    \n",
      "    It is assumed that the viewer class of the ipymol moduel has been \n",
      "    imported as ipv. \n",
      "    \n",
      "    I made the following modifications of roundview.py.\n",
      "    The cmd.get_view was replaced with ipv.get_view.\n",
      "    The cmd.extend was replaced with ipv.extend.\n",
      "    The myRoundedList was returned for further processing.\n",
      "    \n",
      "    MIT License\n",
      "    \n",
      "    Copyright:\n",
      "    Blaine Mooers and the OU Board of Regents\n",
      "    University of Oklahoma Health Sciences Center\n",
      "    Oklahoma City, OK 73104\n",
      "    \n",
      "    29 April 2020\n",
      "    \n",
      "    '''\n",
      "    \n",
      " \n",
      "    StoredView = int(StoredView)\n",
      "    decimal_places = int(decimal_places)\n",
      " \n",
      "    #call the get_view function\n",
      " \n",
      "    m = ipv.get_view(StoredView)\n",
      " \n",
      " \n",
      "    #Make a list of the elements in the orientation matrix.\n",
      " \n",
      "    myList = [m[0], m[1], m[2], m[3], m[4], m[5], m[6],m[7], m[8], m[9],\n",
      "              m[10], m[11], m[12], m[13], m[14],m[15], m[16], m[17]]\n",
      " \n",
      "    #Round off the matrix elements to two decimal places (two fractional places)\n",
      "    #This rounding approach solved the problem of unwanted\n",
      "    #whitespaces when I tried to use a string format statement\n",
      " \n",
      "    myRoundedList = [round(elem, decimal_places) for elem in myList]\n",
      "    \n",
      "    #x is the string template for the output. The whitespace is required\n",
      "    #between the 'set_view' and '('\n",
      " \n",
      "    x = 'set_view ({0,{1,{2,{3,{4,{5,{6,{7,{8,{9,{10,{11,{12,{13,{14,{15,{16,{17);'\n",
      " \n",
      "    # Print to the command history window.\n",
      "    print(x.format(*myRoundedList))\n",
      " \n",
      "    #Write to a text file.\n",
      "    myFile = open('roundedview.txt', 'a')\n",
      "    myFile.write(x.format(*myRoundedList) + '')\n",
      "    myFile.close()\n",
      "    return myRoundedList"
      ]
    },
    {
    "cell_type": "markdown",
    "metadata": {
      "id": "ddf9f6d06fcb"
      },
      "source": [
        "##rdkrpcChem\n",
        "\n",
        "Demo of the use of the RPC server with a drug compound via the rdkit python module.\n",
        "\n",
        "*PyMOL*"
      ]
    },
    {
    "cell_type": "code",
    "metadata": {
      "id": "3b80f2bba2b2"
      },
      "source": [
      "import os;\n",
      "import rdkit;\n",
      "from rdkit import Chem;\n",
      "from rdkit.Chem import AllChem;\n",
      "from rdkit.Chem import PyMol;\n",
      "\n",
      "s = PyMOL.MolViewer();\n",
      "mol = Chem.MolFromSmiles('CCOCCn1c(C2CC[NH+](CCc3ccc(C(C)(C)C(=O)[O-])cc3)CC2)nc2ccccc21');\n",
      "mol = AllChem.AddHs(mol);\n",
      "AllChem.EmbedMolecule(mol);\n",
      "AllChem.MMFFOptimizeMolecule(mol);\n",
      "s.ShowMol(mol, name = 'bilastine', showOnly = False);\n",
      "s.Zoom('bilastine');\n",
      "s.SetDisplayStyle('bilastine', 'sticks');\n",
      "s.GetPNG(preDelay=5);"
      ]
    },
    {
    "cell_type": "markdown",
    "metadata": {
      "id": "ccddd2725541"
      },
      "source": [
        "##kernel\n",
        "\n",
        "A kernel.json file for runnig PyMOL python interpreter in the Jupyter notebook. This code should reside in a folder named pymol.python in the ~/Library/Jupyter/kernels.\n",
        "\n",
        "*PyMOL*"
      ]
    },
    {
    "cell_type": "code",
    "metadata": {
      "id": "761a6692f5d5"
      },
      "source": [
      "{\n",
      " 'argv': [\n",
      "  '/Applications/PyMOL.app/Contents/bin/python',\n",
      "  '-m',\n",
      "  'ipykernel_launcher',\n",
      "  '-f',\n",
      "  '{connection_file'\n",
      " ],\n",
      " 'display_name': 'pymol.python',\n",
      " 'language': 'python'"
      ]
    },
    {
    "cell_type": "markdown",
    "metadata": {
      "id": "bd2d2435032"
      },
      "source": [
        "##rdkrpcProtein\n",
        "\n",
        "Demo of the use of the RPC server with a protein via rdkit.\n",
        "\n",
        "*PyMOL*"
      ]
    },
    {
    "cell_type": "code",
    "metadata": {
      "id": "a1d00652594e"
      },
      "source": [
      "from rdkit.Chem import PyMol;\n",
      "\n",
      "Usage=''''Start pymol from command line with -R flag.\n",
      "Select the pymol.python kernel in Jupyter notebook. ''';\n",
      "\n",
      "s = PyMol.MolViewer();\n",
      "du = s.server.do;\n",
      "du('rein; bg_color white; fetch 1lw9, type=pdb, async=0, show;nb_spheres;set_view (0.46,-0.28,-0.84,0.74,-0.41,0.54,-0.49,-0.87,0.02,0.0,0.0,-155.16,35.13,11.48,9.72,122.33,187.99,-20.0);');\n",
      "s.GetPNG(preDelay=3);\n",
      "du('png T4L600dpi.png, dpi=600');"
      ]
    },
    {
    "cell_type": "markdown",
    "metadata": {
      "id": "c584c5463111"
      },
      "source": [
        "##ipymolStart\n",
        "\n",
        "Code to start the RPC server with ipymol. Start pymol in terminal with pymol -R; select pymol.python as the kernel in juptyer. You may have to create this kernel for the Python interpreter that is inside PyMOL.\n",
        "\n",
        "*PyMOL*"
      ]
    },
    {
    "cell_type": "code",
    "metadata": {
      "id": "965b54d66449"
      },
      "source": [
      "from ipymol import viewer as ipv;\n",
      "ipv.start() # Start PyMOL RPC server;"
      ]
    },
    {
    "cell_type": "markdown",
    "metadata": {
      "id": "9fbe211a2f6e"
      },
      "source": [
        "##ipymolProtein\n",
        "\n",
        "Demo of the use of the RPC server with a protein via ipymol. Create a kernel for python interpreter from PyMOL inside Jupyter. See the kernel snippet for an example. See the README.md file on pymolsnips GItHub website or more details https://github.com/MooersLab/pymilsnips. Start pymol in terminal with pymol -R. Select pymol.python as kernel in Juptyer. The double parentheses are required when set_view is run this way.;\n",
        "\n",
        "*PyMOL*"
      ]
    },
    {
    "cell_type": "code",
    "metadata": {
      "id": "213cf900d3b9"
      },
      "source": [
      "from ipymol import viewer as ipv;\n",
      "# Start PyMOL RPC server;\n",
      "ipv.start(); \n",
      "ipv.do('fetch 1lw9');\n",
      "ipv.do('rv');\n",
      "ipv.set_view((-0.13,-0.4,-0.91,0.89,-0.45,0.07,-0.44,-0.8,0.41,0.0,0.0,-182.47,35.13,11.48,9.72,149.64,215.3,-20.0));\n",
      "ipv.do('AOD');\n",
      "ipv.png('testipymolT4L.png');"
      ]
    },
    {
    "cell_type": "markdown",
    "metadata": {
      "id": "18c162dc5781"
      },
      "source": [
        "##rvr\n",
        "\n",
        "Return settings in rounded format while running PyMOL via the RCP server rdkit in a jupyter notebook. This is a modified version of the roundview.py script.\n",
        "\n",
        "*PyMOL*"
      ]
    },
    {
    "cell_type": "code",
    "metadata": {
      "id": "3b69ed7168c9"
      },
      "source": [
      "def rvr(StoredView=0, decimal_places=2, outname='roundedview.txt'):\n",
      "   '''MIT License\n",
      "    Copyright:\n",
      "    Blaine Mooers and the OU Board of Regents\n",
      "    University of Oklahoma Health Sciences Center\n",
      "    Oklahoma City, OK 73104\n",
      "    30 April 2020\n",
      "    \n",
      "    First run the following:\n",
      "    \n",
      "    from rdkit.Chem import PyMol\n",
      "    s = PyMol.MolViewer()\n",
      "    du = s.server.do\n",
      "\n",
      "    '''\n",
      "    StoredView = int(StoredView) decimal_places = int(decimal_places)\n",
      "    #call the get_view function\n",
      "    m = s.get_view(StoredView)\n",
      "    #Make a list of the elements in the orientation matrix.\n",
      "    myList = [m[0], m[1], m[2], m[3], m[4], m[5], m[6],m[7], m[8], m[9], \n",
      "              m[10], m[11], m[12], m[13], m[14],m[15], m[16], m[17]]\n",
      "    #Round off the matrix elements to two decimal places (two fractional places)\n",
      "    #This rounding approach solved the problem of unwanted\n",
      "    #whitespaces when I tried to use a string format statement\n",
      "    myRoundedList = [round(elem, decimal_places) for elem in myList]\n",
      "    #x is the string template for the output. The whitespace is required\n",
      "    #between the 'set_view' and '('\n",
      "    x = 'set_view ({0,{1,{2,{3,{4,{5,{6,{7,{8,{9,{10,{11,{12,{13,{14,{15,{16,{17);'\n",
      "    # Print to the command history window.\n",
      "    print(x.format(*myRoundedList))\n",
      "    #Write to a text file.\n",
      "    myFile = open('roundedview.txt', 'a') myFile.write(x.format(*myRoundedList) + '') myFile.close()\n",
      "    return myRoundedList"
      ]
    },
    {
    "cell_type": "markdown",
    "metadata": {
      "id": "b82cd28e506c"
      },
      "source": [
        "##cmddocs\n",
        "\n",
        "Print in the command history window the docstrings of all of the functions in the cmd module.\n",
        "\n",
        "*PyMOL*"
      ]
    },
    {
    "cell_type": "code",
    "metadata": {
      "id": "d29d29a981f3"
      },
      "source": [
      "[help(i) for i in dir(cmd)];"
      ]
    },
    {
    "cell_type": "markdown",
    "metadata": {
      "id": "fc3d82b8a8a2"
      },
      "source": [
        "##pymoldocs\n",
        "\n",
        "Return to the command history window the docstrings for all of the functions in a module.\n",
        "\n",
        "*PyMOL*"
      ]
    },
    {
    "cell_type": "code",
    "metadata": {
      "id": "6cb51412d65f"
      },
      "source": [
      "[help(i) for i in dir(pymol)];"
      ]
    },
    {
    "cell_type": "markdown",
    "metadata": {
      "id": "c224c7424944"
      },
      "source": [
        "##numResiProtein\n",
        "\n",
        "Print the number of residues in a protein.\n",
        "\n",
        "*PyMOL*"
      ]
    },
    {
    "cell_type": "code",
    "metadata": {
      "id": "75396b4b5c7e"
      },
      "source": [
      "sel = 'polymer.protein'; print(len(set([(i.chain, i.resi, i.resn) for i in cmd.get_model(sel).atom])));"
      ]
    },
    {
    "cell_type": "markdown",
    "metadata": {
      "id": "b6073726321d"
      },
      "source": [
        "##numResiProteinChainA\n",
        "\n",
        "Print the number of residues in chain A of a protein.\n",
        "\n",
        "*PyMOL*"
      ]
    },
    {
    "cell_type": "code",
    "metadata": {
      "id": "e6c759075185"
      },
      "source": [
      "sel = 'chain A and polymer.protein'; print(len(set([(i.chain, i.resi, i.resn) for i in cmd.get_model(sel).atom])));"
      ]
    },
    {
    "cell_type": "markdown",
    "metadata": {
      "id": "b73466082ecc"
      },
      "source": [
        "##numResiNucleic\n",
        "\n",
        "Print the number of residues in a nulceic acid (all chains).\n",
        "\n",
        "*PyMOL*"
      ]
    },
    {
    "cell_type": "code",
    "metadata": {
      "id": "907a2d7726dc"
      },
      "source": [
      "sel = 'polymer.nucleic';\n",
      "[print(len(set([(i.resi, i.resn) for i in cmd.get_model(sel).atom])))];"
      ]
    },
    {
    "cell_type": "markdown",
    "metadata": {
      "id": "275b63219311"
      },
      "source": [
        "##numResiNucleicChainA\n",
        "\n",
        "Print the number of residues in a nulceic acid chain.\n",
        "\n",
        "*PyMOL*"
      ]
    },
    {
    "cell_type": "code",
    "metadata": {
      "id": "cc89ca8ec6c4"
      },
      "source": [
      "sel = 'chain A and polymer.nucleic'; \n",
      "[print(len(set([(i.resi, i.resn) for i in cmd.get_model(sel).atom])))];"
      ]
    },
    {
    "cell_type": "markdown",
    "metadata": {
      "id": "f647db28af3"
      },
      "source": [
        "##brokenNucleicBackbone\n",
        "\n",
        "Create bonds between phosphorous and O3* atoms in a low-resolution DNA structure that is 80 base pairs long. Edit the selections below, which are ranges of residue numbers and edit the molecular object name (5fur).\n",
        "\n",
        "*PyMOL*"
      ]
    },
    {
    "cell_type": "code",
    "metadata": {
      "id": "109f60af4109"
      },
      "source": [
      "[cmd.bond(f'/5fur//E/{i/O3'', f'/5fur//E/{i+1/P') for i in range(1, 80)]; \n",
      "[cmd.bond(f'/5fur//F/{i/O3'', f'/5fur//F/{i+1/P') for i in range(81, 160)];"
      ]
    },
    {
    "cell_type": "markdown",
    "metadata": {
      "id": "b327626a4f91"
      },
      "source": [
        "##oneBondThicknessColor\n",
        "\n",
        "To change stick color and radius for the bond between atom 2 and 3, use the set_bond command.\n",
        "\n",
        "*PyMOL*"
      ]
    },
    {
    "cell_type": "code",
    "metadata": {
      "id": "d16704dd7722"
      },
      "source": [
        "cmd.do(\"set_bond stick_color, yellow, index 2, index 3;\")\n",
        "cmd.do(\"set_bond stick_radius, 0.2, index 2, index 3;\")"
      ]
    },
    {
    "cell_type": "markdown",
    "metadata": {
      "id": "f06085e223bf"
      },
      "source": [
        "##drawLinks\n",
        "\n",
        "Connect the alpha carbons of residue 1 with 10, 6 with 16, 7  with 17 and 8 with 18. Note that this example requires the draw_links.py [http://pldserver1.biochem.queensu.ca/~rlc/work/pymol/draw_links.py] by Robert Campbell.\n",
        "\n",
        "*PyMOL*"
      ]
    },
    {
    "cell_type": "code",
    "metadata": {
      "id": "4677e63959fe"
      },
      "source": [
        "cmd.do(\"draw_links mol1 & chain A & name  CA & resi 1+6+7+8, mol1 & chain A& name CA & resi 10+16+17+18;\")"
      ]
    },
    {
    "cell_type": "markdown",
    "metadata": {
      "id": "1f8e6243ee55"
      },
      "source": [
        "##printPath\n",
        "\n",
        "Print the path to the currently used PyMOL binary.\n",
        "\n",
        "*PyMOL*"
      ]
    },
    {
    "cell_type": "code",
    "metadata": {
      "id": "96ef3427e605"
      },
      "source": [
      "print(pymol.__path__)"
      ]
    },
    {
    "cell_type": "markdown",
    "metadata": {
      "id": "7deb221474e"
      },
      "source": [
        "##setLigandValenceOn\n",
        "\n",
        "Display the bond valence of ligands only.\n",
        "\n",
        "*PyMOL*"
      ]
    },
    {
    "cell_type": "code",
    "metadata": {
      "id": "8910e9829563"
      },
      "source": [
        "cmd.do(\"set valence, on, resn RZS; set valence, off, not resn RZS;\")"
      ]
    },
    {
    "cell_type": "markdown",
    "metadata": {
      "id": "c86474854168"
      },
      "source": [
        "##presetDocs\n",
        "\n",
        "Return the docstring for the preset submodule. The command help preset fails to return anything. The command help(pymol.preset) has the same effect as help(preset).\n",
        "\n",
        "*PyMOL*"
      ]
    },
    {
    "cell_type": "code",
    "metadata": {
      "id": "b5bf08488b45"
      },
      "source": [
      "help(preset)"
      ]
    },
    {
    "cell_type": "markdown",
    "metadata": {
      "id": "42e617f44c9b"
      },
      "source": [
        "##helpDocs\n",
        "\n",
        "Return the docstring for the help submodule. This command is more concise:  help help.\n",
        "\n",
        "*PyMOL*"
      ]
    },
    {
    "cell_type": "code",
    "metadata": {
      "id": "f0e2493b0560"
      },
      "source": [
        "cmd.do(\"help(help)\")"
      ]
    },
    {
    "cell_type": "markdown",
    "metadata": {
      "id": "b95708eeb21f"
      },
      "source": [
        "##loadAmberTrajs\n",
        "\n",
        "The amber trajectories have to be loaded into the same object.\n",
        "\n",
        "*PyMOL*"
      ]
    },
    {
    "cell_type": "code",
    "metadata": {
      "id": "b49e1c01a9fb"
      },
      "source": [
        "cmd.do(\"load file.top, protein;\")\n",
        "cmd.do(\"load file.rst, protein;\")"
      ]
    },
    {
    "cell_type": "markdown",
    "metadata": {
      "id": "1725925b744c"
      },
      "source": [
        "##saveSeppy\n",
        "\n",
        "Saves multiple objects into multiple files using an optional prefix name.\n",
        "\n",
        "*PyMOL*"
      ]
    },
    {
    "cell_type": "code",
    "metadata": {
      "id": "9d4788e1f3b1"
      },
      "source": [
      "from pymol import cmd\n",
      "import glob\n",
      "import re\n",
      "\n",
      "def saveSep(prefix=''):\n",
      "  '''\n",
      "  save_sep <prefix>\n",
      "\n",
      "  saves multiple objects into multiple files using an optional prefix name.\n",
      "\n",
      "  e.g. save_sep prefix\n",
      "  '''\n",
      "  obj_list = cmd.get_names('all')\n",
      "\n",
      "  if obj_list:\n",
      "    for i in range(len(obj_list)):\n",
      "      obj_name = '%s%s.pdb' % (prefix, obj_list[i])\n",
      "      cmd.save(obj_name, obj_list[i])\n",
      "      print('Saving %s' %  obj_name)\n",
      "  else:\n",
      "    print('No objects found')"
      ]
    },
    {
    "cell_type": "markdown",
    "metadata": {
      "id": "f379e59f5e1e"
      },
      "source": [
        "##optAlignRNA\n",
        "\n",
        "OptiAlign.py by Jason Vertree modified for aligning multiple RNA structures.\n",
        "\n",
        "*PyMOL*"
      ]
    },
    {
    "cell_type": "code",
    "metadata": {
      "id": "afb2cb1095f3"
      },
      "source": [
      "#!python\n",
      " \n",
      "##############################################################################\n",
      "#\n",
      "# @SUMMARY: -- QKabsch.py.  A python implementation of the optimal superposition\n",
      "#     of two sets of vectors as proposed by Kabsch 1976 & 1978.\n",
      "#\n",
      "# @AUTHOR: Jason Vertrees\n",
      "# @COPYRIGHT: Jason Vertrees (C), 2005-2007\n",
      "# @LICENSE: Released under GPL:\n",
      "# This program is free software; you can redistribute it and/or modify\n",
      "#    it under the terms of the GNU General Public License as published by\n",
      "#    the Free Software Foundation; either version 2 of the License, or\n",
      "#    (at your option) any later version.\n",
      "# This program is distributed in the hope that it will be useful, but WITHOUT\n",
      "# ANY WARRANTY; without even the implied warranty of MERCHANTABILITY or FITNESS\n",
      "# FOR A PARTICULAR PURPOSE. See the GNU General Public License for more details.\n",
      "#\n",
      "# You should have received a copy of the GNU General Public License along with\n",
      "# this program; if not, write to the Free Software Foundation, Inc., 51 Franklin\n",
      "# Street, Fifth Floor, Boston, MA 02110-1301, USA \n",
      "#\n",
      "# DATE  : 2007-01-01\n",
      "# REV   : 2\n",
      "# REQUIREMENTS: numpy\n",
      "#\n",
      "#\n",
      "# Modified optAlign.py to use C1 prime carbon atoms of RNA for alignment.\n",
      "# Jan. 29, 2020 \n",
      "# Blaine Mooers, PhD\n",
      "# Univ. of Oklahoma Health Sciences Center\n",
      "#\n",
      "#############################################################################\n",
      "from array import *\n",
      " \n",
      "# system stuff\n",
      "import os\n",
      "import copy\n",
      " \n",
      "# pretty printing\n",
      "import pprint\n",
      " \n",
      "# for importing as a plugin into PyMol\n",
      "from pymol import cmd\n",
      "from pymol import stored\n",
      "from pymol import selector\n",
      " \n",
      "# using numpy for linear algebra\n",
      "import numpy\n",
      " \n",
      "def optAlignRNA( sel1, sel2 ):\n",
      "    '''\n",
      "    optAlignRNA performs the Kabsch alignment algorithm upon the C1' carbons of two selections.\n",
      "    Example: optAlignRNA 1JU7 and i. 1-16 and n. C1', 1CLL and i. 4-146 and n. C1'\n",
      " \n",
      "    Two RMSDs are returned.  One comes from the Kabsch algorithm and the other from\n",
      "    PyMOL based upon your selections.\n",
      "    \n",
      "    This function can be run in a for loop to fit multiple structures  with a common prefix name:\n",
      "    \n",
      "    for x in cmd.get_names(): optAlignRNA(x, '1JU7_0001')\n",
      "     \n",
      "    or get the rmsds for all combinations, do the following:\n",
      "     \n",
      "    [[optAlignRNA(x, y) for x in cmd.get_names()] for y in cmd.get_names()]\n",
      "\n",
      "    '''\n",
      "    cmd.reset()\n",
      " \n",
      "    # make the lists for holding coordinates\n",
      "    # partial lists\n",
      "    stored.sel1 = []\n",
      "    stored.sel2 = []\n",
      "    # full lists\n",
      "    stored.mol1 = []\n",
      "    stored.mol2 = []\n",
      " \n",
      "    # -- CUT HERE\n",
      "    sel1 += ' and N. C1''\n",
      "    sel2 += ' and N. C1''\n",
      "    # -- CUT HERE\n",
      " \n",
      "    # Get the selected coordinates.  We\n",
      "    # align these coords.\n",
      "    cmd.iterate_state(1, selector.process(sel1), 'stored.sel1.append([x,y,z])')\n",
      "    cmd.iterate_state(1, selector.process(sel2), 'stored.sel2.append([x,y,z])')\n",
      " \n",
      "    # get molecule name\n",
      "    mol1 = cmd.identify(sel1,1)[0][0]\n",
      "    mol2 = cmd.identify(sel2,1)[0][0]\n",
      " \n",
      "    # Get all molecule coords.  We do this because\n",
      "    # we have to rotate the whole molcule, not just\n",
      "    # the aligned selection\n",
      "    cmd.iterate_state(1, mol1, 'stored.mol1.append([x,y,z])')\n",
      "    cmd.iterate_state(1, mol2, 'stored.mol2.append([x,y,z])')\n",
      " \n",
      "    # check for consistency\n",
      "    assert len(stored.sel1) == len(stored.sel2)\n",
      "    L = len(stored.sel1)\n",
      "    assert L > 0\n",
      " \n",
      "    # must alway center the two proteins to avoid\n",
      "    # affine transformations.  Center the two proteins\n",
      "    # to their selections.\n",
      "    COM1 = numpy.sum(stored.sel1,axis=0) / float(L)\n",
      "    COM2 = numpy.sum(stored.sel2,axis=0) / float(L)\n",
      "    stored.sel1 -= COM1\n",
      "    stored.sel2 -= COM2\n",
      " \n",
      "    # Initial residual, see Kabsch.\n",
      "    E0 = numpy.sum( numpy.sum(stored.sel1 * stored.sel1,axis=0),axis=0) + numpy.sum( numpy.sum(stored.sel2 * stored.sel2,axis=0),axis=0)\n",
      " \n",
      "    #\n",
      "    # This beautiful step provides the answer.  V and Wt are the orthonormal\n",
      "    # bases that when multiplied by each other give us the rotation matrix, U.\n",
      "    # S, (Sigma, from SVD) provides us with the error!  Isn't SVD great!\n",
      "    V, S, Wt = numpy.linalg.svd( numpy.dot( numpy.transpose(stored.sel2), stored.sel1))\n",
      " \n",
      "    # we already have our solution, in the results from SVD.\n",
      "    # we just need to check for reflections and then produce\n",
      "    # the rotation.  V and Wt are orthonormal, so their det's\n",
      "    # are +/-1.\n",
      "    reflect = float(str(float(numpy.linalg.det(V) * numpy.linalg.det(Wt))))\n",
      " \n",
      "    if reflect == -1.0:\n",
      "        S[-1] = -S[-1]\n",
      "        V[:,-1] = -V[:,-1]\n",
      " \n",
      "    RMSD = E0 - (2.0 * sum(S))\n",
      "    RMSD = numpy.sqrt(abs(RMSD / L))\n",
      " \n",
      "    #U is simply V*Wt\n",
      "    U = numpy.dot(V, Wt)\n",
      " \n",
      "    # rotate and translate the molecule\n",
      "    stored.sel2 = numpy.dot((stored.mol2 - COM2), U)\n",
      "    stored.sel2 = stored.sel2.tolist()\n",
      "    # center the molecule\n",
      "    stored.sel1 = stored.mol1 - COM1\n",
      "    stored.sel1 = stored.sel1.tolist()\n",
      " \n",
      "    # let PyMol know about the changes to the coordinates\n",
      "    cmd.alter_state(1,mol1,'(x,y,z)=stored.sel1.pop(0)')\n",
      "    cmd.alter_state(1,mol2,'(x,y,z)=stored.sel2.pop(0)')\n",
      " \n",
      "    #print('Moved: %s Reference: %s RMSD = %f' % mol1, mol2, RMSD)\n",
      "    print('% s, % s,% 5.3f' % (mol1, mol2, RMSD))\n",
      " \n",
      "    # make the alignment OBVIOUS\n",
      "    cmd.hide('everything')\n",
      "    cmd.show('ribbon', sel1 + ' or ' + sel2)\n",
      "    cmd.color('gray70', mol1 )\n",
      "    cmd.color('magenta', mol2 )\n",
      "    cmd.color('red', 'visible')\n",
      "    cmd.show('ribbon', 'not visible')\n",
      "    cmd.center('visible')\n",
      "    cmd.orient()\n",
      "    cmd.zoom('visible')"
      ]
    },
    {
    "cell_type": "markdown",
    "metadata": {
      "id": "a3655ee35759"
      },
      "source": [
        "##loadManyFiles\n",
        "\n",
        "Load into PyMOL multiple files with a common file stem. The is a script by Robert Campbell that has been updated for Python3.\n",
        "\n",
        "*PyMOL*"
      ]
    },
    {
    "cell_type": "code",
    "metadata": {
      "id": "9f1c5956a771"
      },
      "source": [
      "# Copyright (c) 2004 Robert L. Campbell\n",
      "#\n",
      "# Modified for use with Python3.\n",
      "# Jan. 29, 2020 \n",
      "# Blaine Mooers, PhD\n",
      "# Univ. of Oklahoma Health Sciences Center\n",
      "#\n",
      "#\n",
      "from pymol import cmd\n",
      "import glob\n",
      "\n",
      "def loadFiles(files):\n",
      "  '''\n",
      "  load_files <files>\n",
      "\n",
      "  loads multiple files (using filename globbing)\n",
      "  into a multiple objects named as the files are (e.g. collection of\n",
      "  downloaded PDB files).\n",
      "\n",
      "  e.g. load_files prot_*.pdb\n",
      "  '''\n",
      "  file_list = glob.glob(files)\n",
      "  if file_list:\n",
      "    file_list.sort()\n",
      "    for i in file_list:\n",
      "      #obj_name = i.replace('.pdb','')\n",
      "      #cmd.load(file_list[i],obj_name)\n",
      "      cmd.load(i)\n",
      "  else:\n",
      "    print('No files found for pattern %s' % files)"
      ]
    },
    {
    "cell_type": "markdown",
    "metadata": {
      "id": "142d62cd9c4e"
      },
      "source": [
        "##loadAndAlignManyFiles3\n",
        "\n",
        "These are the instructions for loading and aligning multiple files.\n",
        "\n",
        "*PyMOL*"
      ]
    },
    {
    "cell_type": "code",
    "metadata": {
      "id": "95004c1669b5"
      },
      "source": [
      "from pymol import cmd\n",
      "import glob\n",
      "import re\n",
      "\n",
      "\n",
      "def saveSep(prefix=''):\n",
      "    '''\n",
      "    Saves multiple objects into multiple files using an optional prefix name.\n",
      "    This function is can save time.\n",
      "\n",
      "    Usage in PyMOL:\n",
      "\n",
      "    saveSep <prefix>\n",
      "    \n",
      "    Usage in pymol's Python API:\n",
      "\n",
      "    cmd.do('saveSep <prefix>')\n",
      " \n",
      "    e.g. saveSep prefix\n",
      "    '''\n",
      "    obj_list = cmd.get_names('all')\n",
      "\n",
      "    if obj_list:\n",
      "        for i in range(len(obj_list)):\n",
      "            obj_name = '%s%s.pdb' % (prefix, obj_list[i])\n",
      "            cmd.save(obj_name, obj_list[i])\n",
      "            print('Saving %s' % obj_name)\n",
      "    else:\n",
      "        print('No objects found')\n",
      "\n",
      "\n",
      "cmd.extend('saveSep', saveSep)"
      ]
    },
    {
    "cell_type": "markdown",
    "metadata": {
      "id": "6e51ba43ca0a"
      },
      "source": [
        "##allPairs\n",
        "\n",
        "This is a two-fold nested list comprehension for any all-parwise operation on the currently loaded objects. Replace optAlginRNA with object from any other function that operations on a pair of structrures.\n",
        "\n",
        "*PyMOL*"
      ]
    },
    {
    "cell_type": "code",
    "metadata": {
      "id": "d6b51af25f53"
      },
      "source": [
      "[[optAlignRNA(x, y) for x in cmd.get_names()] for y in cmd.get_names()];"
      ]
    },
    {
    "cell_type": "markdown",
    "metadata": {
      "id": "d20e9d0a127b"
      },
      "source": [
        "##dssrBlock1\n",
        "\n",
        "Combining DSSR block representation with regular PyMOL cartoons after loading the dssr_block.py script by Thomas Holder.\n",
        "\n",
        "*PyMOL*"
      ]
    },
    {
    "cell_type": "code",
    "metadata": {
      "id": "ba9340cfbb6f"
      },
      "source": [
        "cmd.do(\"reinitialize;\")\n",
        "cmd.do(\"run /Users/blaine/.pymol/startup/dssr_block.py;\")\n",
        "cmd.do(\"fetch 1ehz, async=0;\")\n",
        "cmd.do(\"as cartoon;\")\n",
        "cmd.do(\"set cartoon_ladder_radius, 0.1;\")\n",
        "cmd.do(\"set cartoon_ladder_color, gray;\")\n",
        "cmd.do(\"set cartoon_nucleic_acid_mode, 1;\")\n",
        "cmd.do(\"set cartoon_nucleic_acid_color, orange;\")\n",
        "cmd.do(\"orient;turn z,30; translate [0,5,0]\")\n",
        "cmd.do(\"dssr_block;\")\n",
        "cmd.do(\"png ~/dssrBlock1.png 1600,1600\")"
      ]
    },
    {
    "cell_type": "markdown",
    "metadata": {
      "id": "19c2ba306811"
      },
      "source": [
        "##dssrBlock2\n",
        "\n",
        "DSSR block representation with fused blocks after loading the dssr_block.py script by Thomas Holder. The x3dna-dssr executable needs to be in the PATH.\n",
        "\n",
        "*PyMOL*"
      ]
    },
    {
    "cell_type": "code",
    "metadata": {
      "id": "fde8876afaf0"
      },
      "source": [
        "cmd.do(\"reinitialize;\")\n",
        "cmd.do(\"run /Users/blaine/.pymol/startup/dssr_block.py;\")\n",
        "cmd.do(\"set cartoon_nucleic_acid_color, orange;\")\n",
        "cmd.do(\"fetch 1ehz, async=0;\")\n",
        "cmd.do(\"dssr_block block_file=wc\")"
      ]
    },
    {
    "cell_type": "markdown",
    "metadata": {
      "id": "9d653ba182d8"
      },
      "source": [
        "##dssrBlock3\n",
        "\n",
        "DSSR block representation for a multi-state example after loading the dssr_block.py script by Thomas Holder. The x3dna-dssr executable needs to be in the PATH. Edit the path to Thomas Holder's block script.\n",
        "\n",
        "*PyMOL*"
      ]
    },
    {
    "cell_type": "code",
    "metadata": {
      "id": "9e4cea7ded72"
      },
      "source": [
        "cmd.do(\"reinitialize;\")\n",
        "cmd.do(\"run '/Users/blaine/.pymol/startup/dssr_block.py';\")\n",
        "cmd.do(\"fetch 2n2d, async=0;\")\n",
        "cmd.do(\"dssr_block  2n2d, 0;\")\n",
        "cmd.do(\"set all_states;\")"
      ]
    },
    {
    "cell_type": "markdown",
    "metadata": {
      "id": "bb502d75b98a"
      },
      "source": [
        "##dssrBlock4\n",
        "\n",
        "DSSR block representation with custom coloring after loading the dssr_block.py script by Thomas Holder. The x3dna-dssr executable needs to be in the PATH.\n",
        "\n",
        "*PyMOL*"
      ]
    },
    {
    "cell_type": "code",
    "metadata": {
      "id": "eb20948f29b"
      },
      "source": [
        "cmd.do(\"reinitialize;\")\n",
        "cmd.do(\"run /Users/blaine/.pymol/startup/dssr_block.py;\")\n",
        "cmd.do(\"fetch 1msy, async=0;\")\n",
        "cmd.do(\"set cartoon_nucleic_acid_color, orange;\")\n",
        "cmd.do(\"dssr_block block_color=N red | minor 0.9 | major yellow;\")"
      ]
    },
    {
    "cell_type": "markdown",
    "metadata": {
      "id": "ef3a6d5b5e55"
      },
      "source": [
        "##nucleicAcidCartoon\n",
        "\n",
        "Settings for nucliec acid cartoon. The dark blue used for electron density maps is called `density`. The cartoon_ladder_radius should be renamed the cartoon_rung_radius. The dimensions are in Angstroms.\n",
        "\n",
        "*PyMOL*"
      ]
    },
    {
    "cell_type": "code",
    "metadata": {
      "id": "bf0168fe40"
      },
      "source": [
        "cmd.do(\"set cartoon_ladder_radius, 0.2;\")\n",
        "cmd.do(\"set cartoon_nucleic_acid_color, red;\")\n",
        "cmd.do(\"# The cartoon ring modes range from 0 to 4.;\")\n",
        "cmd.do(\"set cartoon_ring_mode, 2;\")"
      ]
    },
    {
    "cell_type": "markdown",
    "metadata": {
      "id": "28c349a1c11b"
      },
      "source": [
        "##nucleicAcidCartoon2Strands\n",
        "\n",
        "Coloring two strand differently of a double helix makes it easier to for the viewer to distinguish the two strands. The set command has the syntax of setting_name [, setting_value [, selection [,state ]]] . In this case, the selection has to be global, object, object-state, or per-atom settings. It cannot be a named selection. This is a weak spot in PyMOL. Coloring two strand differently of a double helix makes it easier to for the viewer to distinguish the two strands. Many double-stranded helices have one strand in the asymmetric unit. The second strand is in the biological unit. The coordinates for the second strand are in the pdb1 file type at the PDB. The second strand is in the second state, which is equivalent to the second model in the pdb file. The strands are labeled chain A and B (via the cartoon_nucliec_acid_color setting). The bases are colored differently too (via the cartoon_ladder_color setting).\n",
        "\n",
        "*PyMOL*"
      ]
    },
    {
    "cell_type": "code",
    "metadata": {
      "id": "fcf1df7ff33"
      },
      "source": [
        "cmd.do(\"fetch 3nd3, 3nd3, type=pdb1;\")\n",
        "cmd.do(\"set all_states, on;\")\n",
        "cmd.do(\"create chA, 3nd3, 1, 1;\")\n",
        "cmd.do(\"create chB, 3nd3, 2, 1;\")\n",
        "cmd.do(\"# colors only the backbone;\")\n",
        "cmd.do(\"set cartoon_nucleic_acid_color, magenta, chA;\")\n",
        "cmd.do(\"set cartoon_nucleic_acid_color, orange, chB;\")\n",
        "cmd.do(\"# color the bases;\")\n",
        "cmd.do(\"set cartoon_ladder_color,  density, chA;\")\n",
        "cmd.do(\"set cartoon_ladder_color,  yellow, chB;\")"
      ]
    },
    {
    "cell_type": "markdown",
    "metadata": {
      "id": "5ee97cbe6537"
      },
      "source": [
        "##nucleicAcidColorbySequence\n",
        "\n",
        "This code colors the nucleotides by base seqence. It can be applied to any nucleic acid.\n",
        "\n",
        "*PyMOL*"
      ]
    },
    {
    "cell_type": "code",
    "metadata": {
      "id": "65000c6a975d"
      },
      "source": [
        "cmd.do(\"select rna_A, resn A;\")\n",
        "cmd.do(\"select rna_C, resn C;\")\n",
        "cmd.do(\"select rna_G, resn G;\")\n",
        "cmd.do(\"select rna_U, resn U;\")\n",
        "cmd.do(\"select dna_T, resn T;\")\n",
        "cmd.do(\"color yellow, rna_A;\")\n",
        "cmd.do(\"color red, rna_C; \")\n",
        "cmd.do(\"color gray40, rna_G;\")\n",
        "cmd.do(\"color palecyan, rna_U;\")\n",
        "cmd.do(\"color brown, dna_T;\")"
      ]
    },
    {
    "cell_type": "markdown",
    "metadata": {
      "id": "8a18e8430371"
      },
      "source": [
        "##nucleicAcidFlatRibbonColorbySequence\n",
        "\n",
        "This code colors the nucleotides by base seqence. It can be applied to any nucleic acid. It is dervied from the CR shortcut. The backcone is shown as a flatten ribbon.\n",
        "\n",
        "*PyMOL*"
      ]
    },
    {
    "cell_type": "code",
    "metadata": {
      "id": "e538072b6ebb"
      },
      "source": [
        "cmd.do(\"bg_color white;\")\n",
        "cmd.do(\"set cartoon_oval_length, 1.85;\")\n",
        "cmd.do(\"set cartoon_oval_width, 0.5;\")\n",
        "cmd.do(\"cartoon oval;\")\n",
        "cmd.do(\"set cartoon_ring_mode, 3;\")\n",
        "cmd.do(\"# set the color of the backbone oval;\")\n",
        "cmd.do(\"set cartoon_nucleic_acid_color, blue;\")\n",
        "cmd.do(\"select rna_A, resn A;\")\n",
        "cmd.do(\"select rna_C, resn C;\")\n",
        "cmd.do(\"select rna_G, resn G;\")\n",
        "cmd.do(\"select rna_U, resn U;\")\n",
        "cmd.do(\"select dna_T, resn T;\")\n",
        "cmd.do(\"color yellow, rna_A;\")\n",
        "cmd.do(\"color red, rna_C; \")\n",
        "cmd.do(\"color gray40, rna_G;\")\n",
        "cmd.do(\"color palecyan, rna_U;\")\n",
        "cmd.do(\"color brown, dna_T;\")\n",
        "cmd.do(\"as cartoon;\")"
      ]
    },
    {
    "cell_type": "markdown",
    "metadata": {
      "id": "88a62b6d2877"
      },
      "source": [
        "##nucleicAcidCartoonFilledRings\n",
        "\n",
        "The code provides a cartoon of the loaded nucleic acid that has the ladder rungs replaced by filled rings that are colored by atom type. The code can be applied to any nucleic acid. It is derived from the FR shortuct in pymolshortcuts.py.\n",
        "\n",
        "*PyMOL*"
      ]
    },
    {
    "cell_type": "code",
    "metadata": {
      "id": "5e07cbc6f05e"
      },
      "source": [
        "cmd.do(\"bg_color white;\")\n",
        "cmd.do(\"show sticks;\")\n",
        "cmd.do(\"set cartoon_ring_mode, 3;\")\n",
        "cmd.do(\"set cartoon_ring_finder, 1;\")\n",
        "cmd.do(\"set cartoon_ladder_mode, 1;\")\n",
        "cmd.do(\"set cartoon_nucleic_acid_mode, 4;\")\n",
        "cmd.do(\"set cartoon_ring_transparency, 0.5;\")\n",
        "cmd.do(\"as cartoon;\")"
      ]
    },
    {
    "cell_type": "markdown",
    "metadata": {
      "id": "d4afa4bee759"
      },
      "source": [
        "##basePairStacking\n",
        "\n",
        "This code make as standard base stacking diagram with ball and stick representation.\n",
        "\n",
        "*PyMOL*"
      ]
    },
    {
    "cell_type": "code",
    "metadata": {
      "id": "4877b918e941"
      },
      "source": [
        "cmd.do(\"delete all;\")\n",
        "cmd.do(\"fetch 4PCO, type=pdb, async=0;\")\n",
        "cmd.do(\"select G2G3, ( ((resi 2 or resi 3) and chain A) or ((resi 8 or resi 9) and chain B));\")\n",
        "cmd.do(\"remove not G2G3;\")\n",
        "cmd.do(\"bg_color white;\")\n",
        "cmd.do(\"show sticks;\")\n",
        "cmd.do(\"set stick_radius=0.14;\")\n",
        "cmd.do(\"set stick_ball, on; \")\n",
        "cmd.do(\"set stick_ball_ratio,1.9;\")\n",
        "cmd.do(\"set_view (-0.75,0.09,0.66,-0.2,0.92,-0.35,-0.64,-0.39,-0.67,-0.0,-0.0,-43.7,7.24,9.55,11.78,29.46,57.91,-20.0);\")\n",
        "cmd.do(\"remove name H*;\")\n",
        "cmd.do(\"select carbon1, element C and (resi 3 or resi 8) \")\n",
        "cmd.do(\"# select lower base pair;\")\n",
        "cmd.do(\"select carbon2, element C and (resi 2 or resi 9) \")\n",
        "cmd.do(\"#select upper base pair;\")\n",
        "cmd.do(\"color gray70, carbon1;\")\n",
        "cmd.do(\"color gray10, carbon2;\")\n",
        "cmd.do(\"show sticks;\")\n",
        "cmd.do(\"space cmyk;\")\n",
        "cmd.do(\"distance hbond1, /4PCO//B/U`9/N3,/4PCO//A/G`2/O6;\")\n",
        "cmd.do(\"distance hbond2, /4PCO//B/U`9/O2,/4PCO//A/G`2/N1;\")\n",
        "cmd.do(\"distance hbond3, /4PCO//A/U`3/N3,/4PCO//B/G`8/O6;\")\n",
        "cmd.do(\"distance hbond4, /4PCO//A/U`3/O2,/4PCO//B/G`8/N1;\")\n",
        "cmd.do(\"color black, hbond1;\")\n",
        "cmd.do(\"color black, hbond2;\")\n",
        "cmd.do(\"color gray70, hbond3;\")\n",
        "cmd.do(\"color gray70, hbond4;\")\n",
        "cmd.do(\"show nb_spheres;\")\n",
        "cmd.do(\"set nb_spheres_size, 0.35;\")\n",
        "cmd.do(\"hide labels;\")\n",
        "cmd.do(\"ray 1600,1000;\")\n",
        "cmd.do(\"png 4PCO.png;\")"
      ]
    },
    {
    "cell_type": "markdown",
    "metadata": {
      "id": "eadac257b35c"
      },
      "source": [
        "##nucleicAcidDumbellCartoonColorbySequence\n",
        "\n",
        "This code colors by the nucleotides by base seqence. The backcone is shown as a flatten ribbon with rolled edges that give the dumbell effect. The code can be applied to any nucleic acid. The code is dervied from the CR and DU shortcuts.\n",
        "\n",
        "*PyMOL*"
      ]
    },
    {
    "cell_type": "code",
    "metadata": {
      "id": "5c5dfd083463"
      },
      "source": [
        "cmd.do(\"bg_color white;\")\n",
        "cmd.do(\"set cartoon_oval_length, 1.85\")\n",
        "cmd.do(\"set cartoon_oval_width, 0.5\")\n",
        "cmd.do(\"cartoon oval;\")\n",
        "cmd.do(\"cartoon dumbbell;\")\n",
        "cmd.do(\"set cartoon_dumbbell_width, 0.2;\")\n",
        "cmd.do(\"set cartoon_dumbbell_radius, 0.4;\")\n",
        "cmd.do(\"set cartoon_ring_mode, 3;\")\n",
        "cmd.do(\"# set the color of the backbone oval\")\n",
        "cmd.do(\"set cartoon_nucleic_acid_color, blue;\")\n",
        "cmd.do(\"select rna_A, resn A;\")\n",
        "cmd.do(\"select rna_C, resn C;\")\n",
        "cmd.do(\"select rna_G, resn G;\")\n",
        "cmd.do(\"select rna_U, resn U;\")\n",
        "cmd.do(\"select dna_T, resn T;\")\n",
        "cmd.do(\"color yellow, rna_A;\")\n",
        "cmd.do(\"color red, rna_C; \")\n",
        "cmd.do(\"color gray40, rna_G;\")\n",
        "cmd.do(\"color palecyan, rna_U;\")\n",
        "cmd.do(\"color brown, dna_T;\")\n",
        "cmd.do(\"as cartoon;\")"
      ]
    },
    {
    "cell_type": "markdown",
    "metadata": {
      "id": "cf62f078bee9"
      },
      "source": [
        "##stereokb\n",
        "\n",
        "Set keyboard shortcut by mapping F1 to stereo.\n",
        "\n",
        "*PyMOL*"
      ]
    },
    {
    "cell_type": "code",
    "metadata": {
      "id": "d2a4dce22b2"
      },
      "source": [
      "cmd.set_key('F1',lambda:cmd.stereo({'on':0,'off':1[cmd.get('stereo')]));"
      ]
    },
    {
    "cell_type": "markdown",
    "metadata": {
      "id": "8cb5b469cd09"
      },
      "source": [
        "##listSettings2\n",
        "\n",
        "Print to the screen the settings and their current parameter values.\n",
        "\n",
        "*PyMOL*"
      ]
    },
    {
    "cell_type": "code",
    "metadata": {
      "id": "eb8c3253375d"
      },
      "source": [
      "list = setting.get_name_list();[print('%s => %s' % (name, setting.get_setting_text(name))) for name in list];"
      ]
    },
    {
    "cell_type": "markdown",
    "metadata": {
      "id": "9949217986b4"
      },
      "source": [
        "##listSettings\n",
        "\n",
        "Print to the screen the settings and their current parameter values. This is the more compact version.\n",
        "\n",
        "*PyMOL*"
      ]
    },
    {
    "cell_type": "code",
    "metadata": {
      "id": "34bc08ff428d"
      },
      "source": [
      "[print('%s => %s' % (name, setting.get_setting_text(name))) for name in setting.get_name_list()];"
      ]
    },
    {
    "cell_type": "markdown",
    "metadata": {
      "id": "4e9c24f29da3"
      },
      "source": [
        "##displayFonts\n",
        "\n",
        "Print to the screen as labels the 21 font ids in their corresponding fonts in a grid. Each label is an object and appears in the internal gui. You can turn on and off the display of specific fonts.\n",
        "\n",
        "*PyMOL*"
      ]
    },
    {
    "cell_type": "code",
    "metadata": {
      "id": "c9662ec6dc36"
      },
      "source": [
        "cmd.do(\"python;\")\n",
        "cmd.do(\"for i in range(1,21):\")\n",
        "cmd.do(\"     name = 'label%d' % i;\")\n",
        "cmd.do(\"     cmd.pseudoatom(name, label='label font id %d' % i, pos=(0,0,0));\")\n",
        "cmd.do(\"     cmd.set('label_font_id', i, name);\")\n",
        "cmd.do(\"python end;\")\n",
        "cmd.do(\"cmd.set('label_size', 50);\")\n",
        "cmd.do(\"cmd.set('grid_mode');\")"
      ]
    },
    {
    "cell_type": "markdown",
    "metadata": {
      "id": "1c9d969649db"
      },
      "source": [
        "##listObjects\n",
        "\n",
        "Create a list of objects in the internal gui and print this list to the screen.\n",
        "\n",
        "*PyMOL*"
      ]
    },
    {
    "cell_type": "code",
    "metadata": {
      "id": "bb6b64b87b1d"
      },
      "source": [
        "cmd.do(\"objList = cmd.get_names('objects');print(objList);\")"
      ]
    },
    {
    "cell_type": "markdown",
    "metadata": {
      "id": "51a6aded4fed"
      },
      "source": [
        "##listLigandProteinDistances\n",
        "\n",
        "Print a list of protein--ligand distances. Code by Dan Kulp. Updated for Python3.\n",
        "\n",
        "*PyMOL*"
      ]
    },
    {
    "cell_type": "code",
    "metadata": {
      "id": "c290275c5c61"
      },
      "source": [
      "from pymol import cmd\n",
      "'''\n",
      "Find all distances betwen all ligand atoms and all protein atoms. \n",
      "\n",
      "Adapted and updated from script by Dan Kulp posted here\n",
      "https://sourceforge.net/p/pymol/mailman/message/10097804/\n",
      "\n",
      "There are probably better solutions like finding just the \n",
      "distances to proein atoms within a certain distance from \n",
      "the ligand.\n",
      "\n",
      "Due to the nested for loops, this script is takes several second\n",
      "to run on a medium-sized human protein. This script is a \n",
      "good candidate for vectorization. \n",
      "\n",
      "It is also a good candiate for becoming a function and a shortcut. \n",
      "\n",
      "'''\n",
      "\n",
      "# customize these lines to your protein.\n",
      "cmd.fetch('6NEC')\n",
      "cmd.select('prot','not resn XIN and not resn HOH and not chain C')\n",
      "cmd.select('lig', 'resn XIN and not chain C')\n",
      "\n",
      "dist_list = {\n",
      "pro_atoms = cmd.get_model('prot')\n",
      "lig_atoms = cmd.get_model('lig')\n",
      "\n",
      "for l_at in lig_atoms.atom:\n",
      "    for p_at in pro_atoms.atom:\n",
      "        dist_list[str(l_at.resn) +\n",
      "                     ':' +\n",
      "                      str(l_at.resi) +\n",
      "                      ' ' +\n",
      "                      l_at.name +\n",
      "                      ' ---- ' + \n",
      "                      str(p_at.resn) +\n",
      "                      ':' +\n",
      "                      str(p_at.resi) +\n",
      "                      ' ' +\n",
      "                      p_at.name] = cmd.dist('foo', \n",
      "                                            'index ' +\n",
      "                                            str(l_at.index),'index ' + str(p_at.index))\n",
      "        cmd.delete('foo')\n",
      "print('List of all pairwise ligand--protein atom-atom distances:')\n",
      "# [print('Distance of ' + d + ' is ' + str(dist_list[d])) for d in dist_list.keys()]\n",
      "\n",
      "# More compact print statement. Need an f-string format statement.\n",
      "[print( d + ' ' + str(dist_list[d])) for d in dist_list.keys()]"
      ]
    },
    {
    "cell_type": "markdown",
    "metadata": {
      "id": "aec8ec41cb0d"
      },
      "source": [
        "##nucleicAcidBackboneTubesSticks\n",
        "\n",
        "This code shows the cartoon backbone tube as 65% transparent. It hides the rungs of the cartoon. It shows all of the non-H atoms are sticks. The motivation is to have the cartoon highlight the backbone without dominanting the scene.\n",
        "\n",
        "*PyMOL*"
      ]
    },
    {
    "cell_type": "code",
    "metadata": {
      "id": "39d636d0cf2a"
      },
      "source": [
        "cmd.do(\"set bg_rgb, white;\")\n",
        "cmd.do(\"hide everything, all;\")\n",
        "cmd.do(\"# Change to the name of your molecular object.;\")\n",
        "cmd.do(\"show cartoon, 3nd3;\")\n",
        "cmd.do(\"set cartoon_sampling,1;\")\n",
        "cmd.do(\"set cartoon_tube_radius, 0.5;\")\n",
        "cmd.do(\"set cartoon_ladder_mode, 0;\")\n",
        "cmd.do(\"# Set to 0.0 to turn off transparency;\")\n",
        "cmd.do(\"set cartoon_transparency, 0.65;\")\n",
        "cmd.do(\"# The default strick radisu is 0.25. I think it is too thick.;\")\n",
        "cmd.do(\"set stick_radius 0.12;\")\n",
        "cmd.do(\"show sticks;\")\n",
        "cmd.do(\"hide sticks, element H;\")"
      ]
    },
    {
    "cell_type": "markdown",
    "metadata": {
      "id": "e34b594827d8"
      },
      "source": [
        "##symexp\n",
        "\n",
        "The code expands the asymmetric unit. It like the generate symmetry mates command but it provides more control over the prefix name of the symmetry mates and the addition of unique segment identifiers for each symmetry mate. The usage: symexp prefix, object, (selection), cutoff, segidFlag. The cutoff is in Angstroms. The segidFlag set to 1 will add unique segids. For related functions, see SC***.\n",
        "\n",
        "*PyMOL*"
      ]
    },
    {
    "cell_type": "code",
    "metadata": {
      "id": "b6f1c19d7380"
      },
      "source": [
        "cmd.do(\"symexp symm, 3fa0, (3fa0), 20,1;\")"
      ]
    },
    {
    "cell_type": "markdown",
    "metadata": {
      "id": "216b94b58fc9"
      },
      "source": [
        "##addAxis\n",
        "\n",
        "Adds the function draw_axis(). Used to draw a symmetry axis, a ncs axis, or scale bar to a scene.\n",
        "\n",
        "*PyMOL*"
      ]
    },
    {
    "cell_type": "code",
    "metadata": {
      "id": "b8eacd78a044"
      },
      "source": [
      "python\n",
      "from pymol.cgo import *    # get constants\n",
      "from pymol import cmd\n",
      "\n",
      "import math\n",
      "\n",
      "class Counter:\n",
      "    '''\n",
      "    draw_line\n",
      "    source https://www.pymolwiki.org/index.php/Symmetry_Axis\n",
      "    \n",
      "    Pymol script copyright Matthew O'Meara and Xavier Ambroggio 2007\n",
      "    \n",
      "    Under  GNU Free Documentation License 1.2\n",
      "    \n",
      "    Example:\n",
      "    \n",
      "    draw_axis(x=18.232, y=17.150, z=9.488,i=-.226639, j=0.708772, k=-.668039, r=1, b=0, g=0, width=1, length=100)\n",
      "    \n",
      "    Updated 15 June 2020 \n",
      "    Blaine Mooers\n",
      "    \n",
      "    Notes:\n",
      "    1) Could be useful for the adding a symmery axis, a ncs axis, or scale bar to a scene.\n",
      "    2) The postion (xyz) is the middle of the line, not one end as expected for a vector.\n",
      "    3) Another example: draw_axis(x=0, y=0, z=0,i=0, j=0, k=1, r=1, b=0, g=0, width=300, length=96) \n",
      "    4) Changed print statement to Python3 print function.\n",
      "    5) Replaced cmd.extend() with function generator.\n",
      "    '''\n",
      "   def __init__(self):\n",
      "       self.state = 1\n",
      "counter = Counter()\n",
      "\n",
      "@cmd.extend\n",
      "def draw_axis(x=None, y=None, z=None, i=None, j=None, k=None, length=20.0, r=1.0, g=1.0, b=1.0, width=1.0 ):\n",
      "   if x == None or y == None or z == None or i == None or j == None or k== None :\n",
      "       print('Usage: draw_axis x,y,z, i,k,j, length, r,g,b, width')\n",
      "       print('draw a line centered at (x,y,z) with the direction vector (i,j,k)')\n",
      "       print('length, color (r,g,b), and width arguments are optional')\n",
      "#        print 'For a fun example of the command, run draw_axis_example'\n",
      "   else :\n",
      "       x,y,z = float(x), float(y), float(z)\n",
      "       i,j,k = float(i), float(j), float(k)\n",
      "       r,g,b = float(r), float(g), float(b)\n",
      "       width = float(width)\n",
      "       length = float(length) / 2.0\n",
      "\n",
      "       x1,y1,z1 = (x+i*length,y+j*length,z+k*length)\n",
      "       x2,y2,z2 = (x-i*length,y-j*length,z-k*length)\n",
      "\n",
      "       obj = [\n",
      "           LINEWIDTH, width,\n",
      "           BEGIN, LINES,\n",
      "\n",
      "           COLOR,   r,  g,  b,\n",
      "           VERTEX, x1, y1, z1,\n",
      "           VERTEX, x2, y2, z2,\n",
      "\n",
      "           END\n",
      "           ]\n",
      "\n",
      "       cmd.load_cgo(obj,'axis'+str(counter.state))\n",
      "       counter.state += 1\n",
      "python end"
      ]
    },
    {
    "cell_type": "markdown",
    "metadata": {
      "id": "92555d275643"
      },
      "source": [
        "##synch\n",
        "\n",
        "Wait until all current commands have been executed. A timeout ensures that that command eventually returns.\n",
        "\n",
        "*PyMOL*"
      ]
    },
    {
    "cell_type": "code",
    "metadata": {
      "id": "360ae0814438"
      },
      "source": [
      "cmd.sync(timeout=1.0,poll=0.05);"
      ]
    },
    {
    "cell_type": "markdown",
    "metadata": {
      "id": "11a85fc42e02"
      },
      "source": [
        "##renumResi\n",
        "\n",
        "Add or substract a residue number offset.\n",
        "\n",
        "*PyMOL*"
      ]
    },
    {
    "cell_type": "code",
    "metadata": {
      "id": "176420564455"
      },
      "source": [
        "cmd.do(\"alter 3fa0, resi=str(int(resi)+100);sort;\")"
      ]
    },
    {
    "cell_type": "markdown",
    "metadata": {
      "id": "c3c53c32328a"
      },
      "source": [
        "##renumAtoms\n",
        "\n",
        "Add or substract a atom number offset.\n",
        "\n",
        "*PyMOL*"
      ]
    },
    {
    "cell_type": "code",
    "metadata": {
      "id": "33ce49ba7359"
      },
      "source": [
        "cmd.do(\"alter {$1:3fa0, ID=ID+100;\")\n",
        "cmd.do(\"sort;\")"
      ]
    },
    {
    "cell_type": "markdown",
    "metadata": {
      "id": "4264fa2b6817"
      },
      "source": [
        "##renameChain\n",
        "\n",
        "Rename a chain. \n",
        "\n",
        "*PyMOL*"
      ]
    },
    {
    "cell_type": "code",
    "metadata": {
      "id": "d2c3cf1ad4c9"
      },
      "source": [
        "cmd.do(\"alter 3fa0 and chain A, chain='C';\")\n",
        "cmd.do(\"sort;\")"
      ]
    },
    {
    "cell_type": "markdown",
    "metadata": {
      "id": "d0f4758b742a"
      },
      "source": [
        "##printAtomNumbers\n",
        "\n",
        "Print the atom name and number of a residue.\n",
        "\n",
        "*PyMOL*"
      ]
    },
    {
    "cell_type": "code",
    "metadata": {
      "id": "d5f4135a7928"
      },
      "source": [
        "cmd.do(\"iterate (resi 1), print(name + ' %i5' % ID);\")"
      ]
    },
    {
    "cell_type": "markdown",
    "metadata": {
      "id": "6edcf469ead2"
      },
      "source": [
        "##printAtomNames\n",
        "\n",
        "Print the atom names of a residue.\n",
        "\n",
        "*PyMOL*"
      ]
    },
    {
    "cell_type": "code",
    "metadata": {
      "id": "284f26fd851c"
      },
      "source": [
        "cmd.do(\"iterate (resi 101), print(name);\")"
      ]
    },
    {
    "cell_type": "markdown",
    "metadata": {
      "id": "d7d9df526724"
      },
      "source": [
        "##printBfactors\n",
        "\n",
        "Print the bfactors of a residue.\n",
        "\n",
        "*PyMOL*"
      ]
    },
    {
    "cell_type": "code",
    "metadata": {
      "id": "5e47c09a0f2a"
      },
      "source": [
        "cmd.do(\"iterate (resi 101), print(name + ' %.2f' % b);\")"
      ]
    },
    {
    "cell_type": "markdown",
    "metadata": {
      "id": "e107e3ab2f4b"
      },
      "source": [
        "##printVDWradii\n",
        "\n",
        "Print the van der Waals radii of the atoms in of a residue.\n",
        "\n",
        "*PyMOL*"
      ]
    },
    {
    "cell_type": "code",
    "metadata": {
      "id": "d666fcf17c24"
      },
      "source": [
        "cmd.do(\"iterate (resi 101), print(name + ' %.2f' % vdw);\")"
      ]
    },
    {
    "cell_type": "markdown",
    "metadata": {
      "id": "607273467c54"
      },
      "source": [
        "##printCoordinates\n",
        "\n",
        "Print the coordinates of the atoms in a residue.\n",
        "\n",
        "*PyMOL*"
      ]
    },
    {
    "cell_type": "code",
    "metadata": {
      "id": "eaf073d23023"
      },
      "source": [
      "stored.coords = [];\n",
      "iterate_state 1, (resi 101), stored.coords.append([x,y,z]);\n",
      "[print(i) for i in stored.coords];"
      ]
    },
    {
    "cell_type": "markdown",
    "metadata": {
      "id": "f2c37523ff20"
      },
      "source": [
        "##printNamesCoordinates\n",
        "\n",
        "Print the atom names and coordinates of the atoms in a residue.\n",
        "\n",
        "*PyMOL*"
      ]
    },
    {
    "cell_type": "code",
    "metadata": {
      "id": "b8bf2b3b9a42"
      },
      "source": [
        "cmd.do(\"stored.names = [];  iterate_state 1, (resi 101), stored.names.append([name]); \")\n",
        "cmd.do(\"stored.coords = []; iterate_state 1, (resi 101)), stored.coords.append([x,y,z]); \")\n",
        "cmd.do(\"[print(i,j) for i,j in zip(stored.names, stored.coords)];\")"
      ]
    },
    {
    "cell_type": "markdown",
    "metadata": {
      "id": "5a26db7c887d"
      },
      "source": [
        "##printNamesCoordinates\n",
        "\n",
        "Print the atom names as tuples and coordinates of the atoms in a residue as a list.\n",
        "\n",
        "*PyMOL*"
      ]
    },
    {
    "cell_type": "code",
    "metadata": {
      "id": "ab130aaf0336"
      },
      "source": [
        "cmd.do(\"stored.coords = []; iterate_state 1, (resi 101), stored.coords.append([x,y,z]); \")\n",
        "cmd.do(\"stored.names = [];  iterate_state 1, (resi 101), stored.names.append([name]);\")\n",
        "cmd.do(\"stored.names3 = [tuple(i) for i in stored.names];\")\n",
        "cmd.do(\"[print(i,j) for i,j in(zip(stored.names3, stored.coords)];\")"
      ]
    },
    {
    "cell_type": "markdown",
    "metadata": {
      "id": "37a5d19a18a6"
      },
      "source": [
        "##emacsjupyterSourceBlock\n",
        "\n",
        "Source block template in org-mode with emacs-jupyter package.\n",
        "\n",
        "*PyMOL*"
      ]
    },
    {
    "cell_type": "code",
    "metadata": {
      "id": "efac5e0a8ea6"
      },
      "source": [
      "#+BEGIN_SRC jupyter-python :session py :kernel pymol.python :exports both :results raw drawer \n",
      "from pymol import cmd\n",
      "cmd.do('reinitialize')\n",
      "cmd.bg_color('white')\n",
      "cmd.do('fetch 6VXX')\n",
      "cmd.do('zoom (resi 614 and chain A)')\n",
      "cmd.label(selection='chain A and resi 614 and name CB', expression=''%s-%s' % (resn,resi)')\n",
      "cmd.do('set label_color, black; set label_size, 48')\n",
      "cmd.do('set stick_radius, 0.12')\n",
      "cmd.do('hide cartoon; show sticks')\n",
      "cmd.do('set ray_shadows, 0')\n",
      "cmd.do('draw')\n",
      "cmd.do('png /Users/blaine/D614Gipython3.png, 600, 360, dpi=600')\n",
      "from IPython.display import Image\n",
      "from IPython.core.display import HTML\n",
      "PATH = '/Users/blaine/'\n",
      "Image(filename = PATH + 'D614Gipython3.png', width=600, unconfined=True)\n",
      "#+END_SRC\n",
      "\n",
      "#+RESULTS:"
      ]
    },
    {
    "cell_type": "markdown",
    "metadata": {
      "id": "6dbfde08b0e8"
      },
      "source": [
        "##obipythonSourceBlock\n",
        "\n",
        "Source block template in org-mode with the ob-ipython package.\n",
        "\n",
        "*PyMOL*"
      ]
    },
    {
    "cell_type": "code",
    "metadata": {
      "id": "bd8c5ba736e5"
      },
      "source": [
      "#+BEGIN_SRC ipython :session py :kernel pymol.python :exports both :results raw drawer \n",
      "from pymol import cmd\n",
      "cmd.do('reinitialize')\n",
      "cmd.bg_color('white')\n",
      "cmd.do('fetch 6VXX')\n",
      "cmd.do('zoom (resi 614 and chain A)')\n",
      "cmd.label(selection='chain A and resi 614 and name CB', expression=''%s-%s' % (resn,resi)')\n",
      "cmd.do('set label_color, black; set label_size, 48')\n",
      "cmd.do('set stick_radius, 0.12')\n",
      "cmd.do('hide cartoon; show sticks')\n",
      "cmd.do('set ray_shadows, 0')\n",
      "cmd.do('draw')\n",
      "cmd.do('png /Users/blaine/D614Gipython3.png, 600, 360, dpi=600')\n",
      "from IPython.display import Image\n",
      "from IPython.core.display import HTML\n",
      "PATH = '/Users/blaine/'\n",
      "Image(filename = PATH + 'D614Gipython3.png', width=600, unconfined=True)\n",
      "#+END_SRC\n",
      "\n",
      "#+RESULTS:"
      ]
    },
    {
    "cell_type": "markdown",
    "metadata": {
      "id": "ce12eb38569d"
      },
      "source": [
        "##importPyMOLcmd\n",
        "\n",
        "Import the cmd class from the pymol api.\n",
        "\n",
        "*PyMOL*"
      ]
    },
    {
    "cell_type": "code",
    "metadata": {
      "id": "46a9553f2788"
      },
      "source": [
      "from pymol import cmd"
      ]
    },
    {
    "cell_type": "markdown",
    "metadata": {
      "id": "de9fe1bd15c1"
      },
      "source": [
        "##importIPythonDisplay\n",
        "\n",
        "Imports for using IPython to display images loaded from disk in notebook cells.\n",
        "\n",
        "*PyMOL*"
      ]
    },
    {
    "cell_type": "code",
    "metadata": {
      "id": "f51fd571dfce"
      },
      "source": [
      "from IPython.display import Image\n",
      "from IPython.core.display import HTML\n",
      "PATH = '/Users/blaine/'"
      ]
    },
    {
    "cell_type": "markdown",
    "metadata": {
      "id": "317842cf59a6"
      },
      "source": [
        "##loadImage\n",
        "\n",
        "Load image.\n",
        "\n",
        "*PyMOL*"
      ]
    },
    {
    "cell_type": "code",
    "metadata": {
      "id": "81c422eb1c72"
      },
      "source": [
      "Image(filename = PATH +'5da6orient.png', width=600, height=1000, unconfined=True);"
      ]
    },
    {
    "cell_type": "markdown",
    "metadata": {
      "id": "86d312e6daec"
      },
      "source": [
        "##imports4PyMOLjupyter\n",
        "\n",
        "Imports needed for most uses of pymol in Jupyter. Combination of importPyMOL and importPythonDisplay.\n",
        "\n",
        "*PyMOL*"
      ]
    },
    {
    "cell_type": "code",
    "metadata": {
      "id": "d3a0ac3bcf56"
      },
      "source": [
      "from pymol import cmd\n",
      "from IPython.display import Image\n",
      "from IPython.core.display import HTML"
      ]
    },
    {
    "cell_type": "markdown",
    "metadata": {
      "id": "84d63924c139"
      },
      "source": [
        "##getCoordinatespy\n",
        "\n",
        "Python version of getCoordinates snippets. Note that the python2 print statement stills works  in pml scripts.\n",
        "\n",
        "*PyMOL*"
      ]
    },
    {
    "cell_type": "code",
    "metadata": {
      "id": "1d284382462d"
      },
      "source": [
      "print(cmd.get_atom_coords(\\'/4PCO//B/G`8/OP2\\'));"
      ]
    },
    {
    "cell_type": "markdown",
    "metadata": {
      "id": "187df56f5c40"
      },
      "source": [
        "##fastapy\n",
        "\n",
        "Python version of the command to print the sequence from a PDB file in the fasta format.\n",
        "\n",
        "*PyMOL*"
      ]
    },
    {
    "cell_type": "code",
    "metadata": {
      "id": "caf94de4a4e"
      },
      "source": [
      "# Get the sequences of all molecular objects.;\n",
      "print(cmd.get_fastastr('all'));"
      ]
    },
    {
    "cell_type": "markdown",
    "metadata": {
      "id": "e3d043fc9cd5"
      },
      "source": [
        "##fetchThreeMaps\n",
        "\n",
        "Display three electron density maps as isomesh.\n",
        "\n",
        "*PyMOL*"
      ]
    },
    {
    "cell_type": "code",
    "metadata": {
      "id": "5215b8acca45"
      },
      "source": [
        "cmd.do(\"fetch 4dgr, type=pdb;\")\n",
        "cmd.do(\"# Make sure to rename map file so that ;\")\n",
        "cmd.do(\"# the root filename differs from pdb root filename;\")\n",
        "cmd.do(\"fetch 4dgr,  4dgr_2fofc, type=2fofc;\")\n",
        "cmd.do(\"fetch 4dgr, 4dgr_fofc, type=fofc;\")\n",
        "cmd.do(\"select  glycan, resid 200 or resid 469:477;\")\n",
        "cmd.do(\"isomesh mesh1, 2fofc, 1.0, glycan;\")\n",
        "cmd.do(\"color density, mesh1;\")\n",
        "cmd.do(\"isomesh mesh2, fofc, 3.0, glycan;\")\n",
        "cmd.do(\"color green, mesh2;\")\n",
        "cmd.do(\"isomesh mesh3, fofc, -3.0, glycan;\")\n",
        "cmd.do(\"color red, mesh3;\")"
      ]
    },
    {
    "cell_type": "markdown",
    "metadata": {
      "id": "ef690df5ba95"
      },
      "source": [
        "##scaleRadiusColorpy\n",
        "\n",
        "Scale the radius and color of atoms as spheres by property in the B-value column.\n",
        "\n",
        "*PyMOL*"
      ]
    },
    {
    "cell_type": "code",
    "metadata": {
      "id": "b1ea689001e4"
      },
      "source": [
      "cmd.do('bg_color white;')\n",
      "cmd.do('hide everything;')\n",
      "cmd.do('show spheres;')\n",
      "cmd.do('set  stick_radius = 0.1;')\n",
      "cmd.do('hide everything, HET;')\n",
      "cmd.do('show spheres, HET;')\n",
      "cmd.do('set sphere_quality=3;')\n",
      "cmd.do('show sticks, resi 1102;')\n",
      "cmd.do('from pymol import stored;')\n",
      "cmd.do('# set the stored array equal to the b−values or use your own values; ')\n",
      "cmd.do('stored.bb = [ ];')\n",
      "cmd.do('iterate all, stored.bb.append(b);')\n",
      "# scale the b−values;\n",
      "cmd.do('M = max(stored.bb);')\n",
      "cmd.do('scaledBB = map(lambda x: float (x/M), stored.bb);')\n",
      "count = 0;\n",
      "# set the sphere radii independently;\n",
      "for x in scaledBB:\n",
      "     cmd.set('sphere_scale', x ,'ID %s'%count)\n",
      "     count = count + 1\n",
      "cmd.do('spectrum b, selection=4gdx;')\n",
      "cmd.do('space cmyk;')\n",
      "cmd.do('set specular_intensity , 0.25;')"
      ]
    },
    {
    "cell_type": "markdown",
    "metadata": {
      "id": "41fe636a9391"
      },
      "source": [
        "##scaleRadiusColorPythonInsertpy\n",
        "\n",
        "Python block insert for scaleRadiusColorpy.\n",
        "\n",
        "*PyMOL*"
      ]
    },
    {
    "cell_type": "code",
    "metadata": {
      "id": "e379a1116bc3"
      },
      "source": [
      "# scale the b−values;\n",
      "M = max(stored.bb);\n",
      "scaledBB = map(lambda x: float (x/M), stored.bb);\n",
      "count = 0;\n",
      "# set the sphere radii independently;\n",
      "#[(cmd.set('sphere_scale', x ,'ID %s'%count); count = count + 1) for x in scaledBB]\n",
      "for x in scaledBB:\n",
      "  cmd.set('sphere_scale', x ,'ID %s'%count)\n",
      "  count = count + 1"
      ]
    },
    {
    "cell_type": "markdown",
    "metadata": {
      "id": "fa4cf050f760"
      },
      "source": [
        "##spngpy\n",
        "\n",
        "Save png flle with timestamp.\n",
        "\n",
        "*PyMOL*"
      ]
    },
    {
    "cell_type": "code",
    "metadata": {
      "id": "7a10d9b05dbb"
      },
      "source": [
      "import datetime;\n",
      "from pymol import cmd; \n",
      "DT =datetime.datetime.now().strftime('yr%Ymo%mday%dhr%Hmin%M');\n",
      "s = str(DT); \n",
      "cmd.save(stemName+s+'.png'); "
      ]
    },
    {
    "cell_type": "markdown",
    "metadata": {
      "id": "10c585bbd02d"
      },
      "source": [
        "##displayFontspy\n",
        "\n",
        "Print to the screen as labels the 21 font ids in their corresponding fonts in a grid. Each label is an object and appears in the internal gui. You can turn on and off the display of specific fonts.\n",
        "\n",
        "*PyMOL*"
      ]
    },
    {
    "cell_type": "code",
    "metadata": {
      "id": "719f9b744eea"
      },
      "source": [
      "for i in range(1,21):\n",
      "     name = 'label%d' % i;\n",
      "     cmd.pseudoatom(name, label='label font id %d' % i, pos=(0,0,0));\n",
      "     cmd.set('label_font_id', i, name);\n",
      "cmd.set('label_size', 50);\n",
      "cmd.set('grid_mode');"
      ]
    },
    {
    "cell_type": "markdown",
    "metadata": {
      "id": "2f80e3a1d128"
      },
      "source": [
        "##aveB4resiXpy\n",
        "\n",
        "AveBResiX, prints the residue number and the average bfactor. Uses reduce and lambda, builtin Python functional porgramming functions. Note that you need to convert the length of the list of Bfactors from an integer.\n",
        "\n",
        "*PyMOL*"
      ]
    },
    {
    "cell_type": "code",
    "metadata": {
      "id": "e99f69e84065"
      },
      "source": [
      "# AveBResiX, prints the residue number and the average bfactor.;\n",
      "# Uses reduce and lambda, builtin Python functional porgramming functions.;\n",
      "# Note that you need to convert the length of the list of Bfactors from an integer to a float before division into the sum.;\n",
      "Bfactors = [];\n",
      "# edit the selection below, which is a range of residue numbers here.;\n",
      "iterate (resi 133), Bfactors.append(b);\n",
      "print( 'Average B-factor of residue ', %{1:133 , '   = ', '%.2f' %(reduce(lambda x, y: x + y, Bfactors) / float(len(Bfactors))) );"
      ]
    },
    {
    "cell_type": "markdown",
    "metadata": {
      "id": "fb6fc7a7bf2e"
      },
      "source": [
        "##sc441\n",
        "\n",
        "Display all symmetry mates in four unit cells stacked long a-axis. Uses supercell.py in $HOME/Scripts/PyMOLscripts/.\n",
        "\n",
        "*PyMOL*"
      ]
    },
    {
    "cell_type": "code",
    "metadata": {
      "id": "2d0eb387eb40"
      },
      "source": [
        "cmd.do(\"run $HOME/Scripts/PyMOLscripts/supercell.py;\")\n",
        "cmd.do(\"supercell 4, 4, 1, ,  orange,  supercell1, 1;\")"
      ]
    },
    {
    "cell_type": "markdown",
    "metadata": {
      "id": "6ffbb79d1fc"
      },
      "source": [
        "##sc444\n",
        "\n",
        "Display all symmetry mates in a 4 x 4 x4 array of unit cells. Uses supercell.py in $HOME/Scripts/PyMOLscripts/.\n",
        "\n",
        "*PyMOL*"
      ]
    },
    {
    "cell_type": "code",
    "metadata": {
      "id": "80bc929b519e"
      },
      "source": [
        "cmd.do(\"run $HOME/Scripts/PyMOLscripts/supercell.py;\")\n",
        "cmd.do(\"supercell 4, 4, 4, ,  orange,  supercell1, 1;\")"
      ]
    },
    {
    "cell_type": "markdown",
    "metadata": {
      "id": "8e41639208bd"
      },
      "source": [
        "##sc414\n",
        "\n",
        "Display all symmetry mates in a 4 x 1 x 4 array. Uses supercell.py in $HOME/Scripts/PyMOLscripts/.\n",
        "\n",
        "*PyMOL*"
      ]
    },
    {
    "cell_type": "code",
    "metadata": {
      "id": "cac0ba2d273a"
      },
      "source": [
        "cmd.do(\"run $HOME/Scripts/PyMOLscripts/supercell.py;\")\n",
        "cmd.do(\"supercell 4, 1, 4, ,  orange,  supercell1, 1;\")"
      ]
    },
    {
    "cell_type": "markdown",
    "metadata": {
      "id": "14e1b6a6899a"
      },
      "source": [
        "##sc144\n",
        "\n",
        "Display all symmetry mates in in a 1 x 4 x 4 array. Uses supercell.py in $HOME/Scripts/PyMOLscripts/.\n",
        "\n",
        "*PyMOL*"
      ]
    },
    {
    "cell_type": "code",
    "metadata": {
      "id": "e0e57e2245e"
      },
      "source": [
        "cmd.do(\"run $HOME/Scripts/PyMOLscripts/supercell.py;\")\n",
        "cmd.do(\"supercell 1, 4, 4, ,  orange,  supercell1, 1;\")"
      ]
    },
    {
    "cell_type": "markdown",
    "metadata": {
      "id": "d73b6ab1ffb3"
      },
      "source": [
        "##sc444\n",
        "\n",
        "Display all symmetry mates in a 4 x 4 x4 array of unit cells. Uses supercell.py in $HOME/Scripts/PyMOLscripts/.\n",
        "\n",
        "*PyMOL*"
      ]
    },
    {
    "cell_type": "code",
    "metadata": {
      "id": "ccad9ae93ef8"
      },
      "source": [
        "cmd.do(\"run $HOME/Scripts/PyMOLscripts/supercell.py;\")\n",
        "cmd.do(\"supercell 4, 4, 4, ,  orange,  supercell1, 1;\")"
      ]
    },
    {
    "cell_type": "markdown",
    "metadata": {
      "id": "6e7c9ed8bdb3"
      },
      "source": [
        "##sdaepy\n",
        "\n",
        "Save dae flle with timestamp.\n",
        "\n",
        "*PyMOL*"
      ]
    },
    {
    "cell_type": "code",
    "metadata": {
      "id": "2436ab46b42a"
      },
      "source": [
      "import datetime;\n",
      "DT =datetime.datetime.now().strftime('yr%Ymo%mday%dhr%Hmin%M');\n",
      "s = str(DT); \n",
      "cmd.save(stemName+s+'.dae'); "
      ]
    },
    {
    "cell_type": "markdown",
    "metadata": {
      "id": "aaf147ef6ac0"
      },
      "source": [
        "##sccp4py\n",
        "\n",
        "Save electron density map flle with timestamp.\n",
        "\n",
        "*PyMOL*"
      ]
    },
    {
    "cell_type": "code",
    "metadata": {
      "id": "97e1e3e134c4"
      },
      "source": [
      "import datetime;\n",
      "from pymol import cmd; \n",
      "DT =datetime.datetime.now().strftime('yr%Ymo%mday%dhr%Hmin%M');\n",
      "s = str(DT); \n",
      "cmd.save(stemName+s+'.ccp4'); "
      ]
    },
    {
    "cell_type": "markdown",
    "metadata": {
      "id": "c97df5b1e424"
      },
      "source": [
        "##salnpy\n",
        "\n",
        "Save an aln flle with a timestamp. Python version.\n",
        "\n",
        "*PyMOL*"
      ]
    },
    {
    "cell_type": "code",
    "metadata": {
      "id": "fdc804610632"
      },
      "source": [
      "import datetime;\n",
      "from pymol import cmd;\n",
      "DT =datetime.datetime.now().strftime('yr%Ymo%mday%dhr%Hmin%M');\n",
      "s = str(DT);\n",
      "cmd.save(stemName+s+'.aln');"
      ]
    },
    {
    "cell_type": "markdown",
    "metadata": {
      "id": "7d511e423a91"
      },
      "source": [
        "##lspymolrcpy\n",
        "\n",
        "Print list of active pymolrc files.\n",
        "\n",
        "*PyMOL*"
      ]
    },
    {
    "cell_type": "code",
    "metadata": {
      "id": "46152de8c6ac"
      },
      "source": [
      "print(invocation.options.deferred);"
      ]
    },
    {
    "cell_type": "markdown",
    "metadata": {
      "id": "7d0d77645e5e"
      },
      "source": [
        "##printDocpy\n",
        "\n",
        "Print document string of a function.\n",
        "\n",
        "*PyMOL*"
      ]
    },
    {
    "cell_type": "code",
    "metadata": {
      "id": "a632d389ae5c"
      },
      "source": [
      "print(my_func.__doc__);"
      ]
    },
    {
    "cell_type": "markdown",
    "metadata": {
      "id": "d2da8e3fa05c"
      },
      "source": [
        "##printPathpy\n",
        "\n",
        "Print the path to the currently used PyMOL binary.\n",
        "\n",
        "*PyMOL*"
      ]
    },
    {
    "cell_type": "code",
    "metadata": {
      "id": "76014912cd6a"
      },
      "source": [
      "print(pymol.__path__)"
      ]
    },
    {
    "cell_type": "markdown",
    "metadata": {
      "id": "611d4acb5644"
      },
      "source": [
        "##pymoldocspy\n",
        "\n",
        "Return to the command history window the docstrings for all of the functions in a module.\n",
        "\n",
        "*PyMOL*"
      ]
    },
    {
    "cell_type": "code",
    "metadata": {
      "id": "a18769f85938"
      },
      "source": [
      "[help(i) for i in dir(pymol)];"
      ]
    },
    {
    "cell_type": "markdown",
    "metadata": {
      "id": "84777b1dd6ad"
      },
      "source": [
        "##aobw\n",
        "\n",
        "Ambient occlussion in grayscale.\n",
        "\n",
        "*PyMOL*"
      ]
    },
    {
    "cell_type": "code",
    "metadata": {
      "id": "a64f4b496578"
      },
      "source": [
        "cmd.do(\"# Note: requires the gscale() function from pymolshortcuts.py.\")\n",
        "cmd.do(\"# Download this script from http://GitHub.com/MooersLab/pymolshortcuts.\")\n",
        "cmd.do(\"# Load the functions from this script with the command 'run pymolshortcuts.py'\")\n",
        "cmd.do(\"set_color oxygen, [1.0,0.4,0.4];\")\n",
        "cmd.do(\"set_color nitrogen, [0.5,0.5,1.0];\")\n",
        "cmd.do(\"remove solvent;\")\n",
        "cmd.do(\"as spheres;\")\n",
        "cmd.do(\"util.cbaw;\")\n",
        "cmd.do(\"bg white;\")\n",
        "cmd.do(\"gscale();\")\n",
        "cmd.do(\"set light_count,10;\")\n",
        "cmd.do(\"set spec_count,1;\")\n",
        "cmd.do(\"set shininess, 10;\")\n",
        "cmd.do(\"set specular,0.25;\")\n",
        "cmd.do(\"set ambient,0;\")\n",
        "cmd.do(\"set direct,0;\")\n",
        "cmd.do(\"set reflect,1.5;\")\n",
        "cmd.do(\"set ray_shadow_decay_factor, 0.1;\")\n",
        "cmd.do(\"set ray_shadow_decay_range, 2;\")\n",
        "cmd.do(\"set depth_cue, 0;\")\n",
        "cmd.do(\"ray;\")"
      ]
    },
    {
    "cell_type": "markdown",
    "metadata": {
      "id": "b428671d2266"
      },
      "source": [
        "##aod\n",
        "\n",
        "Ambient occlussion with carbon atoms colored black.\n",
        "\n",
        "*PyMOL*"
      ]
    },
    {
    "cell_type": "code",
    "metadata": {
      "id": "a9ebde479533"
      },
      "source": [
        "cmd.do(\"set_color oxygen, [1.0,0.4,0.4];\")\n",
        "cmd.do(\"set_color nitrogen, [0.5,0.5,1.0];\")\n",
        "cmd.do(\"remove solvent;\")\n",
        "cmd.do(\"as spheres;\")\n",
        "cmd.do(\"util.cbaw;\")\n",
        "cmd.do(\"bg white;\")\n",
        "cmd.do(\"set light_count,10;\")\n",
        "cmd.do(\"set spec_count,1;\")\n",
        "cmd.do(\"set shininess, 10;\")\n",
        "cmd.do(\"set specular,0.25;\")\n",
        "cmd.do(\"set ambient,0;\")\n",
        "cmd.do(\"set direct,0;\")\n",
        "cmd.do(\"set reflect,1.5;\")\n",
        "cmd.do(\"set ray_shadow_decay_factor, 0.1;\")\n",
        "cmd.do(\"set ray_shadow_decay_range, 2;\")\n",
        "cmd.do(\"color gray00, symbol c\")\n",
        "cmd.do(\"color gray90, symbol h\")\n",
        "cmd.do(\"set depth_cue, 0;\")\n",
        "cmd.do(\"ray;\")"
      ]
    },
    {
    "cell_type": "markdown",
    "metadata": {
      "id": "360445c3ebab"
      },
      "source": [
        "##aodbw\n",
        "\n",
        "Ambient occlussion in grayscale with carbon atoms colored black. Note: requires the gscale() function from pymolshortcuts.py. Download this script from http://GitHub.com/MooersLab/pymolshortcuts. Load the functions from this script with the following command:  cmd.do('run pymolshortcuts.py').\n",
        "\n",
        "*PyMOL*"
      ]
    },
    {
    "cell_type": "code",
    "metadata": {
      "id": "909c58d65568"
      },
      "source": [
        "cmd.do(\"set_color oxygen, [1.0,0.4,0.4];\")\n",
        "cmd.do(\"set_color nitrogen, [0.5,0.5,1.0];\")\n",
        "cmd.do(\"remove solvent;\")\n",
        "cmd.do(\"as spheres;\")\n",
        "cmd.do(\"util.cbaw;\")\n",
        "cmd.do(\"bg white;\")\n",
        "cmd.do(\"gscale();\")\n",
        "cmd.do(\"set light_count,10;\")\n",
        "cmd.do(\"set spec_count,1;\")\n",
        "cmd.do(\"set shininess, 10;\")\n",
        "cmd.do(\"set specular,0.25;\")\n",
        "cmd.do(\"set ambient,0;\")\n",
        "cmd.do(\"set direct,0;\")\n",
        "cmd.do(\"set reflect,1.5;\")\n",
        "cmd.do(\"set ray_shadow_decay_factor, 0.1;\")\n",
        "cmd.do(\"set ray_shadow_decay_range, 2;\")\n",
        "cmd.do(\"set depth_cue, 0;\")\n",
        "cmd.do(\"ray;\")"
      ]
    },
    {
    "cell_type": "markdown",
    "metadata": {
      "id": "6d11190fbc3a"
      },
      "source": [
        "##addAxispy\n",
        "\n",
        "Adds the function draw_axis(). Could be useful for the adding a symmery axis, a ncs axis, or scale bar to a scene.\n",
        "\n",
        "*PyMOL*"
      ]
    },
    {
    "cell_type": "code",
    "metadata": {
      "id": "b16b0059887a"
      },
      "source": [
      "from pymol.cgo import *    # get constants\n",
      "from pymol import cmd\n",
      "\n",
      "import math\n",
      "\n",
      "class Counter:\n",
      "    '''\n",
      "    draw_line\n",
      "    source https://www.pymolwiki.org/index.php/Symmetry_Axis\n",
      "    \n",
      "    Pymol script copyright Matthew O'Meara and Xavier Ambroggio 2007\n",
      "    \n",
      "    Under  GNU Free Documentation License 1.2\n",
      "    \n",
      "    Example:\n",
      "    \n",
      "    draw_axis(x=18.232, y=17.150, z=9.488,i=-.226639, j=0.708772, k=-.668039, r=1, b=0, g=0, width=1, length=100)\n",
      "    \n",
      "    Updated 15 June 2020 \n",
      "    Blaine Mooers\n",
      "    \n",
      "    Notes:\n",
      "    1) Could be useful for the adding a symmery axis, a ncs axis, or scale bar to a scene.\n",
      "    2) The postion (xyz) is the middle of the line, not one end as expected for a vector.\n",
      "    3) Another example: draw_axis(x=0, y=0, z=0,i=0, j=0, k=1, r=1, b=0, g=0, width=300, length=96) \n",
      "    4) Changed print statement to Python3 print function.\n",
      "    5) Replaced cmd.extend() with function generator.\n",
      "    '''\n",
      "   def __init__(self):\n",
      "       self.state = 1\n",
      "counter = Counter()\n",
      "\n",
      "@cmd.extend\n",
      "def draw_axis(x=None, y=None, z=None, i=None, j=None, k=None, length=20.0, r=1.0, g=1.0, b=1.0, width=1.0 ):\n",
      "   if x == None or y == None or z == None or i == None or j == None or k== None :\n",
      "       print('Usage: draw_axis x,y,z, i,k,j, length, r,g,b, width')\n",
      "       print('draw a line centered at (x,y,z) with the direction vector (i,j,k)')\n",
      "       print('length, color (r,g,b), and width arguments are optional')\n",
      "#        print 'For a fun example of the command, run draw_axis_example'\n",
      "   else :\n",
      "       x,y,z = float(x), float(y), float(z)\n",
      "       i,j,k = float(i), float(j), float(k)\n",
      "       r,g,b = float(r), float(g), float(b)\n",
      "       width = float(width)\n",
      "       length = float(length) / 2.0\n",
      "\n",
      "       x1,y1,z1 = (x+i*length,y+j*length,z+k*length)\n",
      "       x2,y2,z2 = (x-i*length,y-j*length,z-k*length)\n",
      "\n",
      "       obj = [\n",
      "           LINEWIDTH, width,\n",
      "           BEGIN, LINES,\n",
      "\n",
      "           COLOR,   r,  g,  b,\n",
      "           VERTEX, x1, y1, z1,\n",
      "           VERTEX, x2, y2, z2,\n",
      "\n",
      "           END\n",
      "           ]\n",
      "\n",
      "       cmd.load_cgo(obj,'axis'+str(counter.state))\n",
      "       counter.state += 1"
      ]
    },
    {
    "cell_type": "markdown",
    "metadata": {
      "id": "b1a7987e05b4"
      },
      "source": [
        "##grayscalepy\n",
        "\n",
        "Apply grayscale coloring using a grayscale version of the PyMOL colors for the elements. This is a Python function. It is invoked in a script file via gscale(). There is a corresponding gscale shortcut in pymolshortcuts.py that is invoked in a pml script by entering gsale if the functions in pymolshortcuts.py have been loaded with the run pymolshortcuts.py command.\n",
        "\n",
        "*PyMOL*"
      ]
    },
    {
    "cell_type": "code",
    "metadata": {
      "id": "f40127109b44"
      },
      "source": [
      "def grayscale(selection='all'):\n",
      "    '''Apply by entering grayscale()'''\n",
      "    cmd.color('grey64', 'elem Ac')\n",
      "    cmd.color('grey67', 'elem Al')\n",
      "    cmd.color('grey39', 'elem Am')\n",
      "    cmd.color('grey46', 'elem Sb')\n",
      "    cmd.color('grey75', 'elem Ar')\n",
      "    cmd.color('grey58', 'elem As')\n",
      "    cmd.color('grey33', 'elem At')\n",
      "    cmd.color('grey56', 'elem Ba')\n",
      "    cmd.color('grey40', 'elem Bk')\n",
      "    cmd.color('grey87', 'elem Be')\n",
      "    cmd.color('grey40', 'elem Bi')\n",
      "    cmd.color('grey20', 'elem Bh')\n",
      "    cmd.color('grey77', 'elem B')\n",
      "    cmd.color('grey26', 'elem Br')\n",
      "    cmd.color('grey86', 'elem Cd')\n",
      "    cmd.color('grey76', 'elem Ca')\n",
      "    cmd.color('grey34', 'elem Cf')\n",
      "    cmd.color('grey77', 'elem C')\n",
      "    cmd.color('grey98', 'elem Ce')\n",
      "    cmd.color('grey17', 'elem Cs')\n",
      "    cmd.color('grey70', 'elem Cl')\n",
      "    cmd.color('grey60', 'elem Cr')\n",
      "    cmd.color('grey64', 'elem Co')\n",
      "    cmd.color('grey54', 'elem Cu')\n",
      "    cmd.color('grey42', 'elem Cm')\n",
      "    cmd.color('grey89', 'elem D')\n",
      "    cmd.color('grey19', 'elem Db')\n",
      "    cmd.color('grey79', 'elem Dy')\n",
      "    cmd.color('grey29', 'elem Es')\n",
      "    cmd.color('grey67', 'elem Er')\n",
      "    cmd.color('grey85', 'elem Eu')\n",
      "    cmd.color('grey28', 'elem Fm')\n",
      "    cmd.color('grey93', 'elem F')\n",
      "    cmd.color('grey8', 'elem Fr')\n",
      "    cmd.color('grey82', 'elem Gd')\n",
      "    cmd.color('grey60', 'elem Ga')\n",
      "    cmd.color('grey52', 'elem Ge')\n",
      "    cmd.color('grey80', 'elem Au')\n",
      "    cmd.color('grey68', 'elem Hf')\n",
      "    cmd.color('grey20', 'elem Hs')\n",
      "    cmd.color('grey96', 'elem He')\n",
      "    cmd.color('grey75', 'elem Ho')\n",
      "    cmd.color('grey89', 'elem H')\n",
      "    cmd.color('grey49', 'elem In')\n",
      "    cmd.color('grey16', 'elem I')\n",
      "    cmd.color('grey29', 'elem Ir')\n",
      "    cmd.color('grey48', 'elem Fe')\n",
      "    cmd.color('grey65', 'elem Kr')\n",
      "    cmd.color('grey76', 'elem La')\n",
      "    cmd.color('grey19', 'elem Lr')\n",
      "    cmd.color('grey34', 'elem Pb')\n",
      "    cmd.color('grey60', 'elem Li')\n",
      "    cmd.color('grey48', 'elem Lu')\n",
      "    cmd.color('grey83', 'elem Mg')\n",
      "    cmd.color('grey52', 'elem Mn')\n",
      "    cmd.color('grey20', 'elem Mt')\n",
      "    cmd.color('grey23', 'elem Md')\n",
      "    cmd.color('grey72', 'elem Hg')\n",
      "    cmd.color('grey62', 'elem Mo')\n",
      "    cmd.color('grey93', 'elem Nd')\n",
      "    cmd.color('grey85', 'elem Ne')\n",
      "    cmd.color('grey43', 'elem Np')\n",
      "    cmd.color('grey67', 'elem Ni')\n",
      "    cmd.color('grey69', 'elem Nb')\n",
      "    cmd.color('grey25', 'elem N')\n",
      "    cmd.color('grey23', 'elem No')\n",
      "    cmd.color('grey36', 'elem Os')\n",
      "    cmd.color('grey44', 'elem O')\n",
      "    cmd.color('grey33', 'elem Pd')\n",
      "    cmd.color('grey57', 'elem P')\n",
      "    cmd.color('grey82', 'elem Pt')\n",
      "    cmd.color('grey37', 'elem Pu')\n",
      "    cmd.color('grey40', 'elem Po')\n",
      "    cmd.color('grey35', 'elem K')\n",
      "    cmd.color('grey95', 'elem Pr')\n",
      "    cmd.color('grey90', 'elem Pm')\n",
      "    cmd.color('grey52', 'elem Pa')\n",
      "    cmd.color('grey35', 'elem Ra')\n",
      "    cmd.color('grey46', 'elem Rn')\n",
      "    cmd.color('grey43', 'elem Re')\n",
      "    cmd.color('grey39', 'elem Rh')\n",
      "    cmd.color('grey27', 'elem Rb')\n",
      "    cmd.color('grey47', 'elem Ru')\n",
      "    cmd.color('grey19', 'elem Rf')\n",
      "    cmd.color('grey89', 'elem Sm')\n",
      "    cmd.color('grey90', 'elem Sc')\n",
      "    cmd.color('grey20', 'elem Sg')\n",
      "    cmd.color('grey66', 'elem Se')\n",
      "    cmd.color('grey80', 'elem Si')\n",
      "    cmd.color('grey75', 'elem Ag')\n",
      "    cmd.color('grey46', 'elem Na')\n",
      "    cmd.color('grey71', 'elem Sr')\n",
      "    cmd.color('grey76', 'elem S')\n",
      "    cmd.color('grey60', 'elem Ta')\n",
      "    cmd.color('grey53', 'elem Tc')\n",
      "    cmd.color('grey51', 'elem Te')\n",
      "    cmd.color('grey81', 'elem Tb')\n",
      "    cmd.color('grey39', 'elem Tl')\n",
      "    cmd.color('grey59', 'elem Th')\n",
      "    cmd.color('grey61', 'elem Tm')\n",
      "    cmd.color('grey48', 'elem Sn')\n",
      "    cmd.color('grey75', 'elem Ti')\n",
      "    cmd.color('grey50', 'elem W')\n",
      "    cmd.color('grey47', 'elem U')\n",
      "    cmd.color('grey65', 'elem V')\n",
      "    cmd.color('grey54', 'elem Xe')\n",
      "    cmd.color('grey55', 'elem Yb')\n",
      "    cmd.color('grey91', 'elem Y')\n",
      "    cmd.color('grey51', 'elem Zn')\n",
      "    cmd.color('grey81', 'elem Zr')"
      ]
    },
    {
    "cell_type": "markdown",
    "metadata": {
      "id": "44ab2659b091"
      },
      "source": [
        "##importShortcuts\n",
        "\n",
        "Import for loading the functions in the pymolshortcuts.py file. These functions can be run inside cmd.do() without the trailing (). For example, cmd.do('rv').\n",
        "\n",
        "*PyMOL*"
      ]
    },
    {
    "cell_type": "code",
    "metadata": {
      "id": "fafcb8093dd7"
      },
      "source": [
      "cmd.do('run /Users/blaine/Scripts/PyMOLScripts/pymolshortcuts.py')"
      ]
    },
    {
    "cell_type": "markdown",
    "metadata": {
      "id": "2b3eea8cbfc3"
      },
      "source": [
        "##AO\n",
        "\n",
        "Run the AO function from the pymolshortcuts.py file to generate the photorealistic effect.\n",
        "\n",
        "*PyMOL*"
      ]
    },
    {
    "cell_type": "code",
    "metadata": {
      "id": "5837aba05f00"
      },
      "source": [
      "cmd.do('AO')"
      ]
    },
    {
    "cell_type": "markdown",
    "metadata": {
      "id": "597e64fc7fb4"
      },
      "source": [
        "##AOBW\n",
        "\n",
        "Run the AOBW function from the pymolshortcuts.py file to generate photorealistic effect in grayscale.\n",
        "\n",
        "*PyMOL*"
      ]
    },
    {
    "cell_type": "code",
    "metadata": {
      "id": "92f608ba7144"
      },
      "source": [
      "cmd.do('AOBW')"
      ]
    },
    {
    "cell_type": "markdown",
    "metadata": {
      "id": "b5111b558465"
      },
      "source": [
        "##AOD\n",
        "\n",
        "Run the AOD function from the pymolshortcuts.py file to generate photorealistic effect with carbons colored black.\n",
        "\n",
        "*PyMOL*"
      ]
    },
    {
    "cell_type": "code",
    "metadata": {
      "id": "63e973100090"
      },
      "source": [
      "cmd.do('AOD')"
      ]
    },
    {
    "cell_type": "markdown",
    "metadata": {
      "id": "c7e7b9467d48"
      },
      "source": [
        "##AODBW\n",
        "\n",
        "Run the AODBW function from the pymolshortcuts.py file to generate photorealistic effect with carbons colored black and all other atoms colored in grayscale.\n",
        "\n",
        "*PyMOL*"
      ]
    },
    {
    "cell_type": "code",
    "metadata": {
      "id": "7d74ab4d921f"
      },
      "source": [
      "cmd.do('AODBW')"
      ]
    },
    {
    "cell_type": "markdown",
    "metadata": {
      "id": "bf3883eb7ca5"
      },
      "source": [
        "##unitCellEdgesColorBlack\n",
        "\n",
        "Color unit cell edges black. The settings for controlling the unit cell color are hard to find.\n",
        "\n",
        "*PyMOL*"
      ]
    },
    {
    "cell_type": "code",
    "metadata": {
      "id": "b4db4cf9bbb3"
      },
      "source": [
        "cmd.do(\"# show the unit cell;\")\n",
        "cmd.do(\"show cell;\")\n",
        "cmd.do(\"color black, 1lw9;\")\n",
        "cmd.do(\"# color by atom with carbons colored green,\")\n",
        "cmd.do(\"util.cbag;\")\n",
        "cmd.do(\"set cgo_line_width, 2.5;\")\n",
        "cmd.do(\"# string filename, int width, int height, float dpi, int ray\")\n",
        "cmd.do(\"png  testCell3.png, 1600,1600,600,0\")"
      ]
    },
    {
    "cell_type": "markdown",
    "metadata": {
      "id": "967290e5dfde"
      },
      "source": [
        "##printColorByAtomCodes\n",
        "\n",
        "Print the codes for color-by-atom (util.cba*) alternates.\n",
        "\n",
        "*PyMOL*"
      ]
    },
    {
    "cell_type": "code",
    "metadata": {
      "id": "31c4be396df3"
      },
      "source": [
      "print('util.cbag, green carbons atoms' + '\n' + 'util.cbac, cyan carbon atoms' + '\n' + 'util.cbam, magenta carbon atoms' + '\n' + 'util.cbay, yellow carbons atoms' + '\n'+ 'util.cbas, salmon carbons atoms' + '\n' + 'util.cbaw, white carbons atoms' + '\n' + 'util.cbab, slate carbons atoms' + '\n' + 'util.cbao, bright orange carbons atoms' + '\n' + 'util.cbap, purple carbons atoms' + '\n' +'util.cbak, pink carbons atoms')"
      ]
    },
    {
    "cell_type": "markdown",
    "metadata": {
      "id": "70b76cfc1ec1"
      },
      "source": [
        "##grayscale\n",
        "\n",
        "Apply grayscale coloring using a grayscale version of the PyMOL colors for the elements. This is a Python function. It is invoked in a script file via grayscale(). There is a corresponding gscale shortcut in pymolshortcuts.py that is invoked in a pml script by entering gsale if the functions in pymolshortcuts.py have been loaded with the run pymolshortcuts.py command.\n",
        "\n",
        "*PyMOL*"
      ]
    },
    {
    "cell_type": "code",
    "metadata": {
      "id": "ca02bd29a3f2"
      },
      "source": [
      "python\n",
      "def grayscale(selection='all'):\n",
      "    '''Apply by entering grayscale'''\n",
      "    cmd.color('grey64', 'elem Ac')\n",
      "    cmd.color('grey67', 'elem Al')\n",
      "    cmd.color('grey39', 'elem Am')\n",
      "    cmd.color('grey46', 'elem Sb')\n",
      "    cmd.color('grey75', 'elem Ar')\n",
      "    cmd.color('grey58', 'elem As')\n",
      "    cmd.color('grey33', 'elem At')\n",
      "    cmd.color('grey56', 'elem Ba')\n",
      "    cmd.color('grey40', 'elem Bk')\n",
      "    cmd.color('grey87', 'elem Be')\n",
      "    cmd.color('grey40', 'elem Bi')\n",
      "    cmd.color('grey20', 'elem Bh')\n",
      "    cmd.color('grey77', 'elem B')\n",
      "    cmd.color('grey26', 'elem Br')\n",
      "    cmd.color('grey86', 'elem Cd')\n",
      "    cmd.color('grey76', 'elem Ca')\n",
      "    cmd.color('grey34', 'elem Cf')\n",
      "    cmd.color('grey77', 'elem C')\n",
      "    cmd.color('grey98', 'elem Ce')\n",
      "    cmd.color('grey17', 'elem Cs')\n",
      "    cmd.color('grey70', 'elem Cl')\n",
      "    cmd.color('grey60', 'elem Cr')\n",
      "    cmd.color('grey64', 'elem Co')\n",
      "    cmd.color('grey54', 'elem Cu')\n",
      "    cmd.color('grey42', 'elem Cm')\n",
      "    cmd.color('grey89', 'elem D')\n",
      "    cmd.color('grey19', 'elem Db')\n",
      "    cmd.color('grey79', 'elem Dy')\n",
      "    cmd.color('grey29', 'elem Es')\n",
      "    cmd.color('grey67', 'elem Er')\n",
      "    cmd.color('grey85', 'elem Eu')\n",
      "    cmd.color('grey28', 'elem Fm')\n",
      "    cmd.color('grey93', 'elem F')\n",
      "    cmd.color('grey8', 'elem Fr')\n",
      "    cmd.color('grey82', 'elem Gd')\n",
      "    cmd.color('grey60', 'elem Ga')\n",
      "    cmd.color('grey52', 'elem Ge')\n",
      "    cmd.color('grey80', 'elem Au')\n",
      "    cmd.color('grey68', 'elem Hf')\n",
      "    cmd.color('grey20', 'elem Hs')\n",
      "    cmd.color('grey96', 'elem He')\n",
      "    cmd.color('grey75', 'elem Ho')\n",
      "    cmd.color('grey89', 'elem H')\n",
      "    cmd.color('grey49', 'elem In')\n",
      "    cmd.color('grey16', 'elem I')\n",
      "    cmd.color('grey29', 'elem Ir')\n",
      "    cmd.color('grey48', 'elem Fe')\n",
      "    cmd.color('grey65', 'elem Kr')\n",
      "    cmd.color('grey76', 'elem La')\n",
      "    cmd.color('grey19', 'elem Lr')\n",
      "    cmd.color('grey34', 'elem Pb')\n",
      "    cmd.color('grey60', 'elem Li')\n",
      "    cmd.color('grey48', 'elem Lu')\n",
      "    cmd.color('grey83', 'elem Mg')\n",
      "    cmd.color('grey52', 'elem Mn')\n",
      "    cmd.color('grey20', 'elem Mt')\n",
      "    cmd.color('grey23', 'elem Md')\n",
      "    cmd.color('grey72', 'elem Hg')\n",
      "    cmd.color('grey62', 'elem Mo')\n",
      "    cmd.color('grey93', 'elem Nd')\n",
      "    cmd.color('grey85', 'elem Ne')\n",
      "    cmd.color('grey43', 'elem Np')\n",
      "    cmd.color('grey67', 'elem Ni')\n",
      "    cmd.color('grey69', 'elem Nb')\n",
      "    cmd.color('grey25', 'elem N')\n",
      "    cmd.color('grey23', 'elem No')\n",
      "    cmd.color('grey36', 'elem Os')\n",
      "    cmd.color('grey44', 'elem O')\n",
      "    cmd.color('grey33', 'elem Pd')\n",
      "    cmd.color('grey57', 'elem P')\n",
      "    cmd.color('grey82', 'elem Pt')\n",
      "    cmd.color('grey37', 'elem Pu')\n",
      "    cmd.color('grey40', 'elem Po')\n",
      "    cmd.color('grey35', 'elem K')\n",
      "    cmd.color('grey95', 'elem Pr')\n",
      "    cmd.color('grey90', 'elem Pm')\n",
      "    cmd.color('grey52', 'elem Pa')\n",
      "    cmd.color('grey35', 'elem Ra')\n",
      "    cmd.color('grey46', 'elem Rn')\n",
      "    cmd.color('grey43', 'elem Re')\n",
      "    cmd.color('grey39', 'elem Rh')\n",
      "    cmd.color('grey27', 'elem Rb')\n",
      "    cmd.color('grey47', 'elem Ru')\n",
      "    cmd.color('grey19', 'elem Rf')\n",
      "    cmd.color('grey89', 'elem Sm')\n",
      "    cmd.color('grey90', 'elem Sc')\n",
      "    cmd.color('grey20', 'elem Sg')\n",
      "    cmd.color('grey66', 'elem Se')\n",
      "    cmd.color('grey80', 'elem Si')\n",
      "    cmd.color('grey75', 'elem Ag')\n",
      "    cmd.color('grey46', 'elem Na')\n",
      "    cmd.color('grey71', 'elem Sr')\n",
      "    cmd.color('grey76', 'elem S')\n",
      "    cmd.color('grey60', 'elem Ta')\n",
      "    cmd.color('grey53', 'elem Tc')\n",
      "    cmd.color('grey51', 'elem Te')\n",
      "    cmd.color('grey81', 'elem Tb')\n",
      "    cmd.color('grey39', 'elem Tl')\n",
      "    cmd.color('grey59', 'elem Th')\n",
      "    cmd.color('grey61', 'elem Tm')\n",
      "    cmd.color('grey48', 'elem Sn')\n",
      "    cmd.color('grey75', 'elem Ti')\n",
      "    cmd.color('grey50', 'elem W')\n",
      "    cmd.color('grey47', 'elem U')\n",
      "    cmd.color('grey65', 'elem V')\n",
      "    cmd.color('grey54', 'elem Xe')\n",
      "    cmd.color('grey55', 'elem Yb')\n",
      "    cmd.color('grey91', 'elem Y')\n",
      "    cmd.color('grey51', 'elem Zn')\n",
      "    cmd.color('grey81', 'elem Zr')\n",
      "cmd.extend('grayscale',grayscale)\n",
      "python end"
      ]
    },
    {
    "cell_type": "markdown",
    "metadata": {
      "id": "424eafea0f5b"
      },
      "source": [
        "##yrb\n",
        "\n",
        "Run the yrb function from the pymolshortcuts.py file. \n",
        "\n",
        "*PyMOL*"
      ]
    },
    {
    "cell_type": "code",
    "metadata": {
      "id": "dc7ed4e13cf1"
      },
      "source": [
      "cmd.do('yrb')"
      ]
    },
    {
    "cell_type": "markdown",
    "metadata": {
      "id": "532102608be0"
      },
      "source": [
        "##timcolor\n",
        "\n",
        "Run the timcolor function from the pymolshortcuts.py file to color atoms accordings to Tim Mather's biophysical coloring scheme for proteins.\n",
        "\n",
        "*PyMOL*"
      ]
    },
    {
    "cell_type": "code",
    "metadata": {
      "id": "2cb4f6f9bbd"
      },
      "source": [
      "cmd.do('timcolor')"
      ]
    },
    {
    "cell_type": "markdown",
    "metadata": {
      "id": "b800b2fe706d"
      },
      "source": [
        "##colorh1\n",
        "\n",
        "Run the colorh1 function from the pymolshortcuts.py file to color protein molecules according to the Eisenberg hydrophobicity scale, scheme 1.\n",
        "\n",
        "*PyMOL*"
      ]
    },
    {
    "cell_type": "code",
    "metadata": {
      "id": "98800f3f4177"
      },
      "source": [
      "cmd.do('colorh1')"
      ]
    },
    {
    "cell_type": "markdown",
    "metadata": {
      "id": "ba4a3870df2b"
      },
      "source": [
        "##colorh2\n",
        "\n",
        "Run the colorh2 function from the pymolshortcuts.py file to color protein molecules according to the Eisenberg hydrophobicity scale, scheme 2.\n",
        "\n",
        "*PyMOL*"
      ]
    },
    {
    "cell_type": "code",
    "metadata": {
      "id": "cf8802e02a9e"
      },
      "source": [
      "cmd.do('colorh2')"
      ]
    },
    {
    "cell_type": "markdown",
    "metadata": {
      "id": "f832c8468e6e"
      },
      "source": [
        "##cav\n",
        "\n",
        "Run the cav function from the pymolshortcuts.py file to show buried cavities and pockets as molecular surfaces.\n",
        "\n",
        "*PyMOL*"
      ]
    },
    {
    "cell_type": "code",
    "metadata": {
      "id": "345eb8420d87"
      },
      "source": [
      "cmd.do('cav')"
      ]
    },
    {
    "cell_type": "markdown",
    "metadata": {
      "id": "cb35f656d002"
      },
      "source": [
        "##PE125\n",
        "\n",
        "Run the PE125 function from the pymolshortcuts.py file to show the pearl effect with the inner sphere scaled by 0.125 of the van der Waals surface.\n",
        "\n",
        "*PyMOL*"
      ]
    },
    {
    "cell_type": "code",
    "metadata": {
      "id": "abb7743fe59c"
      },
      "source": [
      "cmd.do('PE125')"
      ]
    },
    {
    "cell_type": "markdown",
    "metadata": {
      "id": "987bdac7484d"
      },
      "source": [
        "##PE25\n",
        "\n",
        "Run the PE25 function from the pymolshortcuts.py file to show the pearl effect with the inner sphere scaled by 0.25 of the van der Waals surface.\n",
        "\n",
        "*PyMOL*"
      ]
    },
    {
    "cell_type": "code",
    "metadata": {
      "id": "cbb68ffebe30"
      },
      "source": [
      "cmd.do('PE25')"
      ]
    },
    {
    "cell_type": "markdown",
    "metadata": {
      "id": "24ca4fa1c8e"
      },
      "source": [
        "##PE50\n",
        "\n",
        "Run the PE50 function from the pymolshortcuts.py file to show the pearl effect with the inner sphere scaled by 0.50 of the van der Waals surface.\n",
        "\n",
        "*PyMOL*"
      ]
    },
    {
    "cell_type": "code",
    "metadata": {
      "id": "2e46e9b34886"
      },
      "source": [
      "cmd.do('PE50')"
      ]
    },
    {
    "cell_type": "markdown",
    "metadata": {
      "id": "4e8e9084e693"
      },
      "source": [
        "##PE75\n",
        "\n",
        "Run the PE75 function from the pymolshortcuts.py file to show the pearl effect with the inner sphere scaled by 0.75 of the van der Waals surface.\n",
        "\n",
        "*PyMOL*"
      ]
    },
    {
    "cell_type": "code",
    "metadata": {
      "id": "cd142ae8d7a0"
      },
      "source": [
      "cmd.do('PE75')"
      ]
    },
    {
    "cell_type": "markdown",
    "metadata": {
      "id": "f4d568a53acb"
      },
      "source": [
        "##PE85\n",
        "\n",
        "Run the PE85 function from the pymolshortcuts.py file to show the pearl effect with the inner sphere scaled by 0.85 of the van der Waals surface.\n",
        "\n",
        "*PyMOL*"
      ]
    },
    {
    "cell_type": "code",
    "metadata": {
      "id": "d3c058c90eb"
      },
      "source": [
      "cmd.do('PE85')"
      ]
    },
    {
    "cell_type": "markdown",
    "metadata": {
      "id": "9cf89eeb10b9"
      },
      "source": [
        "##PE66\n",
        "\n",
        "Run the PE66 function from the pymolshortcuts.py file to show the pearl effect with the inner sphere scaled by 0.66 of the van der Waals surface.\n",
        "\n",
        "*PyMOL*"
      ]
    },
    {
    "cell_type": "code",
    "metadata": {
      "id": "3adadc787dc4"
      },
      "source": [
      "cmd.do('PE66')"
      ]
    },
    {
    "cell_type": "markdown",
    "metadata": {
      "id": "ebc60bcdbec6"
      },
      "source": [
        "##PE33\n",
        "\n",
        "Run the PE33 function from the pymolshortcuts.py file to show the pearl effect with the inner sphere scaled by 0.33 of the van der Waals surface.\n",
        "\n",
        "*PyMOL*"
      ]
    },
    {
    "cell_type": "code",
    "metadata": {
      "id": "de51f1a0ac4f"
      },
      "source": [
      "cmd.do('PE33')"
      ]
    },
    {
    "cell_type": "markdown",
    "metadata": {
      "id": "793ed9e88501"
      },
      "source": [
        "##cntccp4emaps\n",
        "\n",
        "Count number of *.ccp4 (electron density map) files in current directory.\n",
        "\n",
        "*PyMOL*"
      ]
    },
    {
    "cell_type": "code",
    "metadata": {
      "id": "b44931917297"
      },
      "source": [
      "print('Count the number of ccp4 electron density files in current directory.');\n",
      "print('Usage: cntccp4s');\n",
      "myPath = os.getcwd();\n",
      "ccp4Counter = len(glob.glob1(myPath,'*.pse'));\n",
      "print('Number of number of ccp4 electron density files in the current directory: ', ccp4Counter);"
      ]
    },
    {
    "cell_type": "markdown",
    "metadata": {
      "id": "7bba548380bb"
      },
      "source": [
        "##cntfiles\n",
        "\n",
        "Count number of files in current directory.\n",
        "\n",
        "*PyMOL*"
      ]
    },
    {
    "cell_type": "code",
    "metadata": {
      "id": "48f4eccb53b6"
      },
      "source": [
      "print('Count the files in the directory.')\n",
      "print('Usage: cntfiles.')\n",
      "# simple version for working with CWD\n",
      "print('Number of files in current working directory: ', len([name for name in os.listdir('.') if os.path.isfile(name)]))"
      ]
    },
    {
    "cell_type": "markdown",
    "metadata": {
      "id": "4d6f9aee3a2a"
      },
      "source": [
        "##cntlogs\n",
        "\n",
        "Count number of *.log files in current directory.\n",
        "\n",
        "*PyMOL*"
      ]
    },
    {
    "cell_type": "code",
    "metadata": {
      "id": "42bc7b15bfd7"
      },
      "source": [
      "print('Count the number of log image files in current directory.');\n",
      "print('Usage: cntlogs');\n",
      "myPath = os.getcwd();\n",
      "logCounter = len(glob.glob1(myPath,'*.log'));\n",
      "print('Number of number of log image files in the current directory: ', logCounter);"
      ]
    },
    {
    "cell_type": "markdown",
    "metadata": {
      "id": "48aa0e8fd54f"
      },
      "source": [
        "##cntmtzs\n",
        "\n",
        "Count number of *.mtz files in current directory.\n",
        "\n",
        "*PyMOL*"
      ]
    },
    {
    "cell_type": "code",
    "metadata": {
      "id": "b55280390549"
      },
      "source": [
      "print('Count the number of mtz structure factor files in current directory.');\n",
      "print('Usage: cntmtzs');\n",
      "myPath = os.getcwd();\n",
      "mtzCounter = len(glob.glob1(myPath,'*.mtz'));\n",
      "print('Number of number of mtz structure factor files in the current directory: ', mtzCounter);"
      ]
    },
    {
    "cell_type": "markdown",
    "metadata": {
      "id": "848ed0b73a47"
      },
      "source": [
        "##cntpdbs\n",
        "\n",
        "Count number of *.pdb files in current directory.\n",
        "\n",
        "*PyMOL*"
      ]
    },
    {
    "cell_type": "code",
    "metadata": {
      "id": "e53d307d3a"
      },
      "source": [
      "print('Count the number of pdb files in the current directory.')\n",
      "print('Usage: cntpdb')\n",
      "myPath = os.getcwd()\n",
      "pdbCounter = len(glob.glob1(myPath,'*.pdb'))\n",
      "print('Number of pdb files in the current directory: ', pdbCounter)"
      ]
    },
    {
    "cell_type": "markdown",
    "metadata": {
      "id": "f9d588ef61f5"
      },
      "source": [
        "##cntpmls\n",
        "\n",
        "Count number of *.pml files in current directory.\n",
        "\n",
        "*PyMOL*"
      ]
    },
    {
    "cell_type": "code",
    "metadata": {
      "id": "f07a65a0124f"
      },
      "source": [
      "print('Count the number of pml (Pymol macro language) files in current directory.');\n",
      "print('Usage: cntpmls');\n",
      "myPath = os.getcwd();\n",
      "pmlCounter = len(glob.glob1(myPath,'*.pml'));\n",
      "print('Number of pml files in the current directory: ', pmlCounter);"
      ]
    },
    {
    "cell_type": "markdown",
    "metadata": {
      "id": "24d32a76e022"
      },
      "source": [
        "##cntpngs\n",
        "\n",
        "Count number of *.png files in current directory.\n",
        "\n",
        "*PyMOL*"
      ]
    },
    {
    "cell_type": "code",
    "metadata": {
      "id": "b6143de18174"
      },
      "source": [
      "print('Count the number of png image files in current directory.');\n",
      "print('Usage: cntpngs');\n",
      "myPath = os.getcwd();\n",
      "pngCounter = len(glob.glob1(myPath,'*.png'));\n",
      "print('Number of number of png image files in the current directory: ', pngCounter);"
      ]
    },
    {
    "cell_type": "markdown",
    "metadata": {
      "id": "4598fa666389"
      },
      "source": [
        "##cntpses\n",
        "\n",
        "Count number of *.pse files in current directory.\n",
        "\n",
        "*PyMOL*"
      ]
    },
    {
    "cell_type": "code",
    "metadata": {
      "id": "c1b842cce49"
      },
      "source": [
      "print('Count the number of *.pse (session) files in current directory.');\n",
      "print('Usage: cntpses');\n",
      "myPath = os.getcwd();\n",
      "pseCounter = len(glob.glob1(myPath,'*.pse'));\n",
      "print('Number of *.pse (session) files in the current directory: ', pseCounter);"
      ]
    },
    {
    "cell_type": "markdown",
    "metadata": {
      "id": "a6a16959e26c"
      },
      "source": [
        "##rmhb\n",
        "\n",
        "Delete all H-bonds in the selection, which is all by default.\n",
        "\n",
        "*PyMOL*"
      ]
    },
    {
    "cell_type": "code",
    "metadata": {
      "id": "bd151410f2f4"
      },
      "source": [
      "cmd.delete('hbonds')"
      ]
    },
    {
    "cell_type": "markdown",
    "metadata": {
      "id": "8a2e984fa79b"
      },
      "source": [
        "##hb\n",
        "\n",
        "Creates an object of all H-bonds found by PyMOL.\n",
        "\n",
        "*PyMOL*"
      ]
    },
    {
    "cell_type": "code",
    "metadata": {
      "id": "89bf5f50c3f4"
      },
      "source": [
      "cmd.distance('hbonds', 'all', 'all', '3.2', mode='2')\n",
      "cmd.set('dash_gap','0.4')\n",
      "cmd.set('dash_color','grey30')\n",
      "cmd.set('dash_width','1.5')\n",
      "cmd.set('dash_length','.25')\n",
      "print('Enter rmhb to remove the hbonds.')"
      ]
    },
    {
    "cell_type": "markdown",
    "metadata": {
      "id": "6a02f65b0e46"
      },
      "source": [
        "##rmd\n",
        "\n",
        "Remove all measurement objects in the interal GUI.\n",
        "\n",
        "*PyMOL*"
      ]
    },
    {
    "cell_type": "code",
    "metadata": {
      "id": "2f37f21dbe4b"
      },
      "source": [
      "cmd.do('delete measure*')\n",
      "cmd.do('delete m*_*')\n",
      "cmd.do('delete dist*')"
      ]
    },
    {
    "cell_type": "markdown",
    "metadata": {
      "id": "370e288304c1"
      },
      "source": [
        "##nmr\n",
        "\n",
        "Show all models in a nmr structure.\n",
        "\n",
        "*PyMOL*"
      ]
    },
    {
    "cell_type": "code",
    "metadata": {
      "id": "bf504fabd551"
      },
      "source": [
        "cmd.do(\"set all_states, on\")"
      ]
    },
    {
    "cell_type": "markdown",
    "metadata": {
      "id": "81872b5b16c2"
      },
      "source": [
        "##nmroff\n",
        "\n",
        "Hide all but first model in a nmr structure.\n",
        "\n",
        "*PyMOL*"
      ]
    },
    {
    "cell_type": "code",
    "metadata": {
      "id": "78bec5c97e3b"
      },
      "source": [
        "cmd.do(\"set all_states, off\")"
      ]
    },
    {
    "cell_type": "markdown",
    "metadata": {
      "id": "52e0447ea79b"
      },
      "source": [
        "##nmroffpy\n",
        "\n",
        "Hide all but the first model in a nmr structure.\n",
        "\n",
        "*PyMOL*"
      ]
    },
    {
    "cell_type": "code",
    "metadata": {
      "id": "4146b3c53568"
      },
      "source": [
      "cmd.do('set all_states, off')"
      ]
    },
    {
    "cell_type": "markdown",
    "metadata": {
      "id": "155951ac964e"
      },
      "source": [
        "##nmrpy\n",
        "\n",
        "Show all models in a nmr structure.\n",
        "\n",
        "*PyMOL*"
      ]
    },
    {
    "cell_type": "code",
    "metadata": {
      "id": "817716e6235b"
      },
      "source": [
        "cmd.do(\"cmd.do('set all_states, on')\")"
      ]
    },
    {
    "cell_type": "markdown",
    "metadata": {
      "id": "c10911548349"
      },
      "source": [
        "##loadAndAlignManyFiles1\n",
        "\n",
        "These are the instructions for loading and aligning multiple files. To save multiple models in a file to separate pdb files.\n",
        "\n",
        "*PyMOL*"
      ]
    },
    {
    "cell_type": "code",
    "metadata": {
      "id": "d1548128228b"
      },
      "source": [
      "# Copyright (c) 2004 Robert L. Campbell\n",
      "#\n",
      "# Modified for use with Python3.\n",
      "# Jan. 29, 2020 \n",
      "# Blaine Mooers, PhD\n",
      "# Univ. of Oklahoma Health Sciences Center\n",
      "#\n",
      "#\n",
      "from pymol import cmd\n",
      "import glob\n",
      "\n",
      "def loadFiles(files):\n",
      "  '''\n",
      "  load_files <files>\n",
      "\n",
      "  loads multiple files (using filename globbing)\n",
      "  into a multiple objects named as the files are (e.g. collection of\n",
      "  downloaded PDB files).\n",
      "\n",
      "  e.g. load_files prot_*.pdb\n",
      "  '''\n",
      "  file_list = glob.glob(files)\n",
      "  if file_list:\n",
      "    file_list.sort()\n",
      "    for i in file_list:\n",
      "      cmd.load(i)\n",
      "  else:\n",
      "    print('No files found for pattern %s' % files)\n",
      ""
      ]
    },
    {
    "cell_type": "markdown",
    "metadata": {
      "id": "17fa133e0e7c"
      },
      "source": [
        "##loadAndAlignManyFiles2\n",
        "\n",
        "To align all of the loaded RNA structures in all possible combinations by their C1' carbon atoms. Yes, this construct is a list comprehension inside a list comprehension!\n",
        "\n",
        "*PyMOL*"
      ]
    },
    {
    "cell_type": "code",
    "metadata": {
      "id": "64b9ed0b384f"
      },
      "source": [
        "cmd.do(\"run ~/Scripts/optAlignRNA.py;\")\n",
        "cmd.do(\"[[optAlignRNA(x, y) for x in cmd.get_names()] for y in cmd.get_names()];\")"
      ]
    },
    {
    "cell_type": "markdown",
    "metadata": {
      "id": "fb946171e749"
      },
      "source": [
        "##ao\n",
        "\n",
        "Apply the ambient occlussion effect to get the photorealistic effect.\n",
        "\n",
        "*PyMOL*"
      ]
    },
    {
    "cell_type": "code",
    "metadata": {
      "id": "cb9376f6c63f"
      },
      "source": [
        "cmd.do(\"set_color oxygen, [1.0,0.4,0.4];\")\n",
        "cmd.do(\"set_color nitrogen, [0.5,0.5,1.0];\")\n",
        "cmd.do(\"remove solvent;\")\n",
        "cmd.do(\"as spheres;\")\n",
        "cmd.do(\"util.cbaw;\")\n",
        "cmd.do(\"bg white;\")\n",
        "cmd.do(\"set light_count,10;\")\n",
        "cmd.do(\"set spec_count,1;\")\n",
        "cmd.do(\"set shininess, 10;\")\n",
        "cmd.do(\"set specular,0.25;\")\n",
        "cmd.do(\"set ambient,0;\")\n",
        "cmd.do(\"set direct,0;\")\n",
        "cmd.do(\"set reflect,1.5;\")\n",
        "cmd.do(\"set ray_shadow_decay_factor, 0.1;\")\n",
        "cmd.do(\"set ray_shadow_decay_range, 2;\")\n",
        "cmd.do(\"set depth_cue, 0;\")\n",
        "cmd.do(\"ray;\")"
      ]
    },
    {
    "cell_type": "markdown",
    "metadata": {
      "id": "9c457c2c03ba"
      },
      "source": [
        "##bsfr\n",
        "\n",
        "Ball-and-stick plus filled ring representation for ligands.\n",
        "\n",
        "*PyMOL*"
      ]
    },
    {
    "cell_type": "code",
    "metadata": {
      "id": "c20265d2e82"
      },
      "source": [
        "cmd.do(\"# Edit the selection that is named ligand here.;\")\n",
        "cmd.do(\"create ligand, /bluComplex/C/A/1101;\")\n",
        "cmd.do(\"preset.ball_and_stick(selection='ligand');\")\n",
        "cmd.do(\"util.cbaw ligand;\")\n",
        "cmd.do(\"set stick_color, white, ligand;\")\n",
        "cmd.do(\"set valence, off, ligand;\")\n",
        "cmd.do(\"unset valence;\")\n",
        "cmd.do(\"# above command is required after using preset;\")\n",
        "cmd.do(\"set sphere_color, black, elem C and ligand;\")\n",
        "cmd.do(\"set sphere_color, red, elem O and ligand;\")\n",
        "cmd.do(\"set sphere_color, blue, elem N and ligand;\")\n",
        "cmd.do(\"set sphere_color, lightblue, elem F and ligand;\")\n",
        "cmd.do(\"set stick_radius, 0.12;\")\n",
        "cmd.do(\"set sphere_quality, 4;\")\n",
        "cmd.do(\"set cartoon_ring_finder, 4, ligand;\")\n",
        "cmd.do(\"set cartoon_ring_mode, 3, ligand;\")\n",
        "cmd.do(\"set cartoon_ring_width, 0.12, ligand;\")\n",
        "cmd.do(\"set cartoon_ring_transparency, .0, ligand;\")\n",
        "cmd.do(\"show cartoon, ligand;\")"
      ]
    },
    {
    "cell_type": "markdown",
    "metadata": {
      "id": "dc2d4d8aad2b"
      },
      "source": [
        "##wallart\n",
        "\n",
        "Reset hash_max from 100 to 2000 to enable the saving of 28 inches by 28 inches.\n",
        "\n",
        "*PyMOL*"
      ]
    },
    {
    "cell_type": "code",
    "metadata": {
      "id": "4f534b80d4ed"
      },
      "source": [
        "cmd.do(\"# Reset hash_max from 100 to 2000 to enable the saving of images of large size for office wall hangings, eg. 30 x 30 inches. \")\n",
        "cmd.do(\"hash_max=2000\")"
      ]
    },
    {
    "cell_type": "markdown",
    "metadata": {
      "id": "f16dd0af7856"
      },
      "source": [
        "##wallartpy\n",
        "\n",
        "Reset hash_max from 100 to 2000 to enable the saving of 28 inches by 28 inches.\n",
        "\n",
        "*PyMOL*"
      ]
    },
    {
    "cell_type": "code",
    "metadata": {
      "id": "94315f16c21"
      },
      "source": [
      "# Reset hash_max from 100 to 2000 to enable the saving of images of large size for office wall hangings, eg. 30 x 30 inches.;\n",
      "cmd.do('hash_max=2000');"
      ]
    },
    {
    "cell_type": "markdown",
    "metadata": {
      "id": "8e208b85ecb"
      },
      "source": [
        "##cblindCartoon\n",
        "\n",
        "Color cartoon with colorblind friendly colors. Requires that the pymolshortcuts.py file is loaded. This has been applied to PDB-ID 7JU6. The protein is human RET kinase, and the drug is selpercatinib, a FDA approved drug for treating several cancers.\n",
        "\n",
        "*PyMOL*"
      ]
    },
    {
    "cell_type": "code",
    "metadata": {
      "id": "ec2314dd7c30"
      },
      "source": [
        "cmd.do(\"CB;\")\n",
        "cmd.do(\"color cb_lightblue, ss h;\")\n",
        "cmd.do(\"color cb_vermillion, ss s;\")\n",
        "cmd.do(\"color lightorange, ss l+'';\")"
      ]
    },
    {
    "cell_type": "markdown",
    "metadata": {
      "id": "454fad603504"
      },
      "source": [
        "##importPyMOLandShortcuts\n",
        "\n",
        "Imports needed for most users of PyMOL in Jupyter. Combination of importPyMOL and importPythonDisplay.\n",
        "\n",
        "*PyMOL*"
      ]
    },
    {
    "cell_type": "code",
    "metadata": {
      "id": "6209ffd305e3"
      },
      "source": [
      "from pymol import cmd\n",
      "from IPython.display import Image\n",
      "PATH = '/Users/blaine/'\n",
      "cmd.do('run /Users/blaine/Scripts/PyMOLScripts/pymolshortcuts.py')"
      ]
    },
    {
    "cell_type": "markdown",
    "metadata": {
      "id": "c52ad949dea3"
      },
      "source": [
        "##lsSnipsPy\n",
        "\n",
        "List all snips by tab trigger and description.\n",
        "\n",
        "*PyMOL*"
      ]
    },
    {
    "cell_type": "code",
    "metadata": {
      "id": "96a515b8589e"
      },
      "source": [
      "print('Name                                      Description                                                                                                                   '),\n",
      "print('------------------------------------------------------------------------------------------------------------------------------------------------------------------------'),\n",
      "print('AO                                        Run the AO function from the pymolshortcuts.py file to generate the photorealistic effect.'),\n",
      "print('AOBW                                      Run the AOBW function from the pymolshortcuts.py file to generate photorealistic effect in grayscale.'),\n",
      "print('AOD                                       Run the AOD function from the pymolshortcuts.py file to generate photorealistic effect with carbons colored black.'),\n",
      "print('AODBW                                     Run the AODBW function from the pymolshortcuts.py file to generate photorealistic effect with carbons colored black and all other atoms colored in grayscale.'),\n",
      "print('PE125                                     Run the PE125 function from the pymolshortcuts.py file to show the pearl effect with the inner sphere scaled by 0.125 of the van der Waals surface.'),\n",
      "print('PE25                                      Run the PE25 function from the pymolshortcuts.py file to show the pearl effect with the inner sphere scaled by 0.25 of the van der Waals surface.'),\n",
      "print('PE33                                      Run the PE33 function from the pymolshortcuts.py file to show the pearl effect with the inner sphere scaled by 0.33 of the van der Waals surface.'),\n",
      "print('PE50                                      Run the PE50 function from the pymolshortcuts.py file to show the pearl effect with the inner sphere scaled by 0.50 of the van der Waals surface.'),\n",
      "print('PE66                                      Run the PE66 function from the pymolshortcuts.py file to show the pearl effect with the inner sphere scaled by 0.66 of the van der Waals surface.'),\n",
      "print('PE75                                      Run the PE75 function from the pymolshortcuts.py file to show the pearl effect with the inner sphere scaled by 0.75 of the van der Waals surface.'),\n",
      "print('PE85                                      Run the PE85 function from the pymolshortcuts.py file to show the pearl effect with the inner sphere scaled by 0.85 of the van der Waals surface.'),\n",
      "print('addAxis                                   Adds the function draw_axis(). Used to draw a symmetry axis, a ncs axis, or scale bar to a scene.'),\n",
      "print('addAxispy                                 Adds the function draw_axis(). Could be useful for the adding a symmery axis, a ncs axis, or scale bar to a scene.'),\n",
      "print('allPairs                                  This is a two-fold nested list comprehension for any all-parwise operation on the currently loaded objects. Replace optAlginRNA with object from any other function that operations on a pair of structrures.'),\n",
      "print('antialias                                 Set antialias to on to get smoother edges.'),\n",
      "print('ao                                        Apply the ambient occlussion effect to get the photorealistic effect.'),\n",
      "print('ao                                        Apply the ambient occlussion effect to get the photorealistic effect.'),\n",
      "print('aobw                                      Ambient occlussion in grayscale.'),\n",
      "print('aod                                       Ambient occlussion with carbon atoms colored black.'),\n",
      "print('aodbw                                     Ambient occlussion in grayscale with carbon atoms colored black. Note: requires the gscale() function from pymolshortcuts.py. Download this script from http://GitHub.com/MooersLab/pymolshortcuts. Load the functions from this script with the following command:  cmd.do(\"run pymolshortcuts.py\").'),\n",
      "print('aveB4resiX                                Prints the residue number and the average bfactor. Uses reduce and lambda, builtin Python functional porgramming functions. Note that you need to convert the length of the list of Bfactors from an integer to a float before division into the sum.'),\n",
      "print('aveB4resiXpy                              AveBResiX, prints the residue number and the average bfactor. Uses reduce and lambda, builtin Python functional porgramming functions. Note that you need to convert the length of the list of Bfactors from an integer.'),\n",
      "print('averageB                                  Average the B-factors by using a regular list as opposed to a stored list in PyMOL. Edit the selection as needed. '),\n",
      "print('basePairStacking                          This code make as standard base stacking diagram with ball and stick representation.'),\n",
      "print('brokenNucleicBackbone                     Create bonds between phosphorous and O3* atoms in a low-resolution DNA structure that is 80 base pairs long. Edit the selections below, which are ranges of residue numbers and edit the molecular object name (5fur).'),\n",
      "print('bs                                        Ball and stick representation.'),\n",
      "print('bsfr                                      Ball-and-stick plus filled ring representation for ligands.'),\n",
      "print('bu                                        Generate the biological unit using the quat.py script. Edit the path to the file quat.py. You may have to download it from the PyMOL Wiki page.'),\n",
      "print('carvedIsomesh                             Carved isomesh representation of electron density.'),\n",
      "print('carvedIsosurface                          Carved isosurface representation of electron density.'),\n",
      "print('carvedVolume                              Carved volume representation of electron density.'),\n",
      "print('cav                                       Run the cav function from the pymolshortcuts.py file to show buried cavities and pockets as molecular surfaces.'),\n",
      "print('cblind                                    Apply color blind friendly to ribbon diagrams. Edit the path to the Pymol-script-repo in your computer account. See PyMOL wiki for more information about the Pymol-script-reo.'),\n",
      "print('cblindCartoon                             Color cartoon with colorblind friendly colors. Requires that the pymolshortcuts.py file is loaded. This has been applied to PDB-ID 7JU6. The protein is human RET kinase, and the drug is selpercatinib, a FDA approved drug for treating several cancers.'),\n",
      "print('centerpi                                  Center pi. Edit the atoms selected for positioning the pseudoatom.'),\n",
      "print('cmddocs                                   Print in the command history window the docstrings of all of the functions in the cmd module.'),\n",
      "print('cntccp4emaps                              Count number of *.ccp4 (electron density map) files in current directory.'),\n",
      "print('cntfiles                                  Count number of files in current directory.'),\n",
      "print('cntlogs                                   Count number of *.log files in current directory.'),\n",
      "print('cntmtzs                                   Count number of *.mtz files in current directory.'),\n",
      "print('cntpdbs                                   Count number of *.pdb files in current directory.'),\n",
      "print('cntpmls                                   Count number of *.pml files in current directory.'),\n",
      "print('cntpngs                                   Count number of *.png files in current directory.'),\n",
      "print('cntpses                                   Count number of *.pse files in current directory.'),\n",
      "print('colorh1                                   Run the colorh1 function from the pymolshortcuts.py file to color protein molecules according to the Eisenberg hydrophobicity scale, scheme 1.'),\n",
      "print('colorh2                                   Run the colorh2 function from the pymolshortcuts.py file to color protein molecules according to the Eisenberg hydrophobicity scale, scheme 2.'),\n",
      "print('coordinate                                Coordinate covalent bonds to metals and H-bonds from RNA.'),\n",
      "print('cribbon                                   Color ribbon H red, strand yellow, loop green.'),\n",
      "print('cring                                     Colored ring.'),\n",
      "print('cspheres                                  Colored spheres.'),\n",
      "print('discreteCartoonColoring                   Turn on discrete colors between secondary structure elements.'),\n",
      "print('displayFonts                              Print to the screen as labels the 21 font ids in their corresponding fonts in a grid. Each label is an object and appears in the internal gui. You can turn on and off the display of specific fonts.'),\n",
      "print('displayFontspy                            Print to the screen as labels the 21 font ids in their corresponding fonts in a grid. Each label is an object and appears in the internal gui. You can turn on and off the display of specific fonts.'),\n",
      "print('distance                                  H-bond distance between a H-bond donor and acceptor. Edit the name for the ditance, the selection criteria for atom 1, and the selection criteria for atom 2.'),\n",
      "print('doubleBond                                Valence bond.'),\n",
      "print('drawHbonds                                Display H-bonds as dashes colored black.'),\n",
      "print('drawLinks                                 Connect the alpha carbons of residue 1 with 10, 6 with 16, 7  with 17 and 8 with 18. Note that this example requires the draw_links.py [http://pldserver1.biochem.queensu.ca/~rlc/work/pymol/draw_links.py] by Robert Campbell.'),\n",
      "print('dssrBlock1                                Combining DSSR block representation with regular PyMOL cartoons after loading the dssr_block.py script by Thomas Holder.'),\n",
      "print('dssrBlock2                                DSSR block representation with fused blocks after loading the dssr_block.py script by Thomas Holder. The x3dna-dssr executable needs to be in the PATH.'),\n",
      "print('dssrBlock3                                DSSR block representation for a multi-state example after loading the dssr_block.py script by Thomas Holder. The x3dna-dssr executable needs to be in the PATH. Edit the path to Thomas Holder\"s block script.'),\n",
      "print('dssrBlock4                                DSSR block representation with custom coloring after loading the dssr_block.py script by Thomas Holder. The x3dna-dssr executable needs to be in the PATH.'),\n",
      "print('duplicateObject                           Duplicate object. Create an object with the first argument using the selection, which is the second argument.'),\n",
      "print('ellipcol                                  Set color of thernal ellipsoids. The PDB must have anisotopic temperature factors. See https://pymolwiki.org/index.php/Color_Values for the PyMOL colors.'),\n",
      "print('emacsjupyterSourceBlock                   Source block template in org-mode with emacs-jupyter package.'),\n",
      "print('extractPartObj                            Create a new object from part of an existing object.'),\n",
      "print('fasta                                     Print Fasta from PDB file.'),\n",
      "print('fastapy                                   Python version of the command to print the sequence from a PDB file in the fasta format.'),\n",
      "print('fetch2FoFcIsomesh                         Fetch 2FoFc map as an isomesh.'),\n",
      "print('fetch2FoFcIsosurface                      Fetch 2FoFc map as an isosurface. Edit the PDB-ID code. Use lowercase letter for the fifth character to select a single chain. Render and display a contour of this map as a chicken wire representation.'),\n",
      "print('fetch2FoFcVolume                          Fetch 2FoFc map as a volume.'),\n",
      "print('fetchCIF                                  Fetch the atomic coordinates as a cif file from the PDB.'),\n",
      "print('fetchFoFc                                 Fetch fofc map from the PDB.'),\n",
      "print('fetchPath                                 Set path for location to save fetched pdb files.'),\n",
      "print('fetchThreeMaps                            Display three electron density maps as isomesh.'),\n",
      "print('filledRing                                Filled rings in nucleic acids.'),\n",
      "print('findHbonds                                Find H-bonds around a residue.'),\n",
      "print('fog                                       Blur the background atoms.'),\n",
      "print('getCoordinates                            Get coordinates.'),\n",
      "print('getCoordinatespy                          Python version of getCoordinates snippets. Note that the python2 print statement stills works  in pml scripts.'),\n",
      "print('github                                    Print url of README.md file of the pymolsnips repository.'),\n",
      "print('grayscale                                 Apply grayscale coloring using a grayscale version of the PyMOL colors for the elements. This is a Python function. It is invoked in a script file via grayscale(). There is a corresponding gscale shortcut in pymolshortcuts.py that is invoked in a pml script by entering gsale if the functions in pymolshortcuts.py have been loaded with the run pymolshortcuts.py command.'),\n",
      "print('grayscalepy                               Apply grayscale coloring using a grayscale version of the PyMOL colors for the elements. This is a Python function. It is invoked in a script file via gscale(). There is a corresponding gscale shortcut in pymolshortcuts.py that is invoked in a pml script by entering gsale if the functions in pymolshortcuts.py have been loaded with the run pymolshortcuts.py command.'),\n",
      "print('hb                                        Creates an object of all H-bonds found by PyMOL.'),\n",
      "print('hbonddash                                 Set up H-bond dashes.'),\n",
      "print('helpDocs                                  Return the docstring for the help submodule. This command is more concise:  help help.'),\n",
      "print('hideSelection                             Turn off magenta squares on current selection.'),\n",
      "print('hidealtloc                                Hide the partially occupied atoms with the part b alternate locator.'),\n",
      "print('his31asp70                                Display the famous Asp70-His31 salt-bridge from T4 lysozyme that contributes3-5 kcal/mol to protein stability. '),\n",
      "print('importIPythonDisplay                      Imports for using IPython to display images loaded from disk in notebook cells.'),\n",
      "print('importPyMOLandShortcuts                   Imports needed for most users of PyMOL in Jupyter. Combination of importPyMOL and importPythonDisplay.'),\n",
      "print('importPyMOLcmd                            Import the cmd class from the pymol api.'),\n",
      "print('importShortcuts                           Import for loading the functions in the pymolshortcuts.py file. These functions can be run inside cmd.do() without the trailing (). For example, cmd.do(\"rv\").'),\n",
      "print('imports4PyMOLjupyter                      Imports needed for most uses of pymol in Jupyter. Combination of importPyMOL and importPythonDisplay.'),\n",
      "print('internalGUImode2                          Make the background of the internal gui transparent to expand viewport.'),\n",
      "print('internalGUIwidth                          Set the width of the internal gui. Set to 0 to make the internal gui vanish.'),\n",
      "print('ipymolProtein                             Demo of the use of the RPC server with a protein via ipymol. Create a kernel for python interpreter from PyMOL inside Jupyter. See the kernel snippet for an example. See the README.md file on pymolsnips GItHub website or more details https://github.com/MooersLab/pymilsnips. Start pymol in terminal with pymol -R. Select pymol.python as kernel in Juptyer. The double parentheses are required when set_view is run this way.;'),\n",
      "print('ipymolStart                               Code to start the RPC server with ipymol. Start pymol in terminal with pymol -R; select pymol.python as the kernel in juptyer. You may have to create this kernel for the Python interpreter that is inside PyMOL.'),\n",
      "print('kernel                                    A kernel.json file for runnig PyMOL python interpreter in the Jupyter notebook. This code should reside in a folder named pymol.python in the ~/Library/Jupyter/kernels.'),\n",
      "print('labelCAs                                  Label the CA atoms with the Ala333 style format.'),\n",
      "print('labelMainChain                            Label the main chain atoms with the following: resn,resi,atom name.'),\n",
      "print('labelResnResi                             Label CA atom with single-letter residue name and residue number.'),\n",
      "print('labelSS                                   Label SS.'),\n",
      "print('labelWatersHOH                            Label waters with HOH and their residue number.'),\n",
      "print('labelWatersW                              Label waters with W and their reisude number.'),\n",
      "print('ligandSelect                              Make selection of ligand atoms.'),\n",
      "print('listLigandProteinDistances                Print a list of protein--ligand distances. Code by Dan Kulp. Updated for Python3.'),\n",
      "print('listObjects                               Create a list of objects in the internal gui and print this list to the screen.'),\n",
      "print('listSettings                              Print to the screen the settings and their current parameter values. This is the more compact version.'),\n",
      "print('listSettings2                             Print to the screen the settings and their current parameter values.'),\n",
      "print('loadAmberTrajs                            The amber trajectories have to be loaded into the same object.'),\n",
      "print('loadAndAlignManyFiles1                    These are the instructions for loading and aligning multiple files. To save multiple models in a file to separate pdb files.'),\n",
      "print('loadAndAlignManyFiles2                    To align all of the loaded RNA structures in all possible combinations by their C1\" carbon atoms. Yes, this construct is a list comprehension inside a list comprehension!'),\n",
      "print('loadAndAlignManyFiles3                    These are the instructions for loading and aligning multiple files.'),\n",
      "print('loadImage                                 Load image.'),\n",
      "print('loadManyFiles                             Load into PyMOL multiple files with a common file stem. The is a script by Robert Campbell that has been updated for Python3.'),\n",
      "print('loadPDBbs                                 Load PDB ball-and-stick.'),\n",
      "print('loadPDBfile                               Load a pdb file in the current directory.'),\n",
      "print('loadPDBnb                                 Load PDB nb spheres.'),\n",
      "print('loadThreeMaps                             Three electron density as Isomesh.'),\n",
      "print('lsSnips                                   List all snips by tab trigger and description.'),\n",
      "print('lsSnipsPy                                 List all snips by tab trigger and description.'),\n",
      "print('lspymolrc                                 Print list of active pymolrc files.'),\n",
      "print('lspymolrcpy                               Print list of active pymolrc files.'),\n",
      "print('molscriptRibbon                           Show cartoon in the style of Molscript ribbons.'),\n",
      "print('ms                                        Measure surface area of the selection with the msms_pymol.py script.'),\n",
      "print('nmr                                       Show all models in a nmr structure.'),\n",
      "print('nmroff                                    Hide all but first model in a nmr structure.'),\n",
      "print('nmroffpy                                  Hide all but the first model in a nmr structure.'),\n",
      "print('nmrpy                                     Show all models in a nmr structure.'),\n",
      "print('nucleicAcidBackboneTubesSticks            This code shows the cartoon backbone tube as 65% transparent. It hides the rungs of the cartoon. It shows all of the non-H atoms are sticks. The motivation is to have the cartoon highlight the backbone without dominanting the scene.'),\n",
      "print('nucleicAcidCartoon                        Settings for nucliec acid cartoon. The dark blue used for electron density maps is called `density`. The cartoon_ladder_radius should be renamed the cartoon_rung_radius. The dimensions are in Angstroms.'),\n",
      "print('nucleicAcidCartoon2Strands                Coloring two strand differently of a double helix makes it easier to for the viewer to distinguish the two strands. The set command has the syntax of setting_name [, setting_value [, selection [,state ]]] . In this case, the selection has to be global, object, object-state, or per-atom settings. It cannot be a named selection. This is a weak spot in PyMOL. Coloring two strand differently of a double helix makes it easier to for the viewer to distinguish the two strands. Many double-stranded helices have one strand in the asymmetric unit. The second strand is in the biological unit. The coordinates for the second strand are in the pdb1 file type at the PDB. The second strand is in the second state, which is equivalent to the second model in the pdb file. The strands are labeled chain A and B (via the cartoon_nucliec_acid_color setting). The bases are colored differently too (via the cartoon_ladder_color setting).'),\n",
      "print('nucleicAcidCartoonFilledRings             The code provides a cartoon of the loaded nucleic acid that has the ladder rungs replaced by filled rings that are colored by atom type. The code can be applied to any nucleic acid. It is derived from the FR shortuct in pymolshortcuts.py.'),\n",
      "print('nucleicAcidColorbySequence                This code colors the nucleotides by base seqence. It can be applied to any nucleic acid.'),\n",
      "print('nucleicAcidDumbellCartoonColorbySequence  This code colors by the nucleotides by base seqence. The backcone is shown as a flatten ribbon with rolled edges that give the dumbell effect. The code can be applied to any nucleic acid. The code is dervied from the CR and DU shortcuts.'),\n",
      "print('nucleicAcidFlatRibbonColorbySequence      This code colors the nucleotides by base seqence. It can be applied to any nucleic acid. It is dervied from the CR shortcut. The backcone is shown as a flatten ribbon.'),\n",
      "print('numResiNucleic                            Print the number of residues in a nulceic acid (all chains).'),\n",
      "print('numResiNucleicChainA                      Print the number of residues in a nulceic acid chain.'),\n",
      "print('numResiProtein                            Print the number of residues in a protein.'),\n",
      "print('numResiProteinChainA                      Print the number of residues in chain A of a protein.'),\n",
      "print('obipythonSourceBlock                      Source block template in org-mode with the ob-ipython package.'),\n",
      "print('oneBondThicknessColor                     To change stick color and radius for the bond between atom 2 and 3, use the set_bond command.'),\n",
      "print('oneLetter                                 Switch from three letter code to one-letter code for amino acids.'),\n",
      "print('optAlignRNA                               OptiAlign.py by Jason Vertree modified for aligning multiple RNA structures.'),\n",
      "print('pearl                                     The pearl effect is made with two spheres with the outer sphere being transparent.'),\n",
      "print('presetDocs                                Return the docstring for the preset submodule. The command help preset fails to return anything. The command help(pymol.preset) has the same effect as help(preset).'),\n",
      "print('printAtomNames                            Print the atom names of a residue.'),\n",
      "print('printAtomNumbers                          Print the atom name and number of a residue.'),\n",
      "print('printBfactors                             Print the bfactors of a residue.'),\n",
      "print('printBs                                   Print the B-factors of a residue.'),\n",
      "print('printBs2digits                            Print B--factors for a residue with the B-factors rounded off to two decimal places.'),\n",
      "print('printBspartB                              Print B factors of part B of a residue.'),\n",
      "print('printColorByAtomCodes                     Print the codes for color-by-atom (util.cba*) alternates.'),\n",
      "print('printCoordinates                          Print the coordinates of the atoms in a residue.'),\n",
      "print('printDoc                                  Print document string of a function.'),\n",
      "print('printDocpy                                Print document string of a function.'),\n",
      "print('printNameB4ResiX                          Print name and b-factor for a residue.'),\n",
      "print('printNamesCoordinates                     Print the atom names and coordinates of the atoms in a residue.'),\n",
      "print('printNamesCoordinates                     Print the atom names as tuples and coordinates of the atoms in a residue as a list.'),\n",
      "print('printPath                                 Print the path to the currently used PyMOL binary.'),\n",
      "print('printPathpy                               Print the path to the currently used PyMOL binary.'),\n",
      "print('printResiResnNameB4ResiX                  Print resn, resi, atom name, and b-factor. '),\n",
      "print('printResiResnNameB4ResiXNoH               Print name and b-factor for a residue or residue range (e.g. 81:120). The noH variant.'),\n",
      "print('printVDWradii                             Print the van der Waals radii of the atoms in of a residue.'),\n",
      "print('pseudolabel                               Position label with pseudoatom.'),\n",
      "print('puttyCartoon                              Create a putty cartoon. The command may be needed if the above setting does not work. This can happen if using the presets. The command below may be needed if the above setting does not work.This can happen if using the presets. The command below may be needed if the above setting does not work. This can happen if using the presets.'),\n",
      "print('pymoldocs                                 Return to the command history window the docstrings for all of the functions in a module.'),\n",
      "print('pymoldocspy                               Return to the command history window the docstrings for all of the functions in a module.'),\n",
      "print('rdkrpcChem                                Demo of the use of the RPC server with a drug compound via the rdkit python module.'),\n",
      "print('rdkrpcProtein                             Demo of the use of the RPC server with a protein via rdkit.'),\n",
      "print('renameChain                               Rename a chain. '),\n",
      "print('renumAtoms                                Add or substract a atom number offset.'),\n",
      "print('renumResi                                 Add or substract a residue number offset.'),\n",
      "print('ringMode                                  Set the ring mode to a value between 0  and 6 in cartoons of nucleic acids.'),\n",
      "print('rmd                                       Remove all measurement objects in the interal GUI.'),\n",
      "print('rmhb                                      Delete all H-bonds in the selection, which is all by default.'),\n",
      "print('rmwater                                   Remove waters from molecular object.'),\n",
      "print('rotate                                    Rotate a selection about and axis by a given angle.'),\n",
      "print('rv                                        Return settings in rounded format.'),\n",
      "print('rvi                                       Return settings in rounded format while running PyMOL via the RCP server ipymol in a jupyter notebook. This is a modified version of the roundview.py script.'),\n",
      "print('rvr                                       Return settings in rounded format while running PyMOL via the RCP server rdkit in a jupyter notebook. This is a modified version of the roundview.py script.'),\n",
      "print('saln                                      Save an aln flle with a timestamp.'),\n",
      "print('salnpy                                    Save an aln flle with a timestamp. Python version.'),\n",
      "print('sas                                       Show the solvent excluded surface.'),\n",
      "print('savePNG                                   Save a png file of current scene to the current directory. PyMOL writes out only png files. This file may need to be converted to a tiff file. See the png2tiff snippet for a bash script that converts all png files in a folder into tiff files. 1: png filename. 2: x-dimension in pixels. 3: y-dimension in pixels, 1600 x 1000 approximates the golden ratio. Usually want a square for multipanel figures..4: dots per inch. 5: ray tracing off, 0; ray tracing on, 1 should also consider image without ray tracing shadows. '),\n",
      "print('saveSeppy                                 Saves multiple objects into multiple files using an optional prefix name.'),\n",
      "print('saxsEnvelope                              Display SAXS envelope. Edit to enter the name of the bead model object.'),\n",
      "print('sc111                                     Display all symmetry mates in one unit cell. Uses supercell.py in $HOME/Scripts/PyMOLscripts/. Change to your path to supercell.py.'),\n",
      "print('sc112                                     Display all symmetry mates in two unit cells along the c axis. Uses supercell.py in $HOME/Scripts/PyMOLscripts/.'),\n",
      "print('sc113                                     Display all symmetry mates in three unit cels along c. Uses supercell.py in $HOME/Scripts/PyMOLscripts/.'),\n",
      "print('sc114                                     Display all symmetry mates in four unit cells stacked long c-axis. Uses supercell.py in $HOME/Scripts/PyMOLscripts/.'),\n",
      "print('sc121                                     Display all symmetry mates in two unit cells along the b axis. Uses supercell.py in $HOME/Scripts/PyMOLscripts/.'),\n",
      "print('sc122                                     Display all symmetry mates in a 1 x 2 x 2 array of unit cells. Uses supercell.py in $HOME/Scripts/PyMOLscripts/.'),\n",
      "print('sc131                                     Display all symmetry mates in three unit cells along b. Uses supercell.py in $HOME/Scripts/PyMOLscripts/.'),\n",
      "print('sc133                                     Display all symmetry mates in 1 x 3 x 3 array of unit cell. Uses supercell.py in $HOME/Scripts/PyMOLscripts/.'),\n",
      "print('sc141                                     Display all symmetry mates in four unit cells stacked long b-axis. Uses supercell.py in $HOME/Scripts/PyMOLscripts/.'),\n",
      "print('sc144                                     Display all symmetry mates in in a 1 x 4 x 4 array. Uses supercell.py in $HOME/Scripts/PyMOLscripts/.'),\n",
      "print('sc211                                     Display all symmetry mates in two unit cell along a. Uses supercell.py in $HOME/Scripts/PyMOLscripts/.'),\n",
      "print('sc212                                     Display all symmetry mates in a 2 x 1 x 2 arrays of unit cells. Uses supercell.py in $HOME/Scripts/PyMOLscripts/.'),\n",
      "print('sc221                                     Display all symmetry mates in 2 x 2 x 1 array of unit cells. Uses supercell.py in $HOME/Scripts/PyMOLscripts/.'),\n",
      "print('sc222                                     Run supercell script to generate three cells in all directions. This script was written by Thomas Holder.'),\n",
      "print('sc233                                     Display all symmetry mates in a 2 x 3 x 3 array of unit cells. Uses supercell.py in $HOME/Scripts/PyMOLscripts/.'),\n",
      "print('sc311                                     Display all symmetry mates three three unit cells along a. Uses supercell.py in $HOME/Scripts/PyMOLscripts/.'),\n",
      "print('sc313                                     Display all symmetry mates in a 3 x 1 x 3 array of unit cells. Uses supercell.py in $HOME/Scripts/PyMOLscripts/.'),\n",
      "print('sc323                                     Display all symmetry mates in a 3 x 2 x 3 array of unit cells. Uses supercell.py in $HOME/Scripts/PyMOLscripts/.'),\n",
      "print('sc331                                     Display all symmetry mates in 3 x 3 x 1 array of unit cells. Uses supercell.py in $HOME/Scripts/PyMOLscripts/.'),\n",
      "print('sc332                                     Display all symmetry mates in 3 x 3 x 2 array of unit cells. Uses supercell.py in $HOME/Scripts/PyMOLscripts/.'),\n",
      "print('sc333                                     Display all symmetry mates in 3 x 3 x 3 array of unit cells. Uses supercell.py in $HOME/Scripts/PyMOLscripts/.'),\n",
      "print('sc411                                     Display all symmetry mates in four unit cells stacked long a-axis. Uses supercell.py in $HOME/Scripts/PyMOLscripts/.'),\n",
      "print('sc414                                     Display all symmetry mates in a 4 x 1 x 4 array. Uses supercell.py in $HOME/Scripts/PyMOLscripts/.'),\n",
      "print('sc441                                     Display all symmetry mates in four unit cells stacked long a-axis. Uses supercell.py in $HOME/Scripts/PyMOLscripts/.'),\n",
      "print('sc444                                     Display all symmetry mates in a 4 x 4 x4 array of unit cells. Uses supercell.py in $HOME/Scripts/PyMOLscripts/.'),\n",
      "print('sc444                                     Display all symmetry mates in a 4 x 4 x4 array of unit cells. Uses supercell.py in $HOME/Scripts/PyMOLscripts/.'),\n",
      "print('scaleRadiusColor                          Scale the radius and color of atoms as spheres by property in the B-value column.'),\n",
      "print('scaleRadiusColorPythonInsertpy            Python block insert for scaleRadiusColorpy.'),\n",
      "print('scaleRadiusColorpy                        Scale the radius and color of atoms as spheres by property in the B-value column.'),\n",
      "print('sccp4                                     Save electron density map flle with timestamp.'),\n",
      "print('sccp4py                                   Save electron density map flle with timestamp.'),\n",
      "print('sdae                                      Save dae flle with timestamp.'),\n",
      "print('sdaepy                                    Save dae flle with timestamp.'),\n",
      "print('selectAllBut                              Select all nitrogen atom in a selelction except from lysine.'),\n",
      "print('selectAtomsAround                         Select atoms within a radius around a ligand.'),\n",
      "print('selectChain                               Select a chain.'),\n",
      "print('selectElement                             Select atoms by element.'),\n",
      "print('selectHelices                             Select atoms by alpha helices.'),\n",
      "print('selectLoops                               Select atoms by beta loops.'),\n",
      "print('selectName                                Select atoms by name.'),\n",
      "print('selectResi                                Select residues by a range of numbers.'),\n",
      "print('selectResidues                            Select residues by name.'),\n",
      "print('selectResiduesAround                      Select residues within a radius around a ligand.'),\n",
      "print('selectStrands                             Select atoms by beta strands.'),\n",
      "print('setLigandValenceOn                        Display the bond valence of ligands only.'),\n",
      "print('setcolor                                  Set color name to a RGB code.'),\n",
      "print('setpath                                   Set additional path for PyMOL to search on startup.'),\n",
      "print('sidehChainHelper                          In cartoons, hide the backbone atoms of selected residues when showing then as sticks.'),\n",
      "print('sigDigits                                 Set number of decimals places to show in distance labels.'),\n",
      "print('sigang                                    Set angle labels to display 2 decimals places.'),\n",
      "print('sigdihedral                               Set dihedral labels to display 2 decimals places to the right of the decimal point.'),\n",
      "print('sigdist                                   Set distance labels to display 2 decimals.'),\n",
      "print('solventRadius                             Set radius of ball used to make solvent accessible surface.'),\n",
      "print('spng                                      Save png flle with timestamp.'),\n",
      "print('spngpy                                    Save png flle with timestamp.'),\n",
      "print('spse                                      Save pse flle with timestamp'),\n",
      "print('stack                                     Base-stacking figure.'),\n",
      "print('stateOne                                  Select state 1 from a model with multiple states.'),\n",
      "print('stereoDraw                                Stereo draw.'),\n",
      "print('stereoRay                                 Stereo ray.'),\n",
      "print('stereokb                                  Set keyboard shortcut by mapping F1 to stereo.'),\n",
      "print('symexp                                    The code expands the asymmetric unit. It like the generate symmetry mates command but it provides more control over the prefix name of the symmetry mates and the addition of unique segment identifiers for each symmetry mate. The usage: symexp prefix, object, (selection), cutoff, segidFlag. The cutoff is in Angstroms. The segidFlag set to 1 will add unique segids. For related functions, see SC***.'),\n",
      "print('synch                                     Wait until all current commands have been executed. A timeout ensures that that command ecentually returns.'),\n",
      "print('threeMapsIsosurface                       Display three electron density maps as isosurfaces.'),\n",
      "print('threeMapsVolume                           Three electron density as volumes. Make sure to rename map file so that the root filename differs from pdb root filename.'),\n",
      "print('timcolor                                  Run the timcolor function from the pymolshortcuts.py file to color atoms accordings to Tim Mather\"s biophysical coloring scheme for proteins.'),\n",
      "print('turnAboutAxis                             Turn about axis.'),\n",
      "print('undoSelection                             Undo a selection.'),\n",
      "print('unitCellEdgesColorBlack                   Color unit cell edges black. The settings for controlling the unit cell color are hard to find.'),\n",
      "print('volumeRamp                                Volume ramp.'),\n",
      "print('wallart                                   Reset hash_max from 100 to 2000 to enable the saving of 28 inches by 28 inches.'),\n",
      "print('wallartpy                                 Reset hash_max from 100 to 2000 to enable the saving of 28 inches by 28 inches.'),\n",
      "print('waterTriple                               Examples of a triple water pentagon. Zoom in on the selection. Edit by changing the residue number.'),\n",
      "print('writeCommandReference2HTML                Write the command reference to html file in the present working directory. '),\n",
      "print('yrb                                       Run the yrb function from the pymolshortcuts.py file. '),\n",
      "print('------------------------------------------------------------------------------------------------------------------------------------------------------------------------')"
      ]
    },
    {
    "cell_type": "markdown",
    "metadata": {
      "id": "7fed3a5d3086"
      },
      "source": [
        "##lastsnip\n",
        "\n",
        "This is a place holdhoder snippet because the last snippet in the list cannot have a comma after it.\n",
        "\n",
        "*PyMOL*"
      ]
    }
  ]
}
